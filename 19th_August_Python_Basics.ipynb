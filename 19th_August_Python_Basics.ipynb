{
 "cells": [
  {
   "cell_type": "code",
   "execution_count": 11,
   "id": "54bca2e8-9bf2-43c2-aed8-24dfcece428c",
   "metadata": {},
   "outputs": [
    {
     "name": "stdout",
     "output_type": "stream",
     "text": [
      "Swap the values of the variables\n",
      "Before Swap x: 5 and y: 10\n",
      "After Swap x: 10 and y: 10\n"
     ]
    }
   ],
   "source": [
    "print('Swap the values of the variables')\n",
    "#1. Variables\n",
    "x=5\n",
    "y=10\n",
    "#2. Function of Swap\n",
    "def swap(x,y):\n",
    "    print('Before Swap x:',x,'and y:',y)\n",
    "    x=y\n",
    "    y=x\n",
    "    print('After Swap x:',x,'and y:',y)\n",
    "#3. Call Function\n",
    "swap(x,y)"
   ]
  },
  {
   "cell_type": "code",
   "execution_count": 7,
   "id": "036829e0-a765-40ff-8b68-f2d3237f6b69",
   "metadata": {},
   "outputs": [
    {
     "name": "stdout",
     "output_type": "stream",
     "text": [
      "Calculate Area Of Rectanglee\n"
     ]
    },
    {
     "name": "stdin",
     "output_type": "stream",
     "text": [
      "Enter Length 10\n",
      "Enter Breadth 10\n"
     ]
    },
    {
     "name": "stdout",
     "output_type": "stream",
     "text": [
      "Area of Recatngle 100.0\n"
     ]
    }
   ],
   "source": [
    "print('Calculate Area Of Rectangle')\n",
    "#1. Assign Variable & get values from user\n",
    "length=float(input('Enter Length'))\n",
    "breadth=float(input('Enter Breadth'))\n",
    "#2. Write Formula to Calculate Area\n",
    "Area=length*breadth\n",
    "#3. Display Area\n",
    "print('Area of Recatngle:',Area)\n"
   ]
  },
  {
   "cell_type": "code",
   "execution_count": 10,
   "id": "3df02fd6-2f84-4195-9db4-c57b9447a910",
   "metadata": {},
   "outputs": [
    {
     "name": "stdout",
     "output_type": "stream",
     "text": [
      "Temperature Conversion Celsius to Fahrenheit\n"
     ]
    },
    {
     "name": "stdin",
     "output_type": "stream",
     "text": [
      "Enter Temperature in Celsius 75\n"
     ]
    },
    {
     "name": "stdout",
     "output_type": "stream",
     "text": [
      "Temperature in Fahrenheit: 167.0\n"
     ]
    }
   ],
   "source": [
    "print('Temperature Conversion Celsius to Fahrenheit')\n",
    "#1. Take the temperature in Celsius from user\n",
    "Temp_in_C=float(input('Enter Temperature in Celsius'))\n",
    "#2. Write a Formula Of Conversion\n",
    "Temp_in_f=(Temp_in_C * 9/5) + 32\n",
    "#3. Display Temperature in Fahrenheit\n",
    "print('Temperature in Fahrenheit:',Temp_in_f)"
   ]
  },
  {
   "cell_type": "code",
   "execution_count": null,
   "id": "db71ed06-d9c9-4e67-98a6-8b30dba2b1cb",
   "metadata": {},
   "outputs": [],
   "source": [
    "#String based questions"
   ]
  },
  {
   "cell_type": "code",
   "execution_count": null,
   "id": "69ba7407-2f57-4f4e-8149-4bd40e04ee61",
   "metadata": {},
   "outputs": [],
   "source": [
    "#String based questions"
   ]
  },
  {
   "cell_type": "code",
   "execution_count": null,
   "id": "12753a2e-a339-415d-b008-a7fd283b1c6e",
   "metadata": {},
   "outputs": [],
   "source": [
    "#String based questions"
   ]
  },
  {
   "cell_type": "code",
   "execution_count": 12,
   "id": "7e4b3dc8-10fa-42dd-9e83-f7a459c1f30a",
   "metadata": {},
   "outputs": [
    {
     "name": "stdout",
     "output_type": "stream",
     "text": [
      "length of the string\n"
     ]
    },
    {
     "name": "stdin",
     "output_type": "stream",
     "text": [
      "Enter a String Amazing\n"
     ]
    },
    {
     "name": "stdout",
     "output_type": "stream",
     "text": [
      "Length of the String is: 7\n"
     ]
    }
   ],
   "source": [
    "print('Length of the string')\n",
    "#1. Get a string from user\n",
    "string=input('Enter a String')\n",
    "#2. Calculate the length of String\n",
    "length=len(string)\n",
    "#3. Display Length\n",
    "print('Length of the String is:',length)"
   ]
  },
  {
   "cell_type": "code",
   "execution_count": 29,
   "id": "e0562146-a5f8-4a1a-8dc3-d68e817f3ce9",
   "metadata": {},
   "outputs": [
    {
     "name": "stdout",
     "output_type": "stream",
     "text": [
      "counts the number of vowels;\n"
     ]
    },
    {
     "name": "stdin",
     "output_type": "stream",
     "text": [
      "Write Sentence i am star elipse\n"
     ]
    },
    {
     "name": "stdout",
     "output_type": "stream",
     "text": [
      "Number of Vowel: 6\n"
     ]
    }
   ],
   "source": [
    "print('counts the number of vowels')\n",
    "\n",
    "#1. Get a Sentance from User\n",
    "sentence=input('Write Sentence')\n",
    "\n",
    "#2. Initilaize Variable to count\n",
    "count=0\n",
    "\n",
    "#3.Apply Loop so that Check every Word wheather it is loop or not\n",
    "for vowel in sentence:\n",
    "    # Convert all words in lower case\n",
    "    lower=vowel.lower()\n",
    "    \n",
    "    #count word that is aeiou\n",
    "    if lower in'aeiou':\n",
    "        count+=1\n",
    "    \n",
    "#4. Display No. of Vowels\n",
    "print('Number of Vowel:',count)\n",
    "    \n",
    "\n"
   ]
  },
  {
   "cell_type": "code",
   "execution_count": 4,
   "id": "f668210d-35dc-446b-847c-2aee088424e4",
   "metadata": {},
   "outputs": [
    {
     "name": "stdout",
     "output_type": "stream",
     "text": [
      "Reverse String\n"
     ]
    },
    {
     "name": "stdin",
     "output_type": "stream",
     "text": [
      "Enter String; Education\n"
     ]
    },
    {
     "name": "stdout",
     "output_type": "stream",
     "text": [
      "Reversed string is: noitacudE\n"
     ]
    }
   ],
   "source": [
    "print('Reverse String')\n",
    "#1. Get a string from user\n",
    "string=input('Enter String;')\n",
    "\n",
    "#2. Reverse the order using slicing\n",
    "reverse=string[::-1]\n",
    "\n",
    "#3. Display Reversed String\n",
    "print('Reversed string is:',reverse)"
   ]
  },
  {
   "cell_type": "code",
   "execution_count": 5,
   "id": "ce50a67d-0dd4-416a-a57e-5e798403dd17",
   "metadata": {},
   "outputs": [
    {
     "name": "stdout",
     "output_type": "stream",
     "text": [
      "Palindrome Checker\n"
     ]
    },
    {
     "name": "stdin",
     "output_type": "stream",
     "text": [
      "Enter String level\n"
     ]
    },
    {
     "name": "stdout",
     "output_type": "stream",
     "text": [
      "It is palindrome\n"
     ]
    }
   ],
   "source": [
    "print('Palindrome Checker')\n",
    "\n",
    "#1. Take a String from User\n",
    "string=input('Enter String')\n",
    "\n",
    "#2. Convert all letter into small\n",
    "small_string = string.lower()\n",
    "\n",
    "#3. Reverse the String\n",
    "reverse=small_string[::-1]\n",
    "\n",
    "#4.Check wheather it is palindrome or not\n",
    "if string==reverse:\n",
    "    print('It is palindrome')\n",
    "else:\n",
    "    print('It is not a palindrome')\n"
   ]
  },
  {
   "cell_type": "code",
   "execution_count": 7,
   "id": "20a8125c-0949-4c69-9f5d-5be822270bd1",
   "metadata": {},
   "outputs": [
    {
     "name": "stdin",
     "output_type": "stream",
     "text": [
      "Enter string that contain space     ro   hit\n"
     ]
    },
    {
     "name": "stdout",
     "output_type": "stream",
     "text": [
      "Modified String Is: rohit\n"
     ]
    }
   ],
   "source": [
    "#1. Take input from user that contain spaces \n",
    "string=input('Enter string that contain space')\n",
    "\n",
    "#2. Initialize an empty string\n",
    "modified_string=\"\"\n",
    "\n",
    "#3. Check Spaces using loops\n",
    "for alphabat in string:\n",
    "    if alphabat != \" \":\n",
    "        modified_string += alphabat\n",
    "        \n",
    "#4. Modified String \n",
    "print('Modified String Is:',modified_string)"
   ]
  },
  {
   "cell_type": "code",
   "execution_count": null,
   "id": "8c353e12-b0fd-4387-bd7c-3a9d04b86aec",
   "metadata": {},
   "outputs": [],
   "source": []
  }
 ],
 "metadata": {
  "kernelspec": {
   "display_name": "Python 3 (ipykernel)",
   "language": "python",
   "name": "python3"
  },
  "language_info": {
   "codemirror_mode": {
    "name": "ipython",
    "version": 3
   },
   "file_extension": ".py",
   "mimetype": "text/x-python",
   "name": "python",
   "nbconvert_exporter": "python",
   "pygments_lexer": "ipython3",
   "version": "3.10.8"
  }
 },
 "nbformat": 4,
 "nbformat_minor": 5
}
