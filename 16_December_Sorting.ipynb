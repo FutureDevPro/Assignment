{
 "cells": [
  {
   "cell_type": "markdown",
   "metadata": {},
   "source": [
    "Problem 1.Given an array of n numbers, give an algorithm which gives the element appearing maximum\n",
    "number of times?"
   ]
  },
  {
   "cell_type": "code",
   "execution_count": 83,
   "metadata": {},
   "outputs": [],
   "source": [
    "def find_max_occurance(arr):\n",
    "    frequency = {}\n",
    "    for element in arr:\n",
    "        if element in frequency:\n",
    "            frequency[element] += 1\n",
    "        else:\n",
    "            frequency[element] = 1\n",
    "\n",
    "    max_element = None\n",
    "    max_frequency = 0\n",
    "\n",
    "    for element , count in frequency.items(): \n",
    "        if count > max_frequency:\n",
    "            max_element = element\n",
    "            max_frequency = count\n",
    "\n",
    "    return f\"element {element} appearing {max_frequency} number of times\"\n"
   ]
  },
  {
   "cell_type": "code",
   "execution_count": 84,
   "metadata": {},
   "outputs": [
    {
     "name": "stdout",
     "output_type": "stream",
     "text": [
      "element 5 appearing 3 number of times\n"
     ]
    }
   ],
   "source": [
    "arr = [1,2,3,2,4,2,5]\n",
    "print(find_max_occurance(arr))"
   ]
  },
  {
   "cell_type": "markdown",
   "metadata": {},
   "source": [
    "Problem 2 : We are given a list of n-1 integers and these integers are in the range of 1 to n . There are no\n",
    "duplicates in the list. One of the integers is missing in the list. Give an algorithm to find that element Ex:\n",
    "[1,2,4,6,3,7,8] 5 is the missing num."
   ]
  },
  {
   "cell_type": "code",
   "execution_count": 85,
   "metadata": {},
   "outputs": [],
   "source": [
    "def find_missing_num(arr):\n",
    "    n = len(arr)+1\n",
    "    expected_sum = n*(n+1)//2\n",
    "    actual_sum = sum(arr)\n",
    "    missing_num = expected_sum - actual_sum\n",
    "    return missing_num"
   ]
  },
  {
   "cell_type": "code",
   "execution_count": 86,
   "metadata": {},
   "outputs": [
    {
     "name": "stdout",
     "output_type": "stream",
     "text": [
      "Missing number is 5\n"
     ]
    }
   ],
   "source": [
    "arr = [1,2,4,6,3,7,8]\n",
    "print(f\"Missing number is {find_missing_num(arr)}\")"
   ]
  },
  {
   "cell_type": "markdown",
   "metadata": {},
   "source": [
    "Problem 3 : Given an array of n positive numbers. All numbers occurs even number of times except 1 which\n",
    "occurs odd number of times. Find that number in O(n) time and O(1) space. Ex: [1,2,3,2,3,1,3]. 3 is repeats odd\n",
    "times."
   ]
  },
  {
   "cell_type": "code",
   "execution_count": 87,
   "metadata": {},
   "outputs": [],
   "source": [
    "def find_odd_occurance(arr):\n",
    "    result=0\n",
    "    for num in arr:\n",
    "        result ^= num\n",
    "    return result"
   ]
  },
  {
   "cell_type": "code",
   "execution_count": 88,
   "metadata": {},
   "outputs": [
    {
     "name": "stdout",
     "output_type": "stream",
     "text": [
      "3 is repeats odd times\n"
     ]
    }
   ],
   "source": [
    "arr = [1,2,3,2,3,1,3]\n",
    "print(f\"{find_odd_occurance(arr)} is repeats odd times\")"
   ]
  },
  {
   "cell_type": "markdown",
   "metadata": {},
   "source": [
    "Problem 4 : Given an array of n elements. Find two elements in the array such that their sum is equal to given\n",
    "element K."
   ]
  },
  {
   "cell_type": "code",
   "execution_count": 89,
   "metadata": {},
   "outputs": [],
   "source": [
    "def find_sum_pair(arr , K):\n",
    "    seen = set()\n",
    "    for num in arr:\n",
    "        complement = K - num\n",
    "        if complement in seen:\n",
    "            return f\"{num},{complement} are the numbers present in array , their sum is equal to given element {K}\"\n",
    "        seen.add(num)\n",
    "    return None"
   ]
  },
  {
   "cell_type": "code",
   "execution_count": 90,
   "metadata": {},
   "outputs": [
    {
     "name": "stdout",
     "output_type": "stream",
     "text": [
      "7,2 are the numbers present in array , their sum is equal to given element 9\n"
     ]
    }
   ],
   "source": [
    "arr = [2,7,11,15]\n",
    "K = 9\n",
    "print(find_sum_pair(arr,K))"
   ]
  },
  {
   "cell_type": "markdown",
   "metadata": {},
   "source": [
    "Problem 5 : Given an array of both positive and negative numbers, find two numbers such that their sum is\n",
    "closest to 0. Ex: [ 1 ,60 ,-10, 70, -80,85]. Ans : -80,85."
   ]
  },
  {
   "cell_type": "code",
   "execution_count": 91,
   "metadata": {},
   "outputs": [],
   "source": [
    "def closest_sum_to_zero(arr):\n",
    "    arr.sort()\n",
    "    left = 0\n",
    "    right = len(arr)-1\n",
    "    min_sum = float('inf')\n",
    "    closest_pair = None\n",
    "\n",
    "    while left<right:\n",
    "        current_sum = arr[left] + arr[right]\n",
    "        if abs(current_sum) < min_sum:\n",
    "            min_sum = abs(current_sum)\n",
    "            closest_pair = [arr[left] , arr[right]]\n",
    "\n",
    "        if current_sum > 0:\n",
    "            right -= 1\n",
    "        elif current_sum < 0:\n",
    "            left += 1\n",
    "        else:\n",
    "            return arr[left] , arr[right]\n",
    "        \n",
    "    return closest_pair\n",
    "\n",
    "\n"
   ]
  },
  {
   "cell_type": "code",
   "execution_count": 92,
   "metadata": {},
   "outputs": [
    {
     "name": "stdout",
     "output_type": "stream",
     "text": [
      "Closest Pair : [-80, 85]\n"
     ]
    }
   ],
   "source": [
    "arr = [ 1 ,60 ,-10, 70, -80,85]\n",
    "print(f\"Closest Pair : {closest_sum_to_zero(arr)}\")"
   ]
  },
  {
   "cell_type": "markdown",
   "metadata": {},
   "source": [
    "Problem 6 : Given an array of n elements . Find three elements such that their sum is equal to the given\n",
    "number."
   ]
  },
  {
   "cell_type": "code",
   "execution_count": 93,
   "metadata": {},
   "outputs": [],
   "source": [
    "def find_three_sum(arr,target):\n",
    "    arr.sort()\n",
    "    for i in range(len(arr)-2):\n",
    "        left = i+1\n",
    "        right = len(arr)-1\n",
    "        while left < right:\n",
    "            current_sum = arr[i] + arr[left] + arr[right]\n",
    "\n",
    "            if current_sum == target:\n",
    "                return arr[i] , arr[left] , arr[right]\n",
    "            \n",
    "            if current_sum < target:\n",
    "                left += 1\n",
    "            else:\n",
    "                right -= 1\n",
    "    return None"
   ]
  },
  {
   "cell_type": "code",
   "execution_count": 94,
   "metadata": {},
   "outputs": [
    {
     "name": "stdout",
     "output_type": "stream",
     "text": [
      "Three numbers that sum is -1 are (-4, 1, 2)\n"
     ]
    }
   ],
   "source": [
    "arr = [-1 , 0 , 1 , 2 , -4]\n",
    "target = -1\n",
    "print(f\"Three numbers that sum is {target} are {find_three_sum(arr,target)}\")"
   ]
  },
  {
   "cell_type": "markdown",
   "metadata": {},
   "source": [
    "Problem 7 : Given an array of n elements . Find three elements i, j, k in the array such that\n",
    "i * i + j * j = k*k."
   ]
  },
  {
   "cell_type": "code",
   "execution_count": 95,
   "metadata": {},
   "outputs": [],
   "source": [
    "def find_pythagorean_triplet(arr):\n",
    "    squared_arr = [x*x for x in arr]\n",
    "    squared_arr.sort()\n",
    "    for k_index in range(len(arr)-1 , 1 ,-1):\n",
    "        i_index = 0\n",
    "        j_index = k_index-1\n",
    "\n",
    "        while i_index < j_index:\n",
    "            if squared_arr[i_index] + squared_arr[j_index] == squared_arr[k_index]:\n",
    "                return int(squared_arr[i_index]**0.5) , int(squared_arr[j_index]**0.5) , int(squared_arr[k_index]**0.5)\n",
    "            \n",
    "            if squared_arr[i_index] + squared_arr[j_index] < squared_arr[k_index]:\n",
    "                i_index += 1\n",
    "            else:\n",
    "                j_index -= 1\n",
    "        \n",
    "    return None"
   ]
  },
  {
   "cell_type": "code",
   "execution_count": 96,
   "metadata": {},
   "outputs": [
    {
     "name": "stdout",
     "output_type": "stream",
     "text": [
      "three elements i, j, k in the array that satisfies i*i + j*j = k*k : (3, 4, 5)\n"
     ]
    }
   ],
   "source": [
    "arr = [3,1,4,6,5]\n",
    "print(f\"three elements i, j, k in the array that satisfies i*i + j*j = k*k : {find_pythagorean_triplet(arr)}\")\n"
   ]
  },
  {
   "cell_type": "markdown",
   "metadata": {},
   "source": [
    "Problem 8 : An element is a majority if it appears more than n/2 times. Give an algorithm takes an array of n\n",
    "element as argument and identifies a majority (if it exists)."
   ]
  },
  {
   "cell_type": "code",
   "execution_count": 97,
   "metadata": {},
   "outputs": [],
   "source": [
    "def find_majority_element(arr):\n",
    "    candidate = None\n",
    "    count = 0\n",
    "    for num in arr:\n",
    "        if count == 0:\n",
    "            candidate = num\n",
    "            count = 1\n",
    "        elif num == candidate:\n",
    "            count += 1\n",
    "        else:\n",
    "            count -= 1\n",
    "\n",
    "    if candidate is None:\n",
    "        return None\n",
    "    \n",
    "    count = 0\n",
    "    for num in arr:\n",
    "        if num == candidate:\n",
    "            count += 1\n",
    "\n",
    "    if count > len(arr)//2:\n",
    "        return candidate\n",
    "    else:\n",
    "        return None\n"
   ]
  },
  {
   "cell_type": "code",
   "execution_count": 98,
   "metadata": {},
   "outputs": [
    {
     "name": "stdout",
     "output_type": "stream",
     "text": [
      "Majority Element : 4\n"
     ]
    }
   ],
   "source": [
    "arr = [3,3,4,2,4,4,2,4,4]\n",
    "print(f\"Majority Element : {find_majority_element(arr)}\")"
   ]
  },
  {
   "cell_type": "markdown",
   "metadata": {},
   "source": [
    "Problem 9 : Given n × n matrix, and in each row all 1’s are followed by 0’s. Find the row with the maximum\n",
    "number of 0’s."
   ]
  },
  {
   "cell_type": "code",
   "execution_count": 99,
   "metadata": {},
   "outputs": [],
   "source": [
    "def find_row_with_max_zeros(matrix):\n",
    "    max_zeros_row = -1\n",
    "    max_zeros_count = -1\n",
    "\n",
    "    #iterate through each row\n",
    "    for i in range(len(matrix)):\n",
    "        row = matrix[i]\n",
    "        #apply binary  search to find the position in row from where zeros are started in ith row\n",
    "        left = 0\n",
    "        right = len(row) - 1\n",
    "        first_zero_index = -1\n",
    "\n",
    "        while left <= right:\n",
    "            mid = (left + right)//2\n",
    "            if row[mid] == 0:\n",
    "                first_zero_index = mid\n",
    "                right = mid-1\n",
    "            else:\n",
    "                left = mid+1\n",
    "\n",
    "        #count Zeros for ith row\n",
    "        if first_zero_index != -1:\n",
    "            zeros_count = len(row) - first_zero_index\n",
    "        else:\n",
    "            zeros_count = 0\n",
    "\n",
    "        #count Max zeros and find Max zeros row\n",
    "        if zeros_count > max_zeros_count:\n",
    "            max_zeros_count = zeros_count\n",
    "            max_zeros_row = i\n",
    "\n",
    "    return max_zeros_row + 1"
   ]
  },
  {
   "cell_type": "code",
   "execution_count": 100,
   "metadata": {},
   "outputs": [
    {
     "name": "stdout",
     "output_type": "stream",
     "text": [
      "Row that contain maximum zeros : 2\n"
     ]
    }
   ],
   "source": [
    "matrix = [\n",
    "    [1,1,0,0],\n",
    "    [1,0,0,0],\n",
    "    [1,1,1,0],\n",
    "    [1,1,1,1]\n",
    "]\n",
    "\n",
    "print(f\"Row that contain maximum zeros : {find_row_with_max_zeros(matrix)}\")"
   ]
  },
  {
   "cell_type": "markdown",
   "metadata": {},
   "source": [
    "Problem 10 : Sort an array of 0’s, 1’s and 2’s [or R’s, G’s and B’s]: Given an array A[] consisting of 0’s, 1’s and\n",
    "2’s, give an algorithm for sorting A[].The algorithm should put all 0’s first, then all 1’s and finally all 2’s at the\n",
    "end. Example Input = {0,1,1,0,1,2,1,2,0,0,0,1}, Output = {0,0,0,0,0,1,1,1,1,1,2,2}"
   ]
  },
  {
   "cell_type": "code",
   "execution_count": 101,
   "metadata": {},
   "outputs": [],
   "source": [
    "def sort_012(arr):\n",
    "    low = 0\n",
    "    mid = 0\n",
    "    high = len(arr)-1\n",
    "\n",
    "    while mid<=high:\n",
    "        if arr[mid] == 0:\n",
    "            arr[low],arr[mid] = arr[mid],arr[low]\n",
    "            low += 1\n",
    "            mid += 1\n",
    "\n",
    "        elif arr[mid] == 1:\n",
    "            mid += 1\n",
    "\n",
    "        else:\n",
    "            arr[mid],arr[high] = arr[high],arr[mid]\n",
    "            high -= 1\n",
    "        \n",
    "    return arr"
   ]
  },
  {
   "cell_type": "code",
   "execution_count": 102,
   "metadata": {},
   "outputs": [
    {
     "name": "stdout",
     "output_type": "stream",
     "text": [
      "[0, 0, 0, 0, 0, 1, 1, 1, 1, 1, 2, 2]\n"
     ]
    }
   ],
   "source": [
    "arr = [0,1,1,0,1,2,1,2,0,0,0,1]\n",
    "print(sort_012(arr))"
   ]
  }
 ],
 "metadata": {
  "kernelspec": {
   "display_name": "Python 3",
   "language": "python",
   "name": "python3"
  },
  "language_info": {
   "codemirror_mode": {
    "name": "ipython",
    "version": 3
   },
   "file_extension": ".py",
   "mimetype": "text/x-python",
   "name": "python",
   "nbconvert_exporter": "python",
   "pygments_lexer": "ipython3",
   "version": "3.12.0"
  }
 },
 "nbformat": 4,
 "nbformat_minor": 2
}
