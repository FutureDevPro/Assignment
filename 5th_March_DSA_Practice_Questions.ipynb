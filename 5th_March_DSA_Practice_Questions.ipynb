{
 "cells": [
  {
   "cell_type": "markdown",
   "id": "6812b063",
   "metadata": {},
   "source": [
    "1.  Define a doubly linked list  [ Will be done in the class ]"
   ]
  },
  {
   "cell_type": "code",
   "execution_count": 132,
   "id": "c0111013",
   "metadata": {},
   "outputs": [],
   "source": [
    "class Node:\n",
    "    def __init__(self,data):\n",
    "        self.data = data\n",
    "        self.prev = None\n",
    "        self.next = None\n",
    "\n",
    "class DoublyLinkedList:\n",
    "    def __init__(self):\n",
    "        self.head = None\n",
    "\n",
    "    # Insert at the end\n",
    "    def append(self,data):\n",
    "        new_node = Node(data)\n",
    "        if self.head is None:\n",
    "            self.head = new_node\n",
    "            return\n",
    "        last = self.head\n",
    "        while last.next:\n",
    "            last = last.next\n",
    "        last.next = new_node\n",
    "        new_node.prev = last\n",
    "\n",
    "\n",
    "    # Print forward\n",
    "    def print_forward(self):\n",
    "        curr = self.head\n",
    "        while curr:\n",
    "            print(curr.data, end=\" \")\n",
    "            last = curr\n",
    "            curr = curr.next\n",
    "        print()\n",
    "\n",
    "    # Print Backward\n",
    "    def print_backward(self):\n",
    "        curr = self.head\n",
    "        if not curr:\n",
    "            return\n",
    "        while curr.next:\n",
    "            curr = curr.next\n",
    "        while curr:\n",
    "            print(curr.data, end=\" \")\n",
    "            curr = curr.prev\n",
    "        print()"
   ]
  },
  {
   "cell_type": "code",
   "execution_count": 133,
   "id": "3aff7a20",
   "metadata": {},
   "outputs": [],
   "source": [
    "dl1 = DoublyLinkedList()\n",
    "dl1.append(10)\n",
    "dl1.append(20)\n",
    "dl1.append(30)"
   ]
  },
  {
   "cell_type": "code",
   "execution_count": 134,
   "id": "5f4cc228",
   "metadata": {},
   "outputs": [
    {
     "name": "stdout",
     "output_type": "stream",
     "text": [
      "10 20 30 \n"
     ]
    }
   ],
   "source": [
    "dl1.print_forward()"
   ]
  },
  {
   "cell_type": "code",
   "execution_count": 135,
   "id": "e6397c39",
   "metadata": {},
   "outputs": [
    {
     "name": "stdout",
     "output_type": "stream",
     "text": [
      "30 20 10 \n"
     ]
    }
   ],
   "source": [
    "dl1.print_backward()"
   ]
  },
  {
   "cell_type": "markdown",
   "id": "dd81fda7",
   "metadata": {},
   "source": [
    " 2. Write a function to reverse a linked list in-place"
   ]
  },
  {
   "cell_type": "code",
   "execution_count": 136,
   "id": "470faad3",
   "metadata": {},
   "outputs": [],
   "source": [
    "class Node:\n",
    "    def __init__(self,data):\n",
    "        self.data = data\n",
    "        self.next = None\n",
    "        \n",
    "def reverse_linked_list(head):\n",
    "    prev = None\n",
    "    current = head\n",
    "\n",
    "    while current:\n",
    "        next_node = current.next #save the next node\n",
    "        current.next = prev      #reverse the link\n",
    "        prev = current           #move prev to currrent\n",
    "        current = next_node      #move current to next\n",
    "\n",
    "    return prev     #new head of the reversed list"
   ]
  },
  {
   "cell_type": "code",
   "execution_count": 137,
   "id": "f16b329c",
   "metadata": {},
   "outputs": [
    {
     "name": "stdout",
     "output_type": "stream",
     "text": [
      "Original List\n",
      "1 2 3 \n"
     ]
    }
   ],
   "source": [
    "def print_list(head):\n",
    "    while head:\n",
    "        print(head.data, end=\" \")\n",
    "        head = head.next\n",
    "    print()\n",
    "\n",
    "head = Node(1)\n",
    "head.next = Node(2)\n",
    "head.next.next = Node(3)\n",
    "\n",
    "print(\"Original List\")\n",
    "print_list(head)"
   ]
  },
  {
   "cell_type": "code",
   "execution_count": 138,
   "id": "6d21c07c",
   "metadata": {},
   "outputs": [
    {
     "name": "stdout",
     "output_type": "stream",
     "text": [
      "Reversed List:\n",
      "3 2 1 \n"
     ]
    }
   ],
   "source": [
    "head = reverse_linked_list(head)\n",
    "print(\"Reversed List:\")\n",
    "print_list(head)"
   ]
  },
  {
   "cell_type": "markdown",
   "id": "7ef99d41",
   "metadata": {},
   "source": [
    "3.  Detect cycle in a linked list\n"
   ]
  },
  {
   "cell_type": "code",
   "execution_count": 139,
   "id": "92c49b9c",
   "metadata": {},
   "outputs": [],
   "source": [
    "class Node:\n",
    "    def __init__(self,data):\n",
    "        self.data = data\n",
    "        self.next = None\n",
    "\n",
    "def has_cycle(head):\n",
    "    slow = head #Moves one step at a time\n",
    "    fast = head  #Moves two steps at a time\n",
    "\n",
    "    while fast and fast.next:\n",
    "        slow = slow.next\n",
    "        fast = fast.next.next\n",
    "\n",
    "        if slow == fast:\n",
    "            return True #cycle detected\n",
    "        \n",
    "    return False #No cycle detected"
   ]
  },
  {
   "cell_type": "code",
   "execution_count": 140,
   "id": "da6cc788",
   "metadata": {},
   "outputs": [
    {
     "name": "stdout",
     "output_type": "stream",
     "text": [
      "Cycle Detected:\n"
     ]
    }
   ],
   "source": [
    "#create nodes\n",
    "a = Node(1)\n",
    "b = Node(2)\n",
    "c = Node(3)\n",
    "d = Node(4)\n",
    "\n",
    "#Link nodes\n",
    "a.next = b\n",
    "b.next = c\n",
    "c.next = d\n",
    "d.next = b\n",
    "\n",
    "\n",
    "print(\"Cycle Detected:\" if has_cycle(a) else \"No cycle\")"
   ]
  },
  {
   "cell_type": "markdown",
   "id": "682e19b4",
   "metadata": {},
   "source": [
    "4. Merge two sorted linked list into one \\\n",
    " 1->3->5->6->null and \\\n",
    " 2->4->6->8->null \\\n",
    " should be merged to make \\\n",
    " 1->2->3->4->5->6->7->8"
   ]
  },
  {
   "cell_type": "code",
   "execution_count": 141,
   "id": "46a50dce",
   "metadata": {},
   "outputs": [],
   "source": [
    "class Node:\n",
    "    def __init__(self,data):\n",
    "        self.data = data\n",
    "        self.next = None\n",
    "\n",
    "def merge_sorted_lists(l1,l2):\n",
    "    dummy = Node(0)\n",
    "    tail = dummy\n",
    "\n",
    "    while l1 and l2:\n",
    "        if l1.data < l2.data:\n",
    "            tail.next = l1\n",
    "            l1 = l1.next\n",
    "        else:\n",
    "            tail.next = l2\n",
    "            l2 = l2.next\n",
    "        tail = tail.next\n",
    "\n",
    "    #append remaining nodes\n",
    "    tail.next = l1 if l1 else l2\n",
    "    return dummy.next"
   ]
  },
  {
   "cell_type": "code",
   "execution_count": 142,
   "id": "cc6bdbd6",
   "metadata": {},
   "outputs": [],
   "source": [
    "def create_linked_list(arr):\n",
    "    if not arr:\n",
    "        return None\n",
    "    head = Node(arr[0])\n",
    "    current = head\n",
    "    for val in arr[1:]:\n",
    "        current.next = Node(val)\n",
    "        current = current.next\n",
    "    return head\n",
    "\n",
    "def print_list(head):\n",
    "    while head:\n",
    "        print(head.data , end=\" \")\n",
    "        head = head.next\n",
    "    print(\"None\")"
   ]
  },
  {
   "cell_type": "code",
   "execution_count": 143,
   "id": "c0ef764a",
   "metadata": {},
   "outputs": [
    {
     "name": "stdout",
     "output_type": "stream",
     "text": [
      "Merged List:\n",
      "1 2 3 4 5 6 6 8 None\n"
     ]
    }
   ],
   "source": [
    "#create two sorted linked list\n",
    "l1 = create_linked_list([1,3,5,6])\n",
    "l2 = create_linked_list([2,4,6,8])\n",
    "\n",
    "#merge them\n",
    "merged_head = merge_sorted_lists(l1,l2)\n",
    "\n",
    "#print the result\n",
    "print(\"Merged List:\")\n",
    "print_list(merged_head)"
   ]
  },
  {
   "cell_type": "markdown",
   "id": "1184aced",
   "metadata": {},
   "source": [
    "5.  Write a function to remove nth node from the end in a linked list\n",
    " 1->2->3->4->5->6, removing 2nd node from end will return 1->2->3->4->6\n",
    " "
   ]
  },
  {
   "cell_type": "code",
   "execution_count": 144,
   "id": "1cf81a94",
   "metadata": {},
   "outputs": [],
   "source": [
    "class Node:\n",
    "    def __init__(self,data):\n",
    "        self.data = data\n",
    "        self.next = None\n",
    "\n",
    "def remove_nth_from_end(head,n):\n",
    "    dummy = Node(0)\n",
    "    dummy.next = head\n",
    "    slow = fast = dummy\n",
    "\n",
    "    #move fast pointer n+1 steps ahead\n",
    "    for _ in range(n+1):\n",
    "        if fast:\n",
    "            fast = fast.next\n",
    "\n",
    "    #Move both pointers until fast reaches the end\n",
    "    while fast:\n",
    "        slow = slow.next\n",
    "        fast = fast.next\n",
    "\n",
    "    #skip the nth node from end\n",
    "    slow.next = slow.next.next\n",
    "\n",
    "    return dummy.next #return new head"
   ]
  },
  {
   "cell_type": "code",
   "execution_count": 145,
   "id": "f2f0c85f",
   "metadata": {},
   "outputs": [
    {
     "name": "stdout",
     "output_type": "stream",
     "text": [
      "1 -> 2 -> 3 -> 4 -> 6 -> None\n"
     ]
    }
   ],
   "source": [
    "def create_linked_list(arr):\n",
    "    head = Node(arr[0])\n",
    "    current = head\n",
    "    for val in arr[1:]:\n",
    "        current.next = Node(val)\n",
    "        current = current.next\n",
    "    return head\n",
    "\n",
    "def print_list(head):\n",
    "    while head:\n",
    "        print(head.data , end=\" -> \")\n",
    "        head = head.next\n",
    "    print(\"None\")\n",
    "\n",
    "#Example usage\n",
    "head = create_linked_list([1,2,3,4,5,6])\n",
    "head = remove_nth_from_end(head,2)\n",
    "print_list(head)"
   ]
  },
  {
   "cell_type": "markdown",
   "id": "7c321bf4",
   "metadata": {},
   "source": [
    "6.  Remove duplicates from a sorted linked list \\\n",
    " 1->2->3->3->4->4->4->5 should be changed to \\\n",
    "  1->2->3->4->5"
   ]
  },
  {
   "cell_type": "code",
   "execution_count": 146,
   "id": "9fbf8c38",
   "metadata": {},
   "outputs": [],
   "source": [
    "class Node:\n",
    "    def __init__(self,data):\n",
    "        self.data = data\n",
    "        self.next = None\n",
    "\n",
    "def remove_duplicates(head):\n",
    "    current = head\n",
    "\n",
    "    while current and current.next:\n",
    "        if current.data == current.next.data:\n",
    "            #skip the duplicate\n",
    "            current.next = current.next.next\n",
    "        else:\n",
    "            #move to next unique element\n",
    "            current = current.next\n",
    "\n",
    "    return head"
   ]
  },
  {
   "cell_type": "code",
   "execution_count": 147,
   "id": "a8212f0d",
   "metadata": {},
   "outputs": [
    {
     "name": "stdout",
     "output_type": "stream",
     "text": [
      "1 -> 2 -> 3 -> 4 -> 5 -> None\n"
     ]
    }
   ],
   "source": [
    "def create_linked_list(arr):\n",
    "    head = Node(arr[0])\n",
    "    current = head\n",
    "    for val in arr[1:]:\n",
    "        current.next = Node(val)\n",
    "        current = current.next\n",
    "    return head\n",
    "\n",
    "def print_list(head):\n",
    "    while head:\n",
    "        print(head.data , end = \" -> \")\n",
    "        head = head.next\n",
    "    print(\"None\")\n",
    "\n",
    "#Test\n",
    "head = create_linked_list([1,2,3,3,4,4,4,5])\n",
    "head = remove_duplicates(head)\n",
    "print_list(head)"
   ]
  },
  {
   "cell_type": "markdown",
   "id": "1c9d662a",
   "metadata": {},
   "source": [
    "7. Find the intersection of the two linked lists"
   ]
  },
  {
   "cell_type": "code",
   "execution_count": 148,
   "id": "6f4b9b2e",
   "metadata": {},
   "outputs": [],
   "source": [
    "class Node:\n",
    "    def __init__(self,data):\n",
    "        self.data = data\n",
    "        self.next = None\n",
    "\n",
    "def get_intersection_node(headA , headB):\n",
    "    if not headA or not headB:\n",
    "        return None\n",
    "    \n",
    "    a,b = headA , headB\n",
    "\n",
    "    while a != b:\n",
    "        a = a.next if a else headB\n",
    "        b = b.next if b else headA\n",
    "\n",
    "    return a #this is a intersection node or None"
   ]
  },
  {
   "cell_type": "code",
   "execution_count": 149,
   "id": "43f905b1",
   "metadata": {},
   "outputs": [
    {
     "name": "stdout",
     "output_type": "stream",
     "text": [
      "Intersection at node with value: 6\n"
     ]
    }
   ],
   "source": [
    "#shared part\n",
    "shared = Node(6)\n",
    "shared.next  = Node(7)\n",
    "\n",
    "#list A: 1 -> 2 -> 3 -> 6 -> 7\n",
    "headA = Node(1)\n",
    "headA.next = Node(2)\n",
    "headA.next.next = Node(3)\n",
    "headA.next.next.next = shared\n",
    "\n",
    "#list B: 4 -> 5 -> 6 -> 7\n",
    "headB = Node(4)\n",
    "headB.next = Node(5)\n",
    "headB.next.next = shared\n",
    "\n",
    "#Find intersection\n",
    "intersection = get_intersection_node(headA , headB)\n",
    "print(\"Intersection at node with value:\", intersection.data if intersection else \"No intersection\")\n"
   ]
  },
  {
   "cell_type": "markdown",
   "id": "725d016e",
   "metadata": {},
   "source": [
    "8.  Rotate a linked list by k positions to the right \\\n",
    " 1->2->3->4->8->6->9 , after rotating for 2 times becomes , 3->4->8->6->9->1->2"
   ]
  },
  {
   "cell_type": "code",
   "execution_count": 150,
   "id": "2a2cbb3b",
   "metadata": {},
   "outputs": [],
   "source": [
    "class Node:\n",
    "    def __init__(self,data):\n",
    "        self.data = data\n",
    "        self.next = None\n",
    "\n",
    "def rotate_right(head,k):\n",
    "    if not head or not head.next or k == 0:\n",
    "        return head\n",
    "\n",
    "    #step 1 find the length and tail\n",
    "    length = 1\n",
    "    tail = head\n",
    "    while tail.next:\n",
    "        tail = tail.next\n",
    "        length += 1\n",
    "\n",
    "    #step 2 make it circular\n",
    "    tail.next = head #create a loop\n",
    "\n",
    "    #step3 find a new head position\n",
    "    k = k % length\n",
    "    steps_to_new_head = k\n",
    "\n",
    "    #step4 move to new tail\n",
    "    new_tail = head\n",
    "    for _ in range(steps_to_new_head -1):\n",
    "        new_tail = new_tail.next\n",
    "\n",
    "    #step5 break the loop\n",
    "    new_head = new_tail.next\n",
    "    new_tail.next = None\n",
    "\n",
    "    return new_head"
   ]
  },
  {
   "cell_type": "code",
   "execution_count": 151,
   "id": "07a585dd",
   "metadata": {},
   "outputs": [],
   "source": [
    "def create_linked_list(arr):\n",
    "    head = Node(arr[0])\n",
    "    current = head\n",
    "    for val in arr[1:]:\n",
    "        current.next = Node(val)\n",
    "        current = current.next\n",
    "    return head\n",
    "\n",
    "def print_list(head):\n",
    "    while head:\n",
    "        print(head.data , end= \" -> \")\n",
    "        head = head.next\n",
    "    print(\"None\")\n",
    "    "
   ]
  },
  {
   "cell_type": "code",
   "execution_count": 152,
   "id": "6d5faa0a",
   "metadata": {},
   "outputs": [
    {
     "name": "stdout",
     "output_type": "stream",
     "text": [
      "Rotated List\n",
      "3 -> 4 -> 8 -> 6 -> 9 -> 1 -> 2 -> None\n"
     ]
    }
   ],
   "source": [
    "head = create_linked_list([1,2,3,4,8,6,9])\n",
    "rotated = rotate_right(head,2)\n",
    "print(\"Rotated List\")\n",
    "print_list(rotated)"
   ]
  },
  {
   "cell_type": "markdown",
   "id": "f4166ae9",
   "metadata": {},
   "source": [
    "9.  Add Two Numbers Represented by LinkedLists:\n",
    " Given two non-empty linked lists representing two non-negative integers, where the digits are stored in \n",
    "reverse order, add the two numbers and return it as a linked list."
   ]
  },
  {
   "cell_type": "code",
   "execution_count": 153,
   "id": "6ec35c39",
   "metadata": {},
   "outputs": [],
   "source": [
    "class Node:\n",
    "    def __init__(self,data):\n",
    "        self.data = data\n",
    "        self.next = None\n",
    "\n",
    "def add_two_numbers(l1,l2):\n",
    "        dummy = Node(0)\n",
    "        current = dummy\n",
    "        carry = 0\n",
    "\n",
    "        while l1 or l2 or carry:\n",
    "            val1 = l1.data if l1 else 0\n",
    "            val2 = l2.data if l2 else 0\n",
    "            total = val1 + val2 + carry\n",
    "\n",
    "            carry = total // 10 #carry for next digit\n",
    "            current.next = Node(total % 10)  #create new node with current digit\n",
    "            current = current.next\n",
    "\n",
    "            if l1:\n",
    "                l1 = l1.next\n",
    "            if l2:\n",
    "                l2 = l2.next\n",
    "\n",
    "        return dummy.next"
   ]
  },
  {
   "cell_type": "code",
   "execution_count": 154,
   "id": "ecc21f6f",
   "metadata": {},
   "outputs": [
    {
     "name": "stdout",
     "output_type": "stream",
     "text": [
      "Result:\n",
      "7 -> 0 -> 8 -> None\n"
     ]
    }
   ],
   "source": [
    "l1 = create_linked_list([2,4,3]) #342\n",
    "l2 = create_linked_list([5,6,4]) #465\n",
    "\n",
    "result = add_two_numbers(l1,l2)\n",
    "print(\"Result:\")\n",
    "print_list(result)"
   ]
  },
  {
   "cell_type": "markdown",
   "id": "1e57a999",
   "metadata": {},
   "source": [
    "10.  Given a linked list of size N where each node has two links: one pointer points to the next node and the \n",
    "second pointer points to any node in the list. The task is to create a clone of this linked list in O(N) time. \n",
    "Note: The pointer pointing to the next node is ‘next‘ pointer and the one pointing to an arbitrary node is \n",
    "called ‘arbit’ pointer as it can point to any arbitrary node in the linked list. "
   ]
  },
  {
   "cell_type": "code",
   "execution_count": 155,
   "id": "adc36e74",
   "metadata": {},
   "outputs": [],
   "source": [
    "class Node:\n",
    "    def __init__(self,data):\n",
    "        self.data = data\n",
    "        self.next = None\n",
    "        self.arbit = None #this is a random or arbit pointer\n",
    "\n",
    "def clone_linked_list(head):\n",
    "    if not head:\n",
    "        return None\n",
    "    \n",
    "    #step1 Insert cloned nodes next to original nodes\n",
    "    curr = head\n",
    "    while curr:\n",
    "        new_node = Node(curr.data)\n",
    "        new_node.next = curr.next\n",
    "        curr.next = new_node\n",
    "        curr = new_node.next\n",
    "\n",
    "    #step2 set arbit pointers in the cloned nodes\n",
    "    curr = head\n",
    "    while curr:\n",
    "        if curr.arbit:\n",
    "            curr.next.arbit = curr.arbit.next\n",
    "        curr = curr.next.next\n",
    "\n",
    "    #step3 seperate the original and cloned lists\n",
    "    curr = head\n",
    "    clone_head = head.next\n",
    "    while curr:\n",
    "        clone = curr.next\n",
    "        curr.next = clone.next\n",
    "        clone.next = clone.next.next if clone.next else None\n",
    "        curr = curr.next\n",
    "\n",
    "    return clone_head"
   ]
  },
  {
   "cell_type": "code",
   "execution_count": 156,
   "id": "839ff9fe",
   "metadata": {},
   "outputs": [],
   "source": [
    "def print_list(head):\n",
    "    while head:\n",
    "        arbit_val = head.arbit.data if head.arbit else None\n",
    "        print(f\"Data: {head.data},Arbit: {arbit_val}\")\n",
    "        head = head.next"
   ]
  },
  {
   "cell_type": "code",
   "execution_count": 157,
   "id": "af5e45d4",
   "metadata": {},
   "outputs": [
    {
     "name": "stdout",
     "output_type": "stream",
     "text": [
      "Original List:\n",
      "Data: 1,Arbit: 3\n",
      "Data: 2,Arbit: 1\n",
      "Data: 3,Arbit: 5\n",
      "Data: 4,Arbit: 3\n",
      "Data: 5,Arbit: 2\n",
      "\n",
      "Cloned List:\n",
      "Data: 1,Arbit: 3\n",
      "Data: 2,Arbit: 1\n",
      "Data: 3,Arbit: 5\n",
      "Data: 4,Arbit: 3\n",
      "Data: 5,Arbit: 2\n"
     ]
    }
   ],
   "source": [
    "#Create original nodes\n",
    "n1 = Node(1)\n",
    "n2 = Node(2)\n",
    "n3 = Node(3)\n",
    "n4 = Node(4)\n",
    "n5 = Node(5)\\\n",
    "\n",
    "#Set next pointers\n",
    "n1.next = n2\n",
    "n2.next = n3\n",
    "n3.next = n4\n",
    "n4.next = n5\n",
    "\n",
    "#set arbit/random pointers\n",
    "n1.arbit = n3\n",
    "n2.arbit = n1\n",
    "n3.arbit = n5\n",
    "n4.arbit = n3\n",
    "n5.arbit = n2\n",
    "\n",
    "#clone the list\n",
    "cloned_head = clone_linked_list(n1)\n",
    "\n",
    "#print original and cloned list\n",
    "print(\"Original List:\")\n",
    "print_list(n1)\n",
    "\n",
    "print(\"\\nCloned List:\")\n",
    "print_list(cloned_head)"
   ]
  },
  {
   "cell_type": "code",
   "execution_count": null,
   "id": "1063f3af",
   "metadata": {},
   "outputs": [],
   "source": []
  }
 ],
 "metadata": {
  "kernelspec": {
   "display_name": ".venv",
   "language": "python",
   "name": "python3"
  },
  "language_info": {
   "codemirror_mode": {
    "name": "ipython",
    "version": 3
   },
   "file_extension": ".py",
   "mimetype": "text/x-python",
   "name": "python",
   "nbconvert_exporter": "python",
   "pygments_lexer": "ipython3",
   "version": "3.12.0"
  }
 },
 "nbformat": 4,
 "nbformat_minor": 5
}
