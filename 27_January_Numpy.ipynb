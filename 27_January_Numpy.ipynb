{
 "cells": [
  {
   "cell_type": "markdown",
   "metadata": {},
   "source": [
    "1. What is a Python library? Why do we use Python libraries?\n"
   ]
  },
  {
   "cell_type": "markdown",
   "metadata": {},
   "source": [
    "What is a Python library?\n",
    " * A Python library is essentially a collection of pre-written code, including modules and packages, that provides specific functionalities.\n",
    " * Think of it as a toolkit containing ready-to-use tools that you can incorporate into your Python programs.\n",
    " * These libraries save developers from having to write code from scratch for common tasks.\n",
    "\n",
    "\n",
    "Why do we use Python libraries?\n",
    " * Code Reusability:\n",
    "   * Libraries allow you to reuse existing code, which saves time and effort. Instead of writing the same code repeatedly, you can simply import and use the functions and classes provided by a library.\n",
    " * Increased Efficiency:\n",
    "   * Libraries provide optimized and tested code, which can improve the efficiency and performance of your programs.\n",
    " * Expanded Functionality:\n",
    "   * Python libraries offer a vast range of functionalities, from basic tasks like file manipulation to advanced tasks like machine learning and data visualization.\n",
    " * Simplified Development:\n",
    "   * Libraries simplify the development process by providing high-level abstractions and tools that make it easier to solve complex problems.\n",
    " * Community Support:\n",
    "   * Python has a very large and active community, which means there are a huge number of high quality libraries available.\n",
    " * Specialized Tasks:\n",
    "   * Libraries allow programmers to easily carry out specialized tasks. For example, in data science, libraries like Pandas and NumPy are essential for data manipulation and analysis."
   ]
  },
  {
   "cell_type": "markdown",
   "metadata": {},
   "source": [
    "2. What is the difference between Numpy array and List?\n"
   ]
  },
  {
   "cell_type": "markdown",
   "metadata": {},
   "source": [
    "Python Lists:\n",
    " * Flexibility:\n",
    "   * Lists are incredibly versatile. They can hold elements of various data types within the same list (e.g., integers, strings, other lists).\n",
    "   * They are dynamic, meaning their size can change easily. You can add or remove elements as needed.\n",
    " * General-Purpose:\n",
    "   * Lists are a fundamental part of Python and are used for a wide range of general-purpose programming tasks.\n",
    " * Performance:\n",
    "   * For numerical computations, especially with large datasets, lists can be relatively slow.\n",
    "\n",
    "\n",
    "   \n",
    "NumPy Arrays:\n",
    " * Homogeneity:\n",
    "   * NumPy arrays are designed to hold elements of the same data type. This homogeneity is crucial for efficient numerical operations.\n",
    " * Numerical Computing:\n",
    "   * NumPy arrays are optimized for numerical computations. They provide powerful mathematical functions and operations.\n",
    "   * They support \"vectorized\" operations, which means you can perform operations on entire arrays at once, significantly speeding up computations.\n",
    " * Memory Efficiency:\n",
    "   * Due to their homogeneous nature and contiguous memory allocation, NumPy arrays are more memory-efficient than lists, especially for large datasets.\n",
    " * Performance:\n",
    "   * NumPy arrays are significantly faster than lists for numerical operations."
   ]
  },
  {
   "cell_type": "markdown",
   "metadata": {},
   "source": [
    "3. Find the shape, size and dimension of the following array?\n",
    "[[1, 2, 3, 4]\n",
    "[5, 6, 7, 8],\n",
    "[9, 10, 11, 12]]\n"
   ]
  },
  {
   "cell_type": "code",
   "execution_count": 26,
   "metadata": {},
   "outputs": [
    {
     "name": "stdout",
     "output_type": "stream",
     "text": [
      "Shape : (3, 4)\n",
      "size : 12\n",
      "dimension : 2\n"
     ]
    }
   ],
   "source": [
    "import numpy as np\n",
    "\n",
    "arr = np.array([[1, 2, 3, 4],[5, 6, 7, 8],[9, 10, 11, 12]])\n",
    "\n",
    "#Find the shape\n",
    "shape = arr.shape\n",
    "print(f\"Shape : {shape}\")\n",
    "\n",
    "#Find the size\n",
    "size = arr.size\n",
    "print(f\"size : {size}\")\n",
    "\n",
    "#Find the dimension\n",
    "dimension = arr.ndim\n",
    "print(f\"dimension : {dimension}\")"
   ]
  },
  {
   "cell_type": "markdown",
   "metadata": {},
   "source": [
    "4. Write python code to access the first row of the following array?\n",
    "[[1, 2, 3, 4]\n",
    "[5, 6, 7, 8],\n",
    "[9, 10, 11, 12]]\n"
   ]
  },
  {
   "cell_type": "code",
   "execution_count": 27,
   "metadata": {},
   "outputs": [
    {
     "name": "stdout",
     "output_type": "stream",
     "text": [
      "First row : [1 2 3 4]\n"
     ]
    }
   ],
   "source": [
    "arr = np.array([[1, 2, 3, 4],[5, 6, 7, 8],[9, 10, 11, 12]])\n",
    "first_row = arr[0]\n",
    "print(f\"First row : {first_row}\")"
   ]
  },
  {
   "cell_type": "markdown",
   "metadata": {},
   "source": [
    "5. How do you access the element at the third row and fourth column from the given numpy array?\n",
    "[[1, 2, 3, 4]\n",
    "[5, 6, 7, 8],\n",
    "[9, 10, 11, 12]]\n"
   ]
  },
  {
   "cell_type": "code",
   "execution_count": 28,
   "metadata": {},
   "outputs": [
    {
     "name": "stdout",
     "output_type": "stream",
     "text": [
      "the element at the third row and fourth column : 12\n"
     ]
    }
   ],
   "source": [
    "arr = np.array([[1, 2, 3, 4],[5, 6, 7, 8],[9, 10, 11, 12]])\n",
    "element = arr[2,3] #indexing start from 0\n",
    "print(f\"the element at the third row and fourth column : {element}\")"
   ]
  },
  {
   "cell_type": "markdown",
   "metadata": {},
   "source": [
    "6. Write code to extract all odd-indexed elements from the given numpy array?\n",
    "[[1, 2, 3, 4]\n",
    "[5, 6, 7, 8],\n",
    "[9, 10, 11, 12]]\n"
   ]
  },
  {
   "cell_type": "code",
   "execution_count": 29,
   "metadata": {},
   "outputs": [
    {
     "name": "stdout",
     "output_type": "stream",
     "text": [
      "All odd-indexed elements : \n",
      "[[ 2  4]\n",
      " [ 6  8]\n",
      " [10 12]]\n"
     ]
    }
   ],
   "source": [
    "arr = np.array([[1, 2, 3, 4],[5, 6, 7, 8],[9, 10, 11, 12]])\n",
    "odd_indexed_elements = arr[:,1::2]\n",
    "#Select all rows and columns starting from index 1 with a step of 2\n",
    "print(f\"All odd-indexed elements : \\n{odd_indexed_elements}\")"
   ]
  },
  {
   "cell_type": "markdown",
   "metadata": {},
   "source": [
    "7. How can you generate a random 3x3 matrix with values between 0 and 1?\n"
   ]
  },
  {
   "cell_type": "code",
   "execution_count": 30,
   "metadata": {},
   "outputs": [
    {
     "name": "stdout",
     "output_type": "stream",
     "text": [
      "a random 3x3 matrix with values between 0 and 1 : \n",
      "[[0.11242208 0.233635   0.38285841]\n",
      " [0.7837611  0.11153443 0.35826489]\n",
      " [0.84755497 0.80219377 0.1832312 ]]\n"
     ]
    }
   ],
   "source": [
    "random_matrix = np.random.rand(3,3)\n",
    "print(f\"a random 3x3 matrix with values between 0 and 1 : \\n{random_matrix}\")"
   ]
  },
  {
   "cell_type": "markdown",
   "metadata": {},
   "source": [
    "8. Describe the difference between np.random.rand and np.random.randn?"
   ]
  },
  {
   "cell_type": "markdown",
   "metadata": {},
   "source": [
    "1. np.random.rand()\n",
    " * Distribution: Generates random numbers from a uniform distribution over the half-open interval [0, 1). This means that every number within that range has an equal probability of being generated.\n",
    " * Arguments: Takes the dimensions of the output array as arguments (e.g., np.random.rand(3) for a 1D array of length 3, np.random.rand(2, 4) for a 2x4 matrix).\n",
    " * Output: Returns an array filled with random floats between 0 and 1.\n",
    "\n",
    "\n",
    "2. np.random.randn()\n",
    " * Distribution: Generates random numbers from the standard normal distribution (also known as the Gaussian distribution). This distribution has a mean of 0 and a standard deviation of 1.\n",
    " * Arguments: Takes the dimensions of the output array as arguments (similar to np.random.rand).\n",
    " * Output: Returns an array filled with random floats from the standard normal distribution. This means that values close to 0 are more likely to be generated, and values further away from 0 (both positive and negative) are less likely."
   ]
  },
  {
   "cell_type": "markdown",
   "metadata": {},
   "source": [
    "9. Write code to increase the dimension of the following array?\n",
    "[[1, 2, 3, 4]\n",
    "[5, 6, 7, 8],\n",
    "[9, 10, 11, 12]]\n"
   ]
  },
  {
   "cell_type": "code",
   "execution_count": 31,
   "metadata": {},
   "outputs": [
    {
     "name": "stdout",
     "output_type": "stream",
     "text": [
      "Original Array Shape : (3, 4)\n",
      "Expanded Array Shape : (1, 3, 4)\n",
      "Expanded array : \n",
      "[[[ 1  2  3  4]\n",
      "  [ 5  6  7  8]\n",
      "  [ 9 10 11 12]]]\n"
     ]
    }
   ],
   "source": [
    "arr = np.array([[1, 2, 3, 4],[5, 6, 7, 8],[9, 10, 11, 12]])\n",
    "\n",
    "expanded_array = np.expand_dims(arr,axis = 0) \n",
    "#adding a dimension at the beginning (axis = 0)\n",
    "\n",
    "print(f\"Original Array Shape : {arr.shape}\")\n",
    "\n",
    "print(f\"Expanded Array Shape : {expanded_array.shape}\")\n",
    "\n",
    "print(f\"Expanded array : \\n{expanded_array}\")"
   ]
  },
  {
   "cell_type": "markdown",
   "metadata": {},
   "source": [
    "10. How to transpose the following array in NumPy?\n",
    "[[1, 2, 3, 4]\n",
    "[5, 6, 7, 8],\n",
    "[9, 10, 11, 12]]\n"
   ]
  },
  {
   "cell_type": "code",
   "execution_count": 32,
   "metadata": {},
   "outputs": [
    {
     "name": "stdout",
     "output_type": "stream",
     "text": [
      "Original Array : \n",
      "[[ 1  2  3  4]\n",
      " [ 5  6  7  8]\n",
      " [ 9 10 11 12]]\n",
      "\n",
      "Transposed Array : \n",
      "[[ 1  5  9]\n",
      " [ 2  6 10]\n",
      " [ 3  7 11]\n",
      " [ 4  8 12]]\n"
     ]
    }
   ],
   "source": [
    "arr = np.array([[1, 2, 3, 4],[5, 6, 7, 8],[9, 10, 11, 12]])\n",
    "transposed_array = arr.T\n",
    "print(f\"Original Array : \\n{arr}\\n\")\n",
    "\n",
    "print(f\"Transposed Array : \\n{transposed_array}\")"
   ]
  },
  {
   "cell_type": "markdown",
   "metadata": {},
   "source": [
    "Perform the following operation using Python :\n",
    "\n",
    "1. Index wise multiplication\n"
   ]
  },
  {
   "cell_type": "code",
   "execution_count": 33,
   "metadata": {},
   "outputs": [
    {
     "name": "stdout",
     "output_type": "stream",
     "text": [
      "Index Wise Multiplication : \n",
      "[[16 30 42 52]\n",
      " [60 66 70 72]\n",
      " [72 70 66 60]\n",
      " [52 42 30 16]]\n"
     ]
    }
   ],
   "source": [
    "Matrix_A = np.array([[1,2,3,4],[5,6,7,8],[9,10,11,12],[13,14,15,16]])\n",
    "Matrix_B = np.array([[16,15,14,13],[12,11,10,9],[8,7,6,5],[4,3,2,1]])\n",
    "\n",
    "index_wise_mul = Matrix_A * Matrix_B\n",
    "print(f\"Index Wise Multiplication : \\n{index_wise_mul}\")"
   ]
  },
  {
   "cell_type": "markdown",
   "metadata": {},
   "source": [
    "2. Matrix multiplication\n"
   ]
  },
  {
   "cell_type": "code",
   "execution_count": 34,
   "metadata": {},
   "outputs": [
    {
     "name": "stdout",
     "output_type": "stream",
     "text": [
      "Matrix Multiplication : \n",
      "[[ 80  70  60  50]\n",
      " [240 214 188 162]\n",
      " [400 358 316 274]\n",
      " [560 502 444 386]]\n"
     ]
    }
   ],
   "source": [
    "Matrix_A = np.array([[1,2,3,4],[5,6,7,8],[9,10,11,12],[13,14,15,16]])\n",
    "Matrix_B = np.array([[16,15,14,13],[12,11,10,9],[8,7,6,5],[4,3,2,1]])\n",
    "\n",
    "matrix_mul = Matrix_A @ Matrix_B\n",
    "print(f\"Matrix Multiplication : \\n{matrix_mul}\")"
   ]
  },
  {
   "cell_type": "markdown",
   "metadata": {},
   "source": [
    "3. Add both the matrics\n"
   ]
  },
  {
   "cell_type": "code",
   "execution_count": 35,
   "metadata": {},
   "outputs": [
    {
     "name": "stdout",
     "output_type": "stream",
     "text": [
      "Matrix Addition : \n",
      "[[17 17 17 17]\n",
      " [17 17 17 17]\n",
      " [17 17 17 17]\n",
      " [17 17 17 17]]\n"
     ]
    }
   ],
   "source": [
    "Matrix_A = np.array([[1,2,3,4],[5,6,7,8],[9,10,11,12],[13,14,15,16]])\n",
    "Matrix_B = np.array([[16,15,14,13],[12,11,10,9],[8,7,6,5],[4,3,2,1]])\n",
    "\n",
    "matrix_add = Matrix_A + Matrix_B\n",
    "print(f\"Matrix Addition : \\n{matrix_add}\")"
   ]
  },
  {
   "cell_type": "markdown",
   "metadata": {},
   "source": [
    "4. Subtract matrix B from A\n"
   ]
  },
  {
   "cell_type": "code",
   "execution_count": 36,
   "metadata": {},
   "outputs": [
    {
     "name": "stdout",
     "output_type": "stream",
     "text": [
      "Matrix Subtraction : \n",
      "[[-15 -13 -11  -9]\n",
      " [ -7  -5  -3  -1]\n",
      " [  1   3   5   7]\n",
      " [  9  11  13  15]]\n"
     ]
    }
   ],
   "source": [
    "Matrix_A = np.array([[1,2,3,4],[5,6,7,8],[9,10,11,12],[13,14,15,16]])\n",
    "Matrix_B = np.array([[16,15,14,13],[12,11,10,9],[8,7,6,5],[4,3,2,1]])\n",
    "\n",
    "matrix_subtract = Matrix_A - Matrix_B\n",
    "print(f\"Matrix Subtraction : \\n{matrix_subtract}\")"
   ]
  },
  {
   "cell_type": "markdown",
   "metadata": {},
   "source": [
    "5. Divide Matrix B by A"
   ]
  },
  {
   "cell_type": "code",
   "execution_count": 37,
   "metadata": {},
   "outputs": [
    {
     "name": "stdout",
     "output_type": "stream",
     "text": [
      "Matrix Division : \n",
      "[[16.          7.5         4.66666667  3.25      ]\n",
      " [ 2.4         1.83333333  1.42857143  1.125     ]\n",
      " [ 0.88888889  0.7         0.54545455  0.41666667]\n",
      " [ 0.30769231  0.21428571  0.13333333  0.0625    ]]\n"
     ]
    }
   ],
   "source": [
    "Matrix_A = np.array([[1,2,3,4],[5,6,7,8],[9,10,11,12],[13,14,15,16]])\n",
    "Matrix_B = np.array([[16,15,14,13],[12,11,10,9],[8,7,6,5],[4,3,2,1]])\n",
    "\n",
    "matrix_divide = Matrix_B / Matrix_A\n",
    "print(f\"Matrix Division : \\n{matrix_divide:}\")"
   ]
  },
  {
   "cell_type": "markdown",
   "metadata": {},
   "source": [
    "12. Which function in Numpy can be used to swap the byte order of an array?\n"
   ]
  },
  {
   "cell_type": "markdown",
   "metadata": {},
   "source": [
    "The NumPy function used to swap the byte order of an array is numpy.ndarray.byteswap().\n",
    "Explanation:\n",
    " * Byte Order: Refers to how multi-byte data types (like integers greater than 8 bits) are stored in memory. There are two primary byte orders:\n",
    "   * Big-endian: The most significant byte is stored first.\n",
    "   * Little-endian: The least significant byte is stored first.\n",
    " * byteswap(): This method changes the byte order of the array elements in-place. It flips the order of bytes within each element."
   ]
  },
  {
   "cell_type": "markdown",
   "metadata": {},
   "source": [
    "13. What is the significance of the np.linalg.inv function?\n"
   ]
  },
  {
   "cell_type": "markdown",
   "metadata": {},
   "source": [
    "The np.linalg.inv() function in NumPy is used to compute the inverse of a square matrix. Its significance lies in its applications in various fields, including:\n",
    "1. Solving Systems of Linear Equations:\n",
    " * If you have a system of linear equations represented as Ax = b, where A is a square matrix of coefficients, x is the vector of unknowns, and b is the vector of constants, you can solve for x by calculating the inverse of A: x = A⁻¹b.\n",
    "2. Finding the Inverse of a Transformation:\n",
    " * In linear algebra, matrices can represent linear transformations. The inverse of a matrix represents the inverse transformation. If you have a transformation matrix, finding its inverse allows you to reverse the transformation.\n",
    "3. Calculating Covariance Matrices:\n",
    " * In statistics and machine learning, covariance matrices are used to describe the relationships between variables. The inverse of a covariance matrix is used in various statistical calculations, such as computing the Mahalanobis distance.\n",
    "4. Matrix Division (in a sense):\n",
    " * While you can't directly \"divide\" matrices, you can use the inverse to achieve an equivalent result. If you want to solve for X in the equation AX = B, you can multiply both sides by the inverse of A: X = A⁻¹B.\n",
    "5. Optimization Problems:\n",
    " * In many optimization problems, particularly those involving quadratic functions, the inverse of a Hessian matrix (a matrix of second-order partial derivatives) is used to find the minimum or maximum of the function."
   ]
  },
  {
   "cell_type": "markdown",
   "metadata": {},
   "source": [
    "14. What does the np.reshape function do, and how is it used?\n"
   ]
  },
  {
   "cell_type": "markdown",
   "metadata": {},
   "source": [
    "The np.reshape() function in NumPy is used to give a new shape to an array without changing its data. It essentially rearranges the elements of an array into a different configuration.\n",
    "How it works:\n",
    " * Input: It takes an array and a new shape (a tuple of integers) as input.\n",
    " * Output: It returns a new array object with the specified shape.\n",
    " * Data Preservation: The total number of elements in the original array and the reshaped array must be the same. The function only changes the organization of the elements, not the elements themselves."
   ]
  },
  {
   "cell_type": "code",
   "execution_count": 38,
   "metadata": {},
   "outputs": [
    {
     "name": "stdout",
     "output_type": "stream",
     "text": [
      "Reshaped array : \n",
      "[[0 1 2 3]\n",
      " [4 5 6 7]]\n",
      "flatten Array : [1 2 3 4 5 6 7 8 9]\n"
     ]
    }
   ],
   "source": [
    "# Changing array dimension\n",
    "arr = np.arange(8)\n",
    "reshaped_arr = arr.reshape((2,4))\n",
    "print(f\"Reshaped array : \\n{reshaped_arr}\")\n",
    "\n",
    "#Flattening Arrays\n",
    "\n",
    "arr = np.array([[1,2,3],[4,5,6],[7,8,9]])\n",
    "flatten_arr = arr.reshape(-1)\n",
    "print(f\"flatten Array : {flatten_arr}\")"
   ]
  },
  {
   "cell_type": "markdown",
   "metadata": {},
   "source": [
    "15. What is broadcasting in Numpy?"
   ]
  },
  {
   "cell_type": "markdown",
   "metadata": {},
   "source": [
    "Broadcasting in NumPy is a powerful mechanism that allows NumPy to perform arithmetic operations on arrays with different shapes. It automatically expands the smaller array to match the shape of the larger array, without actually creating copies of the data.\n",
    "How it Works:\n",
    "NumPy follows a set of rules to determine if broadcasting is possible between two arrays:\n",
    " * Dimension Compatibility: The dimensions of the arrays must be compatible. This means:\n",
    "   * Either the dimensions are equal, or\n",
    "   * One of them is 1.\n",
    " * Alignment from Right: NumPy compares the dimensions of the arrays from right to left (trailing dimensions first)."
   ]
  },
  {
   "cell_type": "code",
   "execution_count": 39,
   "metadata": {},
   "outputs": [
    {
     "name": "stdout",
     "output_type": "stream",
     "text": [
      "[[11 12 13]\n",
      " [14 15 16]\n",
      " [17 18 19]]\n"
     ]
    }
   ],
   "source": [
    "arr = np.array([[1,2,3],[4,5,6],[7,8,9]])\n",
    "scalar = 10\n",
    "\n",
    "result = arr + scalar #Broadcasting\n",
    "\n",
    "print(result)"
   ]
  }
 ],
 "metadata": {
  "kernelspec": {
   "display_name": "Python 3",
   "language": "python",
   "name": "python3"
  },
  "language_info": {
   "codemirror_mode": {
    "name": "ipython",
    "version": 3
   },
   "file_extension": ".py",
   "mimetype": "text/x-python",
   "name": "python",
   "nbconvert_exporter": "python",
   "pygments_lexer": "ipython3",
   "version": "3.12.0"
  }
 },
 "nbformat": 4,
 "nbformat_minor": 2
}
