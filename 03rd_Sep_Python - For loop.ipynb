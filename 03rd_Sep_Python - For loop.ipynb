{
  "cells": [
    {
      "cell_type": "markdown",
      "metadata": {},
      "source": [
        "Basic Level"
      ]
    },
    {
      "cell_type": "markdown",
      "metadata": {},
      "source": [
        "#1. Write a Python program to print the numbers from 1 to 10 using a `for` loop."
      ]
    },
    {
      "cell_type": "code",
      "execution_count": null,
      "metadata": {
        "trusted": true
      },
      "outputs": [
        {
          "name": "stdout",
          "output_type": "stream",
          "text": [
            "1\n",
            "2\n",
            "3\n",
            "4\n",
            "5\n",
            "6\n",
            "7\n",
            "8\n",
            "9\n",
            "10\n"
          ]
        }
      ],
      "source": [
        "for i in range(1, 11):\n",
        "  print(i)\n"
      ]
    },
    {
      "cell_type": "markdown",
      "metadata": {},
      "source": [
        "#2. Create a program that calculates the sum of all numbers in a list using a `for` loop."
      ]
    },
    {
      "cell_type": "code",
      "execution_count": null,
      "metadata": {
        "trusted": true
      },
      "outputs": [
        {
          "name": "stdout",
          "output_type": "stream",
          "text": [
            "55\n"
          ]
        }
      ],
      "source": [
        "list = [1, 2, 3, 4, 5, 6, 7, 8, 9, 10]\n",
        "sum = 0\n",
        "for i in list:\n",
        "  sum += i\n",
        "print(sum)"
      ]
    },
    {
      "cell_type": "markdown",
      "metadata": {},
      "source": [
        "#3. Write a program to print the characters of a string in reverse order using a `for` loop."
      ]
    },
    {
      "cell_type": "code",
      "execution_count": null,
      "metadata": {
        "trusted": true
      },
      "outputs": [
        {
          "name": "stdout",
          "output_type": "stream",
          "text": [
            "elgooG yeH"
          ]
        }
      ],
      "source": [
        "string = \"Hey Google\"\n",
        "for i in string[::-1]:\n",
        "  print(i, end='')"
      ]
    },
    {
      "cell_type": "markdown",
      "metadata": {},
      "source": [
        "#4. Develop a program that finds the factorial of a given number using a `for` loop."
      ]
    },
    {
      "cell_type": "code",
      "execution_count": 2,
      "metadata": {},
      "outputs": [
        {
          "name": "stdout",
          "output_type": "stream",
          "text": [
            "1\n",
            "2\n",
            "4\n",
            "5\n",
            "10\n"
          ]
        }
      ],
      "source": [
        "num = int(input(\"Enter a number: \"))\n",
        "for i in range(1, num):\n",
        "  if num % i == 0:\n",
        "    print(i)\n"
      ]
    },
    {
      "cell_type": "markdown",
      "metadata": {},
      "source": [
        "#5. Create a program to print the multiplication table of a given number using a `for` loop."
      ]
    },
    {
      "cell_type": "code",
      "execution_count": 5,
      "metadata": {},
      "outputs": [
        {
          "name": "stdout",
          "output_type": "stream",
          "text": [
            "5 x 0 = 0\n",
            "5 x 1 = 5\n",
            "5 x 2 = 10\n",
            "5 x 3 = 15\n",
            "5 x 4 = 20\n",
            "5 x 5 = 25\n",
            "5 x 6 = 30\n",
            "5 x 7 = 35\n",
            "5 x 8 = 40\n",
            "5 x 9 = 45\n",
            "5 x 10 = 50\n"
          ]
        }
      ],
      "source": [
        "num = int(input(\"Enter a number: \"))\n",
        "for i in range(11):\n",
        "  print(f\"{num} x {i} = {num*i}\")"
      ]
    },
    {
      "cell_type": "markdown",
      "metadata": {},
      "source": [
        "#6. Write a program that counts the number of even and odd numbers in a list using a `for` loop."
      ]
    },
    {
      "cell_type": "code",
      "execution_count": 6,
      "metadata": {},
      "outputs": [
        {
          "name": "stdout",
          "output_type": "stream",
          "text": [
            "Even: 5\n",
            "Odd: 5\n"
          ]
        }
      ],
      "source": [
        "list = [1, 2, 3, 4, 5, 6, 7, 8, 9, 10]\n",
        "even = 0\n",
        "odd = 0\n",
        "for i in list:\n",
        "  if i % 2 == 0:\n",
        "    even += 1\n",
        "  else:\n",
        "    odd += 1\n",
        "print(f\"Even: {even}\\nOdd: {odd}\")"
      ]
    },
    {
      "cell_type": "markdown",
      "metadata": {},
      "source": [
        "#7. Develop a program that prints the squares of numbers from 1 to 5 using a `for` loop."
      ]
    },
    {
      "cell_type": "code",
      "execution_count": 7,
      "metadata": {},
      "outputs": [
        {
          "name": "stdout",
          "output_type": "stream",
          "text": [
            "square of 1 = 1\n",
            "square of 2 = 4\n",
            "square of 3 = 9\n",
            "square of 4 = 16\n",
            "square of 5 = 25\n"
          ]
        }
      ],
      "source": [
        "for i in range(1, 6):\n",
        "  print(f\"square of {i} = {i*i}\")"
      ]
    },
    {
      "cell_type": "markdown",
      "metadata": {},
      "source": [
        "#8. Create a program to find the length of a string without using the `len()` function."
      ]
    },
    {
      "cell_type": "code",
      "execution_count": 8,
      "metadata": {},
      "outputs": [
        {
          "name": "stdout",
          "output_type": "stream",
          "text": [
            "length of a I am a developer is 16\n"
          ]
        }
      ],
      "source": [
        "string = input(\"Enter String \")\n",
        "count = 0\n",
        "for i in string:\n",
        "  count += 1\n",
        "print(f\"length of a {string} is {count}\")"
      ]
    },
    {
      "cell_type": "markdown",
      "metadata": {},
      "source": [
        "#9. Write a program that calculates the average of a list of numbers using a `for` loop."
      ]
    },
    {
      "cell_type": "code",
      "execution_count": 9,
      "metadata": {},
      "outputs": [
        {
          "name": "stdout",
          "output_type": "stream",
          "text": [
            "average of a list is 5.5\n"
          ]
        }
      ],
      "source": [
        "list1 = [1, 4, 6, 7, 3, 5, 8, 9, 5, 7]\n",
        "add = 0\n",
        "for i in list1:\n",
        "  add += i\n",
        "average = add / len(list1)\n",
        "\n",
        "print(f\"average of a list is {average}\")"
      ]
    },
    {
      "cell_type": "markdown",
      "metadata": {},
      "source": [
        "#10. Develop a program that prints the first `n` Fibonacci numbers using a `for` loop."
      ]
    },
    {
      "cell_type": "code",
      "execution_count": 11,
      "metadata": {},
      "outputs": [
        {
          "name": "stdout",
          "output_type": "stream",
          "text": [
            "0\n",
            "1\n",
            "1\n",
            "2\n",
            "3\n",
            "5\n",
            "8\n",
            "13\n",
            "21\n",
            "34\n",
            "55\n",
            "89\n",
            "144\n",
            "233\n",
            "377\n"
          ]
        }
      ],
      "source": [
        "num = int(input(\"Enter a number: \"))\n",
        "a = 0\n",
        "b = 1\n",
        "for i in range(num):\n",
        "  print(a)\n",
        "  c = a + b\n",
        "  a = b\n",
        "  b = c\n"
      ]
    },
    {
      "cell_type": "markdown",
      "metadata": {},
      "source": [
        "#Intermediate Level:"
      ]
    },
    {
      "cell_type": "markdown",
      "metadata": {},
      "source": [
        "#11. Write a program to check if a given list contains any duplicates using a `for` loop."
      ]
    },
    {
      "cell_type": "code",
      "execution_count": 12,
      "metadata": {},
      "outputs": [
        {
          "name": "stdout",
          "output_type": "stream",
          "text": [
            "duplicate value 5 \n",
            "duplicate value 3 \n"
          ]
        }
      ],
      "source": [
        "list1 = []\n",
        "a = int(input(\"enter no. of items in list: \"))\n",
        "for i in range(a):\n",
        "  b = int(input(f\"Enter {i+1} item : \"))\n",
        "  list1.append(b)\n",
        "\n",
        "list2 = []\n",
        "for i in list1:\n",
        "  if i in list2:\n",
        "    print(f\"duplicate value {i} \")\n",
        "  list2.append(i)"
      ]
    },
    {
      "cell_type": "markdown",
      "metadata": {},
      "source": [
        "#12. Create a program that prints the prime numbers in a given range using a `for` loop."
      ]
    },
    {
      "cell_type": "code",
      "execution_count": 12,
      "metadata": {},
      "outputs": [
        {
          "name": "stdout",
          "output_type": "stream",
          "text": [
            "the prime numbers in a given range :  2  3  5  7  11  13  17  19  23  29  "
          ]
        }
      ],
      "source": [
        "def prime(num):\n",
        "    if num<=1:\n",
        "        return False\n",
        "    \n",
        "    for i in range(2,int(num**0.5)+1):\n",
        "        if num % i == 0:\n",
        "            return False\n",
        "        \n",
        "    return True\n",
        "\n",
        "def prime_no(start , end):\n",
        "    print(\"the prime numbers in a given range : \",end = \" \")\n",
        "    for i in range(start , end+1):\n",
        "        if prime(i):\n",
        "            print(i ,end=\"  \")\n",
        "\n",
        "start = int(input(\"Enter Start : \"))\n",
        "\n",
        "end = int(input(\"Enter End : \"))\n",
        "\n",
        "prime_no(start , end)"
      ]
    },
    {
      "cell_type": "markdown",
      "metadata": {},
      "source": [
        "#13. Develop a program that counts the number of vowels in a string using a `for` loop."
      ]
    },
    {
      "cell_type": "code",
      "execution_count": 14,
      "metadata": {},
      "outputs": [
        {
          "name": "stdout",
          "output_type": "stream",
          "text": [
            "number of vowels in i am a programmer : 6\n"
          ]
        }
      ],
      "source": [
        "count = 0\n",
        "string = input('Enter string : ')\n",
        "for i in string:\n",
        "  if i in 'aeiou':\n",
        "    count += 1\n",
        "print(f\"number of vowels in {string} : {count}\")"
      ]
    },
    {
      "cell_type": "markdown",
      "metadata": {},
      "source": [
        "#14. Write a program to find the maximum element in a 2D list using a nested `for` loop."
      ]
    },
    {
      "cell_type": "code",
      "execution_count": 15,
      "metadata": {},
      "outputs": [
        {
          "name": "stdout",
          "output_type": "stream",
          "text": [
            "maximum element in a 2D list : 9\n"
          ]
        }
      ],
      "source": [
        "row = int(input(\"Enter number of row : \"))\n",
        "coloumn = int(input(\"Enter number of coloumn : \"))\n",
        "\n",
        "list1 = []\n",
        "for i in range(row):\n",
        "  list2 = []\n",
        "  for j in range(coloumn):\n",
        "    Elelments = int(input(f\"Enter {i+1}th {j+1}th element number : \"))\n",
        "    list2.append(Elelments)\n",
        "\n",
        "  list1.append(list2)\n",
        "\n",
        "max = 0\n",
        "for i in list1:\n",
        "  for j in i:\n",
        "    if j > max:\n",
        "      max = j\n",
        "\n",
        "print(f\"maximum element in a 2D list : {max}\")"
      ]
    },
    {
      "cell_type": "markdown",
      "metadata": {},
      "source": [
        "#15. Create a program that removes all occurrences of a specific element from a list using a `for` loop."
      ]
    },
    {
      "cell_type": "code",
      "execution_count": 16,
      "metadata": {},
      "outputs": [
        {
          "name": "stdout",
          "output_type": "stream",
          "text": [
            "['i', ' ', 'a', 'm', ' ', 'a', ' ', 'p', 'r', 'o', 'g', 'r', 'a', 'm', 'm', 'e', 'r']\n",
            "['i', ' ', 'a', ' ', 'a', ' ', 'p', 'r', 'o', 'g', 'r', 'a', 'e', 'r']\n"
          ]
        }
      ],
      "source": [
        "string = input(\"Enter String : \")\n",
        "list1 = list(string)\n",
        "new_list = []\n",
        "print(list1)\n",
        "element = input(\"Enter element that you want to remove : \")\n",
        "for i in list1:\n",
        "  if i != element:\n",
        "    new_list.append(i)\n",
        "\n",
        "print(\"old list\",list1)\n",
        "print(\"new list\",new_list)\n"
      ]
    },
    {
      "cell_type": "code",
      "execution_count": null,
      "metadata": {},
      "outputs": [],
      "source": []
    }
  ],
  "metadata": {
    "kernelspec": {
      "display_name": "Python 3",
      "language": "python",
      "name": "python3"
    },
    "language_info": {
      "codemirror_mode": {
        "name": "ipython",
        "version": 3
      },
      "file_extension": ".py",
      "mimetype": "text/x-python",
      "name": "python",
      "nbconvert_exporter": "python",
      "pygments_lexer": "ipython3",
      "version": "3.12.0"
    }
  },
  "nbformat": 4,
  "nbformat_minor": 4
}
