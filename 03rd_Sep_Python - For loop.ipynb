{
  "cells": [
    {
      "cell_type": "markdown",
      "metadata": {},
      "source": [
        "Basic Level"
      ]
    },
    {
      "cell_type": "markdown",
      "metadata": {},
      "source": [
        "#1. Write a Python program to print the numbers from 1 to 10 using a `for` loop."
      ]
    },
    {
      "cell_type": "code",
      "execution_count": 2,
      "metadata": {
        "trusted": true
      },
      "outputs": [
        {
          "name": "stdout",
          "output_type": "stream",
          "text": [
            "1\n",
            "2\n",
            "3\n",
            "4\n",
            "5\n",
            "6\n",
            "7\n",
            "8\n",
            "9\n",
            "10\n"
          ]
        }
      ],
      "source": [
        "for i in range(1, 11):\n",
        "  print(i)\n"
      ]
    },
    {
      "cell_type": "markdown",
      "metadata": {},
      "source": [
        "#2. Create a program that calculates the sum of all numbers in a list using a `for` loop."
      ]
    },
    {
      "cell_type": "code",
      "execution_count": 3,
      "metadata": {
        "trusted": true
      },
      "outputs": [
        {
          "name": "stdout",
          "output_type": "stream",
          "text": [
            "55\n"
          ]
        }
      ],
      "source": [
        "list = [1, 2, 3, 4, 5, 6, 7, 8, 9, 10]\n",
        "sum = 0\n",
        "for i in list:\n",
        "  sum += i\n",
        "print(sum)"
      ]
    },
    {
      "cell_type": "markdown",
      "metadata": {},
      "source": [
        "#3. Write a program to print the characters of a string in reverse order using a `for` loop."
      ]
    },
    {
      "cell_type": "code",
      "execution_count": 4,
      "metadata": {
        "trusted": true
      },
      "outputs": [
        {
          "name": "stdout",
          "output_type": "stream",
          "text": [
            "elgooG yeH"
          ]
        }
      ],
      "source": [
        "string = \"Hey Google\"\n",
        "for i in string[::-1]:\n",
        "  print(i, end='')"
      ]
    },
    {
      "cell_type": "markdown",
      "metadata": {},
      "source": [
        "#4. Develop a program that finds the factorial of a given number using a `for` loop."
      ]
    },
    {
      "cell_type": "code",
      "execution_count": 5,
      "metadata": {},
      "outputs": [
        {
          "ename": "ValueError",
          "evalue": "invalid literal for int() with base 10: ''",
          "output_type": "error",
          "traceback": [
            "\u001b[1;31m---------------------------------------------------------------------------\u001b[0m",
            "\u001b[1;31mValueError\u001b[0m                                Traceback (most recent call last)",
            "Cell \u001b[1;32mIn[5], line 1\u001b[0m\n\u001b[1;32m----> 1\u001b[0m num \u001b[38;5;241m=\u001b[39m \u001b[38;5;28;43mint\u001b[39;49m\u001b[43m(\u001b[49m\u001b[38;5;28;43minput\u001b[39;49m\u001b[43m(\u001b[49m\u001b[38;5;124;43m\"\u001b[39;49m\u001b[38;5;124;43mEnter a number: \u001b[39;49m\u001b[38;5;124;43m\"\u001b[39;49m\u001b[43m)\u001b[49m\u001b[43m)\u001b[49m\n\u001b[0;32m      2\u001b[0m \u001b[38;5;28;01mfor\u001b[39;00m i \u001b[38;5;129;01min\u001b[39;00m \u001b[38;5;28mrange\u001b[39m(\u001b[38;5;241m1\u001b[39m, num):\n\u001b[0;32m      3\u001b[0m   \u001b[38;5;28;01mif\u001b[39;00m num \u001b[38;5;241m%\u001b[39m i \u001b[38;5;241m==\u001b[39m \u001b[38;5;241m0\u001b[39m:\n",
            "\u001b[1;31mValueError\u001b[0m: invalid literal for int() with base 10: ''"
          ]
        }
      ],
      "source": [
        "num = int(input(\"Enter a number: \"))\n",
        "for i in range(1, num):\n",
        "  if num % i == 0:\n",
        "    print(i)\n"
      ]
    },
    {
      "cell_type": "markdown",
      "metadata": {},
      "source": [
        "#5. Create a program to print the multiplication table of a given number using a `for` loop."
      ]
    },
    {
      "cell_type": "code",
      "execution_count": null,
      "metadata": {},
      "outputs": [
        {
          "name": "stdout",
          "output_type": "stream",
          "text": [
            "5 x 0 = 0\n",
            "5 x 1 = 5\n",
            "5 x 2 = 10\n",
            "5 x 3 = 15\n",
            "5 x 4 = 20\n",
            "5 x 5 = 25\n",
            "5 x 6 = 30\n",
            "5 x 7 = 35\n",
            "5 x 8 = 40\n",
            "5 x 9 = 45\n",
            "5 x 10 = 50\n"
          ]
        }
      ],
      "source": [
        "num = int(input(\"Enter a number: \"))\n",
        "for i in range(11):\n",
        "  print(f\"{num} x {i} = {num*i}\")"
      ]
    },
    {
      "cell_type": "markdown",
      "metadata": {},
      "source": [
        "#6. Write a program that counts the number of even and odd numbers in a list using a `for` loop."
      ]
    },
    {
      "cell_type": "code",
      "execution_count": null,
      "metadata": {},
      "outputs": [
        {
          "name": "stdout",
          "output_type": "stream",
          "text": [
            "Even: 5\n",
            "Odd: 5\n"
          ]
        }
      ],
      "source": [
        "list = [1, 2, 3, 4, 5, 6, 7, 8, 9, 10]\n",
        "even = 0\n",
        "odd = 0\n",
        "for i in list:\n",
        "  if i % 2 == 0:\n",
        "    even += 1\n",
        "  else:\n",
        "    odd += 1\n",
        "print(f\"Even: {even}\\nOdd: {odd}\")"
      ]
    },
    {
      "cell_type": "markdown",
      "metadata": {},
      "source": [
        "#7. Develop a program that prints the squares of numbers from 1 to 5 using a `for` loop."
      ]
    },
    {
      "cell_type": "code",
      "execution_count": null,
      "metadata": {},
      "outputs": [
        {
          "name": "stdout",
          "output_type": "stream",
          "text": [
            "square of 1 = 1\n",
            "square of 2 = 4\n",
            "square of 3 = 9\n",
            "square of 4 = 16\n",
            "square of 5 = 25\n"
          ]
        }
      ],
      "source": [
        "for i in range(1, 6):\n",
        "  print(f\"square of {i} = {i*i}\")"
      ]
    },
    {
      "cell_type": "markdown",
      "metadata": {},
      "source": [
        "#8. Create a program to find the length of a string without using the `len()` function."
      ]
    },
    {
      "cell_type": "code",
      "execution_count": null,
      "metadata": {},
      "outputs": [
        {
          "name": "stdout",
          "output_type": "stream",
          "text": [
            "length of a I am a developer is 16\n"
          ]
        }
      ],
      "source": [
        "string = input(\"Enter String \")\n",
        "count = 0\n",
        "for i in string:\n",
        "  count += 1\n",
        "print(f\"length of a {string} is {count}\")"
      ]
    },
    {
      "cell_type": "markdown",
      "metadata": {},
      "source": [
        "#9. Write a program that calculates the average of a list of numbers using a `for` loop."
      ]
    },
    {
      "cell_type": "code",
      "execution_count": null,
      "metadata": {},
      "outputs": [
        {
          "name": "stdout",
          "output_type": "stream",
          "text": [
            "average of a list is 5.5\n"
          ]
        }
      ],
      "source": [
        "list1 = [1, 4, 6, 7, 3, 5, 8, 9, 5, 7]\n",
        "add = 0\n",
        "for i in list1:\n",
        "  add += i\n",
        "average = add / len(list1)\n",
        "\n",
        "print(f\"average of a list is {average}\")"
      ]
    },
    {
      "cell_type": "markdown",
      "metadata": {},
      "source": [
        "#10. Develop a program that prints the first `n` Fibonacci numbers using a `for` loop."
      ]
    },
    {
      "cell_type": "code",
      "execution_count": null,
      "metadata": {},
      "outputs": [
        {
          "name": "stdout",
          "output_type": "stream",
          "text": [
            "0\n",
            "1\n",
            "1\n",
            "2\n",
            "3\n",
            "5\n",
            "8\n",
            "13\n",
            "21\n",
            "34\n",
            "55\n",
            "89\n",
            "144\n",
            "233\n",
            "377\n"
          ]
        }
      ],
      "source": [
        "num = int(input(\"Enter a number: \"))\n",
        "a = 0\n",
        "b = 1\n",
        "for i in range(num):\n",
        "  print(a)\n",
        "  c = a + b\n",
        "  a = b\n",
        "  b = c\n"
      ]
    },
    {
      "cell_type": "markdown",
      "metadata": {},
      "source": [
        "#Intermediate Level:"
      ]
    },
    {
      "cell_type": "markdown",
      "metadata": {},
      "source": [
        "#11. Write a program to check if a given list contains any duplicates using a `for` loop."
      ]
    },
    {
      "cell_type": "code",
      "execution_count": null,
      "metadata": {},
      "outputs": [
        {
          "name": "stdout",
          "output_type": "stream",
          "text": [
            "duplicate value 5 \n",
            "duplicate value 3 \n"
          ]
        }
      ],
      "source": [
        "list1 = []\n",
        "a = int(input(\"enter no. of items in list: \"))\n",
        "for i in range(a):\n",
        "  b = int(input(f\"Enter {i+1} item : \"))\n",
        "  list1.append(b)\n",
        "\n",
        "list2 = []\n",
        "for i in list1:\n",
        "  if i in list2:\n",
        "    print(f\"duplicate value {i} \")\n",
        "  list2.append(i)"
      ]
    },
    {
      "cell_type": "markdown",
      "metadata": {},
      "source": [
        "#12. Create a program that prints the prime numbers in a given range using a `for` loop."
      ]
    },
    {
      "cell_type": "code",
      "execution_count": null,
      "metadata": {},
      "outputs": [
        {
          "name": "stdout",
          "output_type": "stream",
          "text": [
            "the prime numbers in a given range :  2  3  5  7  11  13  17  19  23  29  "
          ]
        }
      ],
      "source": [
        "def prime(num):\n",
        "    if num<=1:\n",
        "        return False\n",
        "    \n",
        "    for i in range(2,int(num**0.5)+1):\n",
        "        if num % i == 0:\n",
        "            return False\n",
        "        \n",
        "    return True\n",
        "\n",
        "def prime_no(start , end):\n",
        "    print(\"the prime numbers in a given range : \",end = \" \")\n",
        "    for i in range(start , end+1):\n",
        "        if prime(i):\n",
        "            print(i ,end=\"  \")\n",
        "\n",
        "start = int(input(\"Enter Start : \"))\n",
        "\n",
        "end = int(input(\"Enter End : \"))\n",
        "\n",
        "prime_no(start , end)"
      ]
    },
    {
      "cell_type": "markdown",
      "metadata": {},
      "source": [
        "#13. Develop a program that counts the number of vowels in a string using a `for` loop."
      ]
    },
    {
      "cell_type": "code",
      "execution_count": null,
      "metadata": {},
      "outputs": [
        {
          "name": "stdout",
          "output_type": "stream",
          "text": [
            "number of vowels in i am a programmer : 6\n"
          ]
        }
      ],
      "source": [
        "count = 0\n",
        "string = input('Enter string : ')\n",
        "for i in string:\n",
        "  if i in 'aeiou':\n",
        "    count += 1\n",
        "print(f\"number of vowels in {string} : {count}\")"
      ]
    },
    {
      "cell_type": "markdown",
      "metadata": {},
      "source": [
        "#14. Write a program to find the maximum element in a 2D list using a nested `for` loop."
      ]
    },
    {
      "cell_type": "code",
      "execution_count": null,
      "metadata": {},
      "outputs": [
        {
          "name": "stdout",
          "output_type": "stream",
          "text": [
            "maximum element in a 2D list : 9\n"
          ]
        }
      ],
      "source": [
        "row = int(input(\"Enter number of row : \"))\n",
        "coloumn = int(input(\"Enter number of coloumn : \"))\n",
        "\n",
        "list1 = []\n",
        "for i in range(row):\n",
        "  list2 = []\n",
        "  for j in range(coloumn):\n",
        "    Elelments = int(input(f\"Enter {i+1}th {j+1}th element number : \"))\n",
        "    list2.append(Elelments)\n",
        "\n",
        "  list1.append(list2)\n",
        "\n",
        "max = 0\n",
        "for i in list1:\n",
        "  for j in i:\n",
        "    if j > max:\n",
        "      max = j\n",
        "\n",
        "print(f\"maximum element in a 2D list : {max}\")"
      ]
    },
    {
      "cell_type": "markdown",
      "metadata": {},
      "source": [
        "#15. Create a program that removes all occurrences of a specific element from a list using a `for` loop."
      ]
    },
    {
      "cell_type": "code",
      "execution_count": null,
      "metadata": {},
      "outputs": [
        {
          "name": "stdout",
          "output_type": "stream",
          "text": [
            "['i', ' ', 'a', 'm', ' ', 'a', ' ', 'p', 'r', 'o', 'g', 'r', 'a', 'm', 'm', 'e', 'r']\n",
            "['i', ' ', 'a', ' ', 'a', ' ', 'p', 'r', 'o', 'g', 'r', 'a', 'e', 'r']\n"
          ]
        }
      ],
      "source": [
        "string = input(\"Enter String : \")\n",
        "list1 = list(string)\n",
        "new_list = []\n",
        "print(list1)\n",
        "element = input(\"Enter element that you want to remove : \")\n",
        "for i in list1:\n",
        "  if i != element:\n",
        "    new_list.append(i)\n",
        "\n",
        "print(\"old list\",list1)\n",
        "print(\"new list\",new_list)\n"
      ]
    },
    {
      "cell_type": "markdown",
      "metadata": {},
      "source": [
        "#16. Develop a program that generates a multiplication table for numbers from 1 to 5 using a nested `for` loop."
      ]
    },
    {
      "cell_type": "code",
      "execution_count": null,
      "metadata": {},
      "outputs": [
        {
          "name": "stdout",
          "output_type": "stream",
          "text": [
            "Multiplication table of 1\n",
            "1 x 1 = 1\n",
            "1 x 2 = 2\n",
            "1 x 3 = 3\n",
            "1 x 4 = 4\n",
            "1 x 5 = 5\n",
            "1 x 6 = 6\n",
            "1 x 7 = 7\n",
            "1 x 8 = 8\n",
            "1 x 9 = 9\n",
            "1 x 10 = 10\n",
            "Multiplication table of 2\n",
            "2 x 1 = 2\n",
            "2 x 2 = 4\n",
            "2 x 3 = 6\n",
            "2 x 4 = 8\n",
            "2 x 5 = 10\n",
            "2 x 6 = 12\n",
            "2 x 7 = 14\n",
            "2 x 8 = 16\n",
            "2 x 9 = 18\n",
            "2 x 10 = 20\n",
            "Multiplication table of 3\n",
            "3 x 1 = 3\n",
            "3 x 2 = 6\n",
            "3 x 3 = 9\n",
            "3 x 4 = 12\n",
            "3 x 5 = 15\n",
            "3 x 6 = 18\n",
            "3 x 7 = 21\n",
            "3 x 8 = 24\n",
            "3 x 9 = 27\n",
            "3 x 10 = 30\n",
            "Multiplication table of 4\n",
            "4 x 1 = 4\n",
            "4 x 2 = 8\n",
            "4 x 3 = 12\n",
            "4 x 4 = 16\n",
            "4 x 5 = 20\n",
            "4 x 6 = 24\n",
            "4 x 7 = 28\n",
            "4 x 8 = 32\n",
            "4 x 9 = 36\n",
            "4 x 10 = 40\n",
            "Multiplication table of 5\n",
            "5 x 1 = 5\n",
            "5 x 2 = 10\n",
            "5 x 3 = 15\n",
            "5 x 4 = 20\n",
            "5 x 5 = 25\n",
            "5 x 6 = 30\n",
            "5 x 7 = 35\n",
            "5 x 8 = 40\n",
            "5 x 9 = 45\n",
            "5 x 10 = 50\n"
          ]
        }
      ],
      "source": [
        "for i in range(1, 6):\n",
        "  print(f\"Multiplication table of {i}\")\n",
        "  for j in range(1, 11):\n",
        "    print(f\"{i} x {j} = {i*j}\")"
      ]
    },
    {
      "cell_type": "markdown",
      "metadata": {},
      "source": [
        "#17. Write a program that converts a list of Fahrenheit temperatures to Celsius using a `for` loop."
      ]
    },
    {
      "cell_type": "code",
      "execution_count": 9,
      "metadata": {},
      "outputs": [
        {
          "name": "stdout",
          "output_type": "stream",
          "text": [
            "Temperature (in  Fahrenheit) : [80, 100, 400, 362, 250, 321, 165, 175, 277]\n",
            "Temperature (in Celsius) : [26.7, 37.8, 204.4, 183.3, 121.1, 160.6, 73.9, 79.4, 136.1]\n"
          ]
        }
      ],
      "source": [
        "temp_Cal = []\n",
        "temp_Fah = [80, 100, 400, 362, 250, 321, 165, 175, 277]\n",
        "for i in temp_Fah:\n",
        "  Cal = (i - 32) * 5 / 9\n",
        "  temp_Cal.append(round(Cal, 1))\n",
        "\n",
        "print(f\"Temperature (in  Fahrenheit) : {temp_Fah}\")\n",
        "print(f\"Temperature (in Celsius) : {temp_Cal}\")\n"
      ]
    },
    {
      "cell_type": "markdown",
      "metadata": {},
      "source": [
        "#18. Create a program to print the common elements from two lists using a `for` loop."
      ]
    },
    {
      "cell_type": "code",
      "execution_count": 10,
      "metadata": {},
      "outputs": [
        {
          "name": "stdout",
          "output_type": "stream",
          "text": [
            "Common elements are : [5, 6, 4, 8, 7, 1, 9, 3, 11]\n"
          ]
        }
      ],
      "source": [
        "common_elements = []\n",
        "\n",
        "list1 = [5, 6, 4, 8, 4, 7, 1, 9, 4, 6, 9, 3, 45, 11]\n",
        "list2 = [1, 2, 3, 4, 5, 6, 7, 8, 9, 10, 11, 12, 13]\n",
        "\n",
        "for i in list1:\n",
        "  if i in list2:\n",
        "    if i not in common_elements:\n",
        "      common_elements.append(i)\n",
        "\n",
        "print(f\"Common elements are : {common_elements}\")"
      ]
    },
    {
      "cell_type": "markdown",
      "metadata": {},
      "source": [
        "#19. Develop a program that prints the pattern of right-angled triangles using a `for` loop. Use ‘*’ to draw the pattern"
      ]
    },
    {
      "cell_type": "code",
      "execution_count": 11,
      "metadata": {},
      "outputs": [
        {
          "name": "stdout",
          "output_type": "stream",
          "text": [
            "*\n",
            "**\n",
            "***\n",
            "****\n",
            "*****\n",
            "******\n",
            "*******\n",
            "********\n"
          ]
        }
      ],
      "source": [
        "row = int(input(\"Enter rows of stars : \"))\n",
        "for i in range(row):\n",
        "  print((i + 1) * '*')"
      ]
    },
    {
      "cell_type": "markdown",
      "metadata": {},
      "source": [
        "#20. Write a program to find the greatest common divisor (GCD) of two numbers using a `for` loop."
      ]
    },
    {
      "cell_type": "code",
      "execution_count": 14,
      "metadata": {},
      "outputs": [
        {
          "name": "stdout",
          "output_type": "stream",
          "text": [
            "1st Number : 100\n",
            "2nd Number : 360\n",
            "greatest common divisor (GCD) of two numbers : 20\n"
          ]
        }
      ],
      "source": [
        "num1_divisor = []\n",
        "num2_divisor = []\n",
        "common_divisor = []\n",
        "\n",
        "num1 = int(input(\"Enter 1st Number : \"))\n",
        "num2 = int(input(\"Enter 2nd Number : \"))\n",
        "\n",
        "for i in range(1, num1 + 1):\n",
        "  if num1 % i == 0:\n",
        "    num1_divisor.append(i)\n",
        "\n",
        "for j in range(1, num2 + 1):\n",
        "  if num2 % j == 0:\n",
        "    num2_divisor.append(j)\n",
        "\n",
        "for i in num1_divisor:\n",
        "  if i in num2_divisor:\n",
        "    common_divisor.append(i)\n",
        "\n",
        "max = 0\n",
        "for i in common_divisor:\n",
        "  if i > max:\n",
        "    max = i\n",
        "print(f\"1st Number : {num1}\")\n",
        "print(f\"2nd Number : {num2}\")\n",
        "print(f\"greatest common divisor (GCD) of two numbers : {max}\")"
      ]
    },
    {
      "cell_type": "markdown",
      "metadata": {},
      "source": [
        "#Advanced Level:"
      ]
    },
    {
      "cell_type": "markdown",
      "metadata": {},
      "source": [
        "#21. Create a program that calculates the sum of the digits of numbers in a list using a list comprehension.\n"
      ]
    },
    {
      "cell_type": "code",
      "execution_count": 2,
      "metadata": {},
      "outputs": [
        {
          "name": "stdout",
          "output_type": "stream",
          "text": [
            "sum of the digits of numbers in a list : [24, 15, 12, 6, 15, 24, 13, 16, 22]\n"
          ]
        }
      ],
      "source": [
        "def sum_of_list(num):\n",
        "  return sum(int(i) for i in str(num))\n",
        "\n",
        "\n",
        "list1 = [987, 456, 345, 321, 654, 879, 346, 574, 859]\n",
        "\n",
        "sum_list = [sum_of_list(j) for j in list1]\n",
        "\n",
        "print(f\"sum of the digits of numbers in a list : {sum_list}\")"
      ]
    },
    {
      "cell_type": "markdown",
      "metadata": {},
      "source": [
        "#22. Write a program to find the prime factors of a given number using a `for` loop and list comprehension."
      ]
    },
    {
      "cell_type": "code",
      "execution_count": 6,
      "metadata": {},
      "outputs": [
        {
          "name": "stdout",
          "output_type": "stream",
          "text": [
            "[2, 3]\n"
          ]
        }
      ],
      "source": [
        "def prime(num):\n",
        "\n",
        "  factor = [i for i in range(2, num) if num % i == 0]\n",
        "\n",
        "  prime_factor = [j for j in factor if all(j % k != 0 for k in range(2,int(j**0.5) + 1))]\n",
        "\n",
        "  print(prime_factor)\n",
        "\n",
        "\n",
        "number = int(input(\"Enter Number : \"))\n",
        "prime(number)\n"
      ]
    },
    {
      "cell_type": "markdown",
      "metadata": {},
      "source": [
        "#23. Develop a program that extracts unique elements from a list and stores them in a new list using a list comprehension."
      ]
    },
    {
      "cell_type": "code",
      "execution_count": 7,
      "metadata": {},
      "outputs": [
        {
          "name": "stdout",
          "output_type": "stream",
          "text": [
            "[0, 1, 2, 3, 4, 5, 6, 7, 8, 9, 35, 354, 224, 45, 44, 87]\n"
          ]
        }
      ],
      "source": [
        "list1 = [1, 3, 5, 7, 9, 0, 8, 6, 4, 2, 1, 5, 0, 4, 7, 45, 87, 2, 4, 8, 6, 35, 354,224, 44]\n",
        "\n",
        "new_list = list(set([i for i in list1]))\n",
        "\n",
        "print(new_list)"
      ]
    },
    {
      "cell_type": "markdown",
      "metadata": {},
      "source": [
        "#24. Create a program that generates a list of all palindromic numbers up to a specified limit using a list comprehension."
      ]
    },
    {
      "cell_type": "code",
      "execution_count": 8,
      "metadata": {},
      "outputs": [
        {
          "name": "stdout",
          "output_type": "stream",
          "text": [
            "palindromic numbers up to a specified limit : [0, 1, 2, 3, 4, 5, 6, 7, 8, 9, 11, 22, 33, 44, 55, 66, 77, 88, 99, 101, 111, 121, 131, 141, 151, 161, 171, 181, 191, 202, 212, 222, 232, 242, 252, 262, 272, 282, 292, 303, 313, 323, 333, 343, 353, 363, 373, 383, 393, 404, 414, 424, 434, 444, 454, 464, 474, 484, 494, 505, 515, 525, 535, 545, 555, 565, 575, 585, 595, 606, 616, 626, 636, 646, 656, 666, 676, 686, 696, 707, 717, 727, 737, 747, 757, 767, 777, 787, 797, 808, 818, 828, 838, 848, 858, 868, 878, 888, 898, 909, 919, 929, 939, 949, 959, 969, 979, 989, 999]\n"
          ]
        }
      ],
      "source": [
        "def palindromic(num):\n",
        "  string = str(num)\n",
        "  rev_string = string[::-1]\n",
        "  return string == rev_string\n",
        "\n",
        "\n",
        "def generate(limit):\n",
        "  list1 = [i for i in range(limit) if palindromic(i)]\n",
        "  return list1\n",
        "\n",
        "\n",
        "limit = int(input(\"Enter Number : \"))\n",
        "num_limit = generate(limit)\n",
        "print(f\"palindromic numbers up to a specified limit : {num_limit}\")"
      ]
    },
    {
      "cell_type": "markdown",
      "metadata": {},
      "source": [
        "#25. Write a program to flatten a nested list using list comprehension.\n"
      ]
    },
    {
      "cell_type": "code",
      "execution_count": 9,
      "metadata": {},
      "outputs": [
        {
          "name": "stdout",
          "output_type": "stream",
          "text": [
            "Nested List : [[1, 2, 3], [4, 5, 6], [7, 8, 9], [1, 3, 6]]\n",
            "Flatten List : [1, 2, 3, 4, 5, 6, 7, 8, 9, 1, 3, 6]\n"
          ]
        }
      ],
      "source": [
        "nested_list = [[1, 2, 3], [4, 5, 6], [7, 8, 9], [1, 3, 6]]\n",
        "\n",
        "faltten_list = [item for sublist in nested_list for item in sublist]\n",
        "\n",
        "print(f\"Nested List : {nested_list}\")\n",
        "\n",
        "print(f\"Flatten List : {faltten_list}\")"
      ]
    },
    {
      "cell_type": "markdown",
      "metadata": {},
      "source": [
        "#26. Develop a program that computes the sum of even and odd numbers in a list separately using list comprehension."
      ]
    },
    {
      "cell_type": "code",
      "execution_count": 12,
      "metadata": {},
      "outputs": [
        {
          "name": "stdout",
          "output_type": "stream",
          "text": [
            "List : [47, 5, 55, 65, 47, 680, 988, 765, 434, 567, 8, 90, 0, 9, 8, 7, 6, 54, 3, 22, 45, 6, 7]\n",
            "Odd list : [47, 5, 55, 65, 47, 765, 567, 9, 7, 3, 45, 7]\n",
            "Even list : [680, 988, 434, 8, 90, 0, 8, 6, 54, 22, 6]\n"
          ]
        }
      ],
      "source": [
        "list1 = [47, 5, 55, 65, 47, 680, 988, 765, 434, 567, 8, 90, 0, 9, 8, 7, 6, 54, 3, 22,45, 6, 7]\n",
        "\n",
        "odd_list = [odd for odd in list1 if odd % 2 != 0]\n",
        "\n",
        "even_list = [even for even in list1 if even % 2 == 0]\n",
        "\n",
        "print(f\"List : {list1}\")\n",
        "\n",
        "print(f\"Odd list : {odd_list}\")\n",
        "\n",
        "print(f\"Even list : {even_list}\")"
      ]
    },
    {
      "cell_type": "markdown",
      "metadata": {},
      "source": [
        "#27. Create a program that generates a list of squares of odd numbers between 1 and 10 using list comprehension."
      ]
    },
    {
      "cell_type": "code",
      "execution_count": 13,
      "metadata": {},
      "outputs": [
        {
          "name": "stdout",
          "output_type": "stream",
          "text": [
            "list of squares of odd numbers : [1, 9, 25, 49, 81]\n"
          ]
        }
      ],
      "source": [
        "odd_sq = [(odd * odd) for odd in range(1, 11) if odd % 2 != 0]\n",
        "\n",
        "print(f\"list of squares of odd numbers : {odd_sq}\")"
      ]
    },
    {
      "cell_type": "markdown",
      "metadata": {},
      "source": [
        "#28. Write a program that combines two lists into a dictionary using list comprehension."
      ]
    },
    {
      "cell_type": "code",
      "execution_count": 14,
      "metadata": {},
      "outputs": [
        {
          "name": "stdout",
          "output_type": "stream",
          "text": [
            "combines two lists into a dictionary : {'s': 2, 't': 8, 'a': 4, 'r': 6, 'u': 5, 'p': 9}\n"
          ]
        }
      ],
      "source": [
        "list_key = list(\"startup\")\n",
        "list_value = [2, 5, 4, 6, 8, 5, 9]\n",
        "\n",
        "dict_ = {key: value for key, value in zip(list_key, list_value)}\n",
        "\n",
        "print(f\"combines two lists into a dictionary : {dict_}\")"
      ]
    },
    {
      "cell_type": "markdown",
      "metadata": {},
      "source": [
        "#29. Develop a program that extracts the vowels from a string and stores them in a list using list comprehension."
      ]
    },
    {
      "cell_type": "code",
      "execution_count": 18,
      "metadata": {},
      "outputs": [
        {
          "name": "stdout",
          "output_type": "stream",
          "text": [
            "vowels from a string : ['i', 'e', 'i', 'o', 'e']\n"
          ]
        }
      ],
      "source": [
        "string = \"jgwci ebcv ikgvkv gvhgdloe rkfhb kggvh\"\n",
        "\n",
        "vowels = [vowels for vowels in string if vowels in 'aeiou']\n",
        "\n",
        "print(f\"vowels from a string : {vowels}\")"
      ]
    },
    {
      "cell_type": "markdown",
      "metadata": {},
      "source": [
        "#30. Create a program that removes all non-numeric characters from a list of strings using list comprehension."
      ]
    },
    {
      "cell_type": "code",
      "execution_count": 19,
      "metadata": {},
      "outputs": [
        {
          "name": "stdout",
          "output_type": "stream",
          "text": [
            "removes all non-numeric characters from a list : [64, 652, 784, 784, 8745]\n"
          ]
        }
      ],
      "source": [
        "string = [\"hj64\", \"d652\", \"hgd784\", \"kf784\", \"jhdcg8u74e5u\"]\n",
        "\n",
        "numeric = [int(\"\".join(filter(str.isdigit, item))) for item in string]\n",
        "\n",
        "print(f\"removes all non-numeric characters from a list : {numeric}\")"
      ]
    },
    {
      "cell_type": "markdown",
      "metadata": {},
      "source": [
        "#Challenge Level:"
      ]
    },
    {
      "cell_type": "markdown",
      "metadata": {},
      "source": [
        "#31. Write a program to generate a list of prime numbers using the Sieve of Eratosthenes algorithm and list comprehension."
      ]
    },
    {
      "cell_type": "code",
      "execution_count": 20,
      "metadata": {},
      "outputs": [
        {
          "name": "stdout",
          "output_type": "stream",
          "text": [
            "list of prime numbers of 69 : [2, 3, 5, 7, 11, 13, 17, 19, 23, 29, 31, 37, 41, 43, 47, 53, 59, 61, 67]\n"
          ]
        }
      ],
      "source": [
        "def Eratosthenes(limit):\n",
        "    prime = [True] * (limit+1)\n",
        "    prime[0] = prime[1] = False\n",
        "\n",
        "    for i in range(2,int(limit ** 0.5)+1):\n",
        "        if prime[i]:\n",
        "            prime[i*i:limit+1:i] = [False] * len(prime[i*i:limit+1:i])\n",
        "\n",
        "    return [i for i in range(2,limit+1) if prime[i]]\n",
        "\n",
        "limit = int(input(\"Enter Limit : \"))\n",
        "prime_no = Eratosthenes(limit)\n",
        "print(f\"list of prime numbers of {limit} : {prime_no}\")"
      ]
    },
    {
      "cell_type": "markdown",
      "metadata": {},
      "source": [
        "#32. Create a program that generates a list of all Pythagorean triplets up to a specified limit using list comprehension."
      ]
    },
    {
      "cell_type": "code",
      "execution_count": 21,
      "metadata": {},
      "outputs": [
        {
          "name": "stdout",
          "output_type": "stream",
          "text": [
            "Pythagorean triplets up to a specified limit : [(3, 4, 5), (5, 12, 13), (6, 8, 10), (7, 24, 25), (8, 15, 17), (9, 12, 15), (10, 24, 26), (12, 16, 20), (15, 20, 25), (20, 21, 29)]\n"
          ]
        }
      ],
      "source": [
        "limit = 30\n",
        "\n",
        "triplets = [(a,b,c) for a in range(1,limit) for b in range(a,limit) for c in range(b,limit) if (a**2 + b**2 == c**2) ]\n",
        "\n",
        "print(f\"Pythagorean triplets up to a specified limit : {triplets}\") "
      ]
    },
    {
      "cell_type": "markdown",
      "metadata": {},
      "source": [
        "#33. Develop a program that generates a list of all possible combinations of two lists using list comprehension.\n"
      ]
    },
    {
      "cell_type": "code",
      "execution_count": 22,
      "metadata": {},
      "outputs": [
        {
          "name": "stdout",
          "output_type": "stream",
          "text": [
            "list of all possible combinations of two lists : [(1, 76), (1, 54), (1, 32), (1, 11), (1, 13), (1, 35), (1, 57), (1, 79), (2, 76), (2, 54), (2, 32), (2, 11), (2, 13), (2, 35), (2, 57), (2, 79), (3, 76), (3, 54), (3, 32), (3, 11), (3, 13), (3, 35), (3, 57), (3, 79), (4, 76), (4, 54), (4, 32), (4, 11), (4, 13), (4, 35), (4, 57), (4, 79), (5, 76), (5, 54), (5, 32), (5, 11), (5, 13), (5, 35), (5, 57), (5, 79), (6, 76), (6, 54), (6, 32), (6, 11), (6, 13), (6, 35), (6, 57), (6, 79), (7, 76), (7, 54), (7, 32), (7, 11), (7, 13), (7, 35), (7, 57), (7, 79), (8, 76), (8, 54), (8, 32), (8, 11), (8, 13), (8, 35), (8, 57), (8, 79), (9, 76), (9, 54), (9, 32), (9, 11), (9, 13), (9, 35), (9, 57), (9, 79)]\n"
          ]
        }
      ],
      "source": [
        "list1 = [1,2,3,4,5,6,7,8,9]\n",
        "list2 = [76,54,32,11,13,35,57,79]\n",
        "combinations = [(i,j) for i in list1 for j in list2]\n",
        "\n",
        "print(f\"list of all possible combinations of two lists : {combinations}\")"
      ]
    },
    {
      "cell_type": "markdown",
      "metadata": {},
      "source": [
        "#34. Write a program that calculates the mean, median, and mode of a list of numbers using list comprehension."
      ]
    },
    {
      "cell_type": "code",
      "execution_count": 27,
      "metadata": {},
      "outputs": [
        {
          "name": "stdout",
          "output_type": "stream",
          "text": [
            "Mean: 4.3\n",
            "Median: 5\n",
            "Mode: [5, 6]\n"
          ]
        }
      ],
      "source": [
        "from collections import Counter\n",
        "\n",
        "def calculate_mean(numbers):\n",
        "    return sum(numbers) / len(numbers) if numbers else 0\n",
        "\n",
        "def calculate_median(numbers):\n",
        "    sorted_numbers = sorted(numbers)\n",
        "    n = len(sorted_numbers)\n",
        "    middle = n // 2\n",
        "    if n % 2 == 0:\n",
        "        return (sorted_numbers[middle - 1] + sorted_numbers[middle]) / 2\n",
        "    else:\n",
        "        return sorted_numbers[middle]\n",
        "\n",
        "def calculate_mode(numbers):\n",
        "    frequency = Counter(numbers)\n",
        "    max_frequency = max(frequency.values())\n",
        "    return [num for num, freq in frequency.items() if freq == max_frequency]\n",
        "\n",
        "numbers = [1, 2, 3, 4, 5, 5, 6, 6, 7]\n",
        "\n",
        "print(\"Mean:\", round(calculate_mean(numbers),1))\n",
        "print(\"Median:\", calculate_median(numbers))\n",
        "print(\"Mode:\", calculate_mode(numbers))"
      ]
    },
    {
      "cell_type": "markdown",
      "metadata": {},
      "source": [
        "#35. Create a program that generates Pascal's triangle up to a specified number of rows using list comprehension."
      ]
    },
    {
      "cell_type": "code",
      "execution_count": 30,
      "metadata": {},
      "outputs": [
        {
          "name": "stdout",
          "output_type": "stream",
          "text": [
            "generate_triangle of row : 8\n",
            "               1                \n",
            "              1 1               \n",
            "             1 2 1              \n",
            "            1 3 3 1             \n",
            "           1 4 6 4 1            \n",
            "         1 5 10 10 5 1          \n",
            "        1 6 15 20 15 6 1        \n",
            "      1 7 21 35 35 21 7 1       \n",
            "None\n"
          ]
        }
      ],
      "source": [
        "def generate_triangle(rows):\n",
        "    triangle = [[1] * (i+1) for i in range(rows)]\n",
        "    for i in range(2,rows):\n",
        "        for j in range(1,i):\n",
        "            triangle[i][j] = triangle[i-1][j-1] + triangle[i-1][j]\n",
        "\n",
        "    return triangle\n",
        "\n",
        "def design_triangle(triangle):\n",
        "    for row in triangle:\n",
        "        print(\" \".join(map(str , row )).center(len(triangle[-1])*4))\n",
        "\n",
        "rows = int(input(\"enter rows : \"))\n",
        "\n",
        "print(f\"generate_triangle of row : {rows}\" )\n",
        "print(design_triangle(generate_triangle(rows)))"
      ]
    },
    {
      "cell_type": "markdown",
      "metadata": {},
      "source": [
        "#36. Develop a program that calculates the sum of the digits of a factorial of numbers from 1 to 5 using list comprehension."
      ]
    },
    {
      "cell_type": "code",
      "execution_count": 31,
      "metadata": {},
      "outputs": [
        {
          "name": "stdout",
          "output_type": "stream",
          "text": [
            "the sum of the digits of a factorial of numbers from 1 to 5 : [1, 2, 6, 6, 3]\n"
          ]
        }
      ],
      "source": [
        "def factorial(n):\n",
        "\n",
        "    if n == 0:\n",
        "        return 1\n",
        "\n",
        "    else:\n",
        "        return n* factorial(n-1)\n",
        "\n",
        "sum = [sum(int(digit) for digit in str(factorial(i))) for i in range(1,6)]\n",
        "\n",
        "print(f\"the sum of the digits of a factorial of numbers from 1 to 5 : {sum}\")"
      ]
    },
    {
      "cell_type": "markdown",
      "metadata": {},
      "source": [
        "#37. Write a program that finds the longest word in a sentence using list comprehension."
      ]
    },
    {
      "cell_type": "code",
      "execution_count": 32,
      "metadata": {},
      "outputs": [
        {
          "name": "stdout",
          "output_type": "stream",
          "text": [
            "the longest word in a sentence : ['responsible']\n"
          ]
        }
      ],
      "source": [
        "string = \"How are you What are you doing responsible person\"\n",
        "\n",
        "list1 = list(string.split())\n",
        "\n",
        "longest = [max(list1 , key=len)]\n",
        "\n",
        "print(f\"the longest word in a sentence : {longest}\")"
      ]
    },
    {
      "cell_type": "markdown",
      "metadata": {},
      "source": [
        "#38. Create a program that filters a list of strings to include only those with more than three vowels using list comprehension."
      ]
    },
    {
      "cell_type": "code",
      "execution_count": 1,
      "metadata": {},
      "outputs": [
        {
          "name": "stdout",
          "output_type": "stream",
          "text": [
            "['fukdcjdcaeIOxhyxs', 'jvkmfjhfcgvtIOUafgcv', 'jgfhbjkjhAZEOingfcxvbjk', 'aeiou']\n"
          ]
        }
      ],
      "source": [
        "def count(string):\n",
        "    vowel = \"aeiouAEIOU\"\n",
        "    return sum(1 for char in string if char in vowel)\n",
        "\n",
        "list1 = [\"fukdcjdcaeIOxhyxs\" , \"jvkmfjhfcgvtIOUafgcv\" , \"jgfhbjkjhAZEOingfcxvbjk\" , \"uygtfsswertjhkmnhbvcxdfgh\" , \"yutgfc\" ,\"aeiou\"]\n",
        "\n",
        "list_str = [string for string in list1 if count(string) > 3]\n",
        "\n",
        "print(list_str)"
      ]
    },
    {
      "cell_type": "markdown",
      "metadata": {},
      "source": [
        "#39. Develop a program that calculates the sum of the digits of numbers from 1 to 1000 using list comprehension."
      ]
    },
    {
      "cell_type": "code",
      "execution_count": 4,
      "metadata": {},
      "outputs": [
        {
          "name": "stdout",
          "output_type": "stream",
          "text": [
            "the sum of the digits of numbers from 1 to 1000 :  [13501]\n"
          ]
        }
      ],
      "source": [
        "sum_digit = [sum(sum(int(digit) for digit in str(num)) for num in range(1,1001)) ]\n",
        "\n",
        "print(\"the sum of the digits of numbers from 1 to 1000 : \", sum_digit)\n"
      ]
    },
    {
      "cell_type": "markdown",
      "metadata": {},
      "source": [
        "#40. Write a program that generates a list of prime palindromic numbers using list comprehension."
      ]
    },
    {
      "cell_type": "code",
      "execution_count": 5,
      "metadata": {},
      "outputs": [
        {
          "name": "stdout",
          "output_type": "stream",
          "text": [
            "list of prime palindromic numbers : [2, 3, 5, 7, 11, 101, 131, 151, 181, 191, 313, 353, 373, 383, 727, 757, 787, 797, 919, 929]\n"
          ]
        }
      ],
      "source": [
        "def is_prime(limit):\n",
        "    if limit < 2:\n",
        "        return False\n",
        "\n",
        "    for i in range(2,int(limit**0.5)+1):\n",
        "        if limit % i == 0:\n",
        "            return False\n",
        "\n",
        "    return True\n",
        "\n",
        "limit = 1000\n",
        "prime_palindromic = [i for i in range(1,limit) if is_prime(i) and str(i) == (str(i))[::-1]  ]\n",
        "\n",
        "print(f\"list of prime palindromic numbers : {prime_palindromic}\")"
      ]
    },
    {
      "cell_type": "code",
      "execution_count": null,
      "metadata": {},
      "outputs": [],
      "source": []
    }
  ],
  "metadata": {
    "kernelspec": {
      "display_name": "Python 3",
      "language": "python",
      "name": "python3"
    },
    "language_info": {
      "codemirror_mode": {
        "name": "ipython",
        "version": 3
      },
      "file_extension": ".py",
      "mimetype": "text/x-python",
      "name": "python",
      "nbconvert_exporter": "python",
      "pygments_lexer": "ipython3",
      "version": "3.12.0"
    }
  },
  "nbformat": 4,
  "nbformat_minor": 4
}
