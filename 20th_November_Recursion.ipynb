{
 "cells": [
  {
   "cell_type": "markdown",
   "metadata": {},
   "source": [
    "Q.1 Can you explain the logic and working of the Tower of Hanoi algorithm by writing a Python program?\n",
    "How does the recursion work, and how are the movements of disks between rods accomplished?\n"
   ]
  },
  {
   "cell_type": "markdown",
   "metadata": {},
   "source": [
    "The Tower of Hanoi is a classic puzzle involving three rods (let's call them A, B, and C) and a number of disks of different sizes which can slide onto any rod. The puzzle starts with the disks in a neat stack in ascending order of size on one rod, the smallest at the top, thus making a conical shape.\n",
    "The objective of the puzzle is to move the entire stack to another rod, obeying the following simple rules:\n",
    " * Only one disk can be moved at a time.\n",
    " * Each move consists of taking the upper disk from one of the stacks and placing it on top of another stack or on an empty rod.\n",
    " * No larger disk may be placed on top of a smaller disk."
   ]
  },
  {
   "cell_type": "code",
   "execution_count": 1,
   "metadata": {},
   "outputs": [],
   "source": [
    "def tower_of_hanoi(n,source,destination,auxiliary):\n",
    "\n",
    "    # n = number of disks\n",
    "    # source = the source rod (A , B or C)\n",
    "    # destination = the destination rod (A ,B or C)\n",
    "    # auxiliary = The auxiliary rod (A , B or C)\n",
    "\n",
    "        if n == 1:\n",
    "                print(\"Move disk 1 from rod {source} to rod {destination}\")\n",
    "                return\n",
    "        \n",
    "        # Move n-1 disks from source to auxiliary, using destination as auxiliary\n",
    "        tower_of_hanoi(n - 1, source, auxiliary, destination)\n",
    "\n",
    "        # Move the nth disk from source to destination\n",
    "        print(f\"Move disk {n} from rod {source} to rod {destination}\")\n",
    "\n",
    "        # Move the n-1 disks from auxiliary to destination, using source as auxiliary\n",
    "        tower_of_hanoi(n - 1, auxiliary, destination, source)\n",
    "\n",
    "        # Example usage with 3 disks\n",
    "        n = 3\n",
    "        tower_of_hanoi(n, 'A', 'C', 'B')\n",
    "\n"
   ]
  },
  {
   "cell_type": "markdown",
   "metadata": {},
   "source": [
    "Explanation\n",
    " * Base Case:\n",
    "   * The function first checks if n (the number of disks) is 1. If it is, it means we only have one disk to move. We simply move it from the source rod to the destination rod and print the move. This is the base case that stops the recursion.\n",
    " * Recursive Steps:\n",
    "   * If n is greater than 1, we break the problem into three smaller subproblems:\n",
    "     * Move n-1 disks from source to auxiliary:\n",
    "       * We recursively call the tower_of_hanoi function to move the top n-1 disks from the source rod to the auxiliary rod, using the destination rod as the temporary auxiliary rod.\n",
    "     * Move the nth disk from source to destination:\n",
    "       * After moving the n-1 disks to the auxiliary rod, we move the largest disk (the nth disk) from the source rod to the destination rod.\n",
    "     * Move n-1 disks from auxiliary to destination:\n",
    "       * Finally, we recursively call the tower_of_hanoi function again to move the n-1 disks from the auxiliary rod to the destination rod, using the source rod as the temporary auxiliary rod. "
   ]
  },
  {
   "cell_type": "markdown",
   "metadata": {},
   "source": [
    "How Recursion Works\n",
    " * Recursion is a technique where a function calls itself to solve smaller instances of the same problem.\n",
    " * In the Tower of Hanoi, we break down the problem of moving n disks into smaller problems of moving n-1 disks.\n",
    " * The base case (n == 1) ensures that the recursion eventually stops.\n",
    " * Each recursive call works on a smaller subproblem, and the results are combined to solve the original problem.\n",
    "How Movements Are Accomplished\n",
    " * The movements of disks are accomplished through the print statements within the recursive function.\n",
    " * Each print statement indicates a single move, specifying the disk number and the rods involved.\n",
    " * The order of the recursive calls and the print statements ensures that the moves are performed according to the rules of the Tower of Hanoi.\n"
   ]
  },
  {
   "cell_type": "markdown",
   "metadata": {},
   "source": [
    "Q.2 Given two strings word1 and word2, return the minimum number of operations required to convert word1\n",
    "to word2.\n"
   ]
  },
  {
   "cell_type": "code",
   "execution_count": 2,
   "metadata": {},
   "outputs": [],
   "source": [
    "def min_distance(word1, word2):\n",
    "    m = len(word1)\n",
    "    n = len(word2)\n",
    "\n",
    "    # Initialize the dp table\n",
    "    dp = [[0] * (n + 1) for _ in range(m + 1)]\n",
    "    for i in range(m + 1):\n",
    "        dp[i][0] = i\n",
    "    for j in range(n + 1):\n",
    "        dp[0][j] = j\n",
    "\n",
    "    # Fill the dp table\n",
    "    for i in range(1, m + 1):\n",
    "        for j in range(1, n + 1):\n",
    "            if word1[i - 1] == word2[j - 1]:\n",
    "                dp[i][j] = dp[i - 1][j - 1]\n",
    "            else:\n",
    "                dp[i][j] = min(dp[i][j - 1] + 1,  # Insertion\n",
    "                               dp[i - 1][j] + 1,  # Deletion\n",
    "                               dp[i - 1][j - 1] + 1)  # Replacement\n",
    "\n",
    "    return dp[m][n]\n",
    "\n"
   ]
  },
  {
   "cell_type": "code",
   "execution_count": 4,
   "metadata": {},
   "outputs": [
    {
     "name": "stdout",
     "output_type": "stream",
     "text": [
      "Minimum operations to convert 'horse' to 'ros': 3\n",
      "Minimum operations to convert 'intention' to 'execution': 5\n"
     ]
    }
   ],
   "source": [
    "# Example Usage\n",
    "word1 = \"horse\"\n",
    "word2 = \"ros\"\n",
    "print(f\"Minimum operations to convert '{word1}' to '{word2}': {min_distance(word1, word2)}\")\n",
    "\n",
    "word1 = \"intention\"\n",
    "word2 = \"execution\"\n",
    "print(f\"Minimum operations to convert '{word1}' to '{word2}': {min_distance(word1, word2)}\")"
   ]
  },
  {
   "cell_type": "markdown",
   "metadata": {},
   "source": [
    "Q. 3 Print the max value of the array [ 13, 1, -3, 22, 5]."
   ]
  },
  {
   "cell_type": "code",
   "execution_count": 5,
   "metadata": {},
   "outputs": [],
   "source": [
    "def max_element(arr):\n",
    "    max_value = arr[0]\n",
    "    for num in arr:\n",
    "        if num > max_value:\n",
    "            max_value = num\n",
    "    return max_value"
   ]
  },
  {
   "cell_type": "code",
   "execution_count": 7,
   "metadata": {},
   "outputs": [
    {
     "name": "stdout",
     "output_type": "stream",
     "text": [
      "22\n"
     ]
    }
   ],
   "source": [
    "arr = [13,1,-3,22,5]\n",
    "print(max_element(arr))"
   ]
  },
  {
   "cell_type": "markdown",
   "metadata": {},
   "source": [
    "Q.4 Find the sum of the values of the array [92, 23, 15, -20, 10]."
   ]
  },
  {
   "cell_type": "code",
   "execution_count": 8,
   "metadata": {},
   "outputs": [],
   "source": [
    "def sum_of_elements(arr):\n",
    "    total_sum = 0\n",
    "    for num in arr:\n",
    "        total_sum += num \n",
    "    return total_sum"
   ]
  },
  {
   "cell_type": "code",
   "execution_count": 9,
   "metadata": {},
   "outputs": [
    {
     "name": "stdout",
     "output_type": "stream",
     "text": [
      "120\n"
     ]
    }
   ],
   "source": [
    "arr = [92,23,15,-20,10]\n",
    "print(sum_of_elements(arr))"
   ]
  },
  {
   "cell_type": "markdown",
   "metadata": {},
   "source": [
    "Q.5 Given a number n. Print if it is an armstrong number or not.An armstrong number is a number if the sum\n",
    "of every digit in that number raised to the power of total digits in that number is equal to the number.\n",
    "Example : 153 = 1^3 + 5^3 + 3^3 = 1 + 125 + 27 = 153 hence 153 is an armstrong number. (Easy)\n",
    "Input1 : 153\n",
    "Output1 : Yes\n",
    "Input 2 : 134\n",
    "Output2 : No"
   ]
  },
  {
   "cell_type": "code",
   "execution_count": 11,
   "metadata": {},
   "outputs": [],
   "source": [
    "def is_armstrong_no(num):\n",
    "    num_str = str(num)\n",
    "    num_digit = len(num_str)\n",
    "\n",
    "    sum_of_powers = 0\n",
    "\n",
    "    for digit in num_str:\n",
    "        sum_of_powers += int(digit) ** num_digit\n",
    "\n",
    "    if sum_of_powers == num:\n",
    "        return \"Yes\"\n",
    "    else:\n",
    "        return \"No\""
   ]
  },
  {
   "cell_type": "code",
   "execution_count": 13,
   "metadata": {},
   "outputs": [
    {
     "name": "stdout",
     "output_type": "stream",
     "text": [
      "Yes\n"
     ]
    }
   ],
   "source": [
    "num1 = 153\n",
    "print(is_armstrong_no(num1))"
   ]
  },
  {
   "cell_type": "code",
   "execution_count": 14,
   "metadata": {},
   "outputs": [
    {
     "name": "stdout",
     "output_type": "stream",
     "text": [
      "No\n"
     ]
    }
   ],
   "source": [
    "num2 = 134\n",
    "print(is_armstrong_no(num2))"
   ]
  }
 ],
 "metadata": {
  "kernelspec": {
   "display_name": "Python 3",
   "language": "python",
   "name": "python3"
  },
  "language_info": {
   "codemirror_mode": {
    "name": "ipython",
    "version": 3
   },
   "file_extension": ".py",
   "mimetype": "text/x-python",
   "name": "python",
   "nbconvert_exporter": "python",
   "pygments_lexer": "ipython3",
   "version": "3.12.0"
  }
 },
 "nbformat": 4,
 "nbformat_minor": 2
}
