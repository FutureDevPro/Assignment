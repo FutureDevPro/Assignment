{
 "cells": [
  {
   "cell_type": "markdown",
   "metadata": {},
   "source": [
    "Basic If-Else Statements:"
   ]
  },
  {
   "cell_type": "markdown",
   "metadata": {},
   "source": [
    "1. Write a Python program to check if a given number is positive or negative."
   ]
  },
  {
   "cell_type": "code",
   "execution_count": 1,
   "metadata": {},
   "outputs": [
    {
     "name": "stdout",
     "output_type": "stream",
     "text": [
      "20 is positive\n"
     ]
    }
   ],
   "source": [
    "num = int(input(\"Enter Number : \"))\n",
    "\n",
    "if num >= 0:\n",
    "    print(f\"{num} is positive\")\n",
    "\n",
    "else:\n",
    "    print(f\"{num} is negetive\")"
   ]
  },
  {
   "cell_type": "markdown",
   "metadata": {},
   "source": [
    "2. Create a program that determines if a person is eligible to vote based on their age."
   ]
  },
  {
   "cell_type": "code",
   "execution_count": 2,
   "metadata": {},
   "outputs": [
    {
     "name": "stdout",
     "output_type": "stream",
     "text": [
      "You are 5 years old and not eligible for vote\n"
     ]
    }
   ],
   "source": [
    "age = int (input(\"Enter your age : \"))\n",
    "\n",
    "if age >= 18:\n",
    "    print(f\"You are {age} years old and eligible for vote\")\n",
    "\n",
    "else:\n",
    "    print(f\"You are {age} years old and not eligible for vote\")"
   ]
  },
  {
   "cell_type": "markdown",
   "metadata": {},
   "source": [
    "3. Develop a program to find the maximum of two numbers using if-else statements."
   ]
  },
  {
   "cell_type": "code",
   "execution_count": 3,
   "metadata": {},
   "outputs": [
    {
     "name": "stdout",
     "output_type": "stream",
     "text": [
      "30 is maximum than 20\n"
     ]
    }
   ],
   "source": [
    "num1 = int(input(\"Enter 1st number : \"))\n",
    "num2 = int(input(\"Enter 2nd number : \"))\n",
    "\n",
    "if num1>num2 :\n",
    "    print(f\"{num1} is maximum than {num2}\")\n",
    "\n",
    "elif num1==num2:\n",
    "    print(f\"{num1} and {num2} are same\")\n",
    "\n",
    "else:\n",
    "    print(f\"{num2} is maximum than {num1}\")"
   ]
  },
  {
   "cell_type": "markdown",
   "metadata": {},
   "source": [
    "4. Write a Python script to classify a given year as a leap year or not."
   ]
  },
  {
   "cell_type": "code",
   "execution_count": 5,
   "metadata": {},
   "outputs": [
    {
     "name": "stdout",
     "output_type": "stream",
     "text": [
      "2024 is a leap year\n"
     ]
    }
   ],
   "source": [
    "year = int(input(\"Enter year : \"))\n",
    "\n",
    "if year % 4 != 0:\n",
    "    print(f\"{year} is not a leap year\")\n",
    "\n",
    "elif year  % 4 == 0 and year % 100 != 0:\n",
    "    print(f\"{year} is a leap year\")\n",
    "\n",
    "elif year % 4 == 0 and year % 100 == 0 and year % 400 != 0:\n",
    "    print(f\"{year} is not a leap year\")\n",
    "\n",
    "else: \n",
    "    print(f\"{year} is a leap year\")"
   ]
  },
  {
   "cell_type": "markdown",
   "metadata": {},
   "source": [
    "5. Create a program that checks whether a character is a vowel or a consonant."
   ]
  },
  {
   "cell_type": "code",
   "execution_count": 7,
   "metadata": {},
   "outputs": [
    {
     "name": "stdout",
     "output_type": "stream",
     "text": [
      "a is a vowel\n"
     ]
    }
   ],
   "source": [
    "string = input(\"Enter character \")\n",
    "\n",
    "if string in \"aeiou\":\n",
    "    print(f\"{string} is a vowel\")\n",
    "\n",
    "else:\n",
    "    print(f\"{string} is a consonant\")"
   ]
  },
  {
   "cell_type": "markdown",
   "metadata": {},
   "source": [
    "6. Implement a program to determine whether a given number is even or odd."
   ]
  },
  {
   "cell_type": "code",
   "execution_count": 8,
   "metadata": {},
   "outputs": [
    {
     "name": "stdout",
     "output_type": "stream",
     "text": [
      "51 is odd\n"
     ]
    }
   ],
   "source": [
    "num = int(input(\"Enter a Number : \"))\n",
    "\n",
    "if num % 2 == 0:\n",
    "    print(f\"{num} is even\")\n",
    "\n",
    "else:\n",
    "    print(f\"{num} is odd\")"
   ]
  },
  {
   "cell_type": "markdown",
   "metadata": {},
   "source": [
    "7. Write a Python function to calculate the absolute value of a number without using the `abs()` function."
   ]
  },
  {
   "cell_type": "code",
   "execution_count": 14,
   "metadata": {},
   "outputs": [
    {
     "name": "stdout",
     "output_type": "stream",
     "text": [
      "absolute value of -20 is 20\n"
     ]
    }
   ],
   "source": [
    "num = int(input(\"Enter Number : \"))\n",
    "\n",
    "if num >= 0:\n",
    "    print(f\"absolute value of {num} is {num}\")\n",
    "\n",
    "else:\n",
    "    print(f\"absolute value of {num} is {-num}\")"
   ]
  },
  {
   "cell_type": "markdown",
   "metadata": {},
   "source": [
    "8. Develop a program that determines the largest of three given numbers using if-else statements."
   ]
  },
  {
   "cell_type": "code",
   "execution_count": 17,
   "metadata": {},
   "outputs": [
    {
     "name": "stdout",
     "output_type": "stream",
     "text": [
      "3 is greatest than 3 and 3\n"
     ]
    }
   ],
   "source": [
    "num1 = int(input(\"Enter 1st Number : \"))\n",
    "num2 = int(input(\"Enter 2nd Number : \"))\n",
    "num3 = int(input(\"Enter 3rd Number : \"))\n",
    "\n",
    "if num1 > num2 and num1 > num3:\n",
    "    print(f\"{num1} is greatest than {num2} and {num3}\")\n",
    "\n",
    "elif num2 > num1 and num2 > num3:\n",
    "    print(f\"{num2} is greatest than {num1} and {num3}\")\n",
    "\n",
    "else:\n",
    "    print(f\"{num3} is greatest than {num1} and {num2}\")\n"
   ]
  },
  {
   "cell_type": "markdown",
   "metadata": {},
   "source": [
    "9. Create a program that checks if a given string is a palindrome."
   ]
  },
  {
   "cell_type": "code",
   "execution_count": 19,
   "metadata": {},
   "outputs": [
    {
     "name": "stdout",
     "output_type": "stream",
     "text": [
      "This 'level' is a palindrome\n"
     ]
    }
   ],
   "source": [
    "string = input(\"Enter a string : \")\n",
    "\n",
    "if string == string[::-1]:\n",
    "    print(f\"This '{string}' is a palindrome\")\n",
    "\n",
    "else:\n",
    "    print(f\"This '{string}' is not a palindrome\")"
   ]
  },
  {
   "cell_type": "markdown",
   "metadata": {},
   "source": [
    "10. Write a Python program to calculate the grade based on a student's score."
   ]
  },
  {
   "cell_type": "code",
   "execution_count": 29,
   "metadata": {},
   "outputs": [
    {
     "name": "stdout",
     "output_type": "stream",
     "text": [
      "grade E for scoring 10\n"
     ]
    }
   ],
   "source": [
    "score = int(input(\"Enter score out of 100 : \"))\n",
    "\n",
    "if score > 90:\n",
    "    print(f\"grade A+ for scoring {score}\")\n",
    "\n",
    "elif score <= 90 and score > 70:\n",
    "    print(f\"grade A for scoring {score}\")\n",
    "\n",
    "elif score <= 70 and score > 50:\n",
    "    print(f\"grade B for scoring {score}\")\n",
    "\n",
    "elif score <= 50 and score > 30:\n",
    "    print(f\"grade C for scoring {score}\")\n",
    "\n",
    "elif score <= 30 and score > 10:\n",
    "    print(f\"grade D for scoring {score}\")\n",
    "\n",
    "elif score <= 10 and score > 0:\n",
    "    print(f\"grade E for scoring {score}\")\n",
    "\n",
    "else:\n",
    "    print(f\"{score} is not a valid score\")"
   ]
  },
  {
   "cell_type": "code",
   "execution_count": null,
   "metadata": {},
   "outputs": [],
   "source": []
  },
  {
   "cell_type": "code",
   "execution_count": null,
   "metadata": {},
   "outputs": [],
   "source": [
    "99\n"
   ]
  }
 ],
 "metadata": {
  "kernelspec": {
   "display_name": "Python 3",
   "language": "python",
   "name": "python3"
  },
  "language_info": {
   "codemirror_mode": {
    "name": "ipython",
    "version": 3
   },
   "file_extension": ".py",
   "mimetype": "text/x-python",
   "name": "python",
   "nbconvert_exporter": "python",
   "pygments_lexer": "ipython3",
   "version": "3.12.0"
  }
 },
 "nbformat": 4,
 "nbformat_minor": 2
}
