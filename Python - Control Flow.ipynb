{
 "cells": [
  {
   "cell_type": "markdown",
   "metadata": {},
   "source": [
    "Basic If-Else Statements:"
   ]
  },
  {
   "cell_type": "markdown",
   "metadata": {},
   "source": [
    "1. Write a Python program to check if a given number is positive or negative."
   ]
  },
  {
   "cell_type": "code",
   "execution_count": 1,
   "metadata": {},
   "outputs": [
    {
     "name": "stdout",
     "output_type": "stream",
     "text": [
      "20 is positive\n"
     ]
    }
   ],
   "source": [
    "num = int(input(\"Enter Number : \"))\n",
    "\n",
    "if num >= 0:\n",
    "    print(f\"{num} is positive\")\n",
    "\n",
    "else:\n",
    "    print(f\"{num} is negetive\")"
   ]
  },
  {
   "cell_type": "markdown",
   "metadata": {},
   "source": [
    "2. Create a program that determines if a person is eligible to vote based on their age."
   ]
  },
  {
   "cell_type": "code",
   "execution_count": 2,
   "metadata": {},
   "outputs": [
    {
     "name": "stdout",
     "output_type": "stream",
     "text": [
      "You are 5 years old and not eligible for vote\n"
     ]
    }
   ],
   "source": [
    "age = int (input(\"Enter your age : \"))\n",
    "\n",
    "if age >= 18:\n",
    "    print(f\"You are {age} years old and eligible for vote\")\n",
    "\n",
    "else:\n",
    "    print(f\"You are {age} years old and not eligible for vote\")"
   ]
  },
  {
   "cell_type": "markdown",
   "metadata": {},
   "source": [
    "3. Develop a program to find the maximum of two numbers using if-else statements."
   ]
  },
  {
   "cell_type": "code",
   "execution_count": 3,
   "metadata": {},
   "outputs": [
    {
     "name": "stdout",
     "output_type": "stream",
     "text": [
      "30 is maximum than 20\n"
     ]
    }
   ],
   "source": [
    "num1 = int(input(\"Enter 1st number : \"))\n",
    "num2 = int(input(\"Enter 2nd number : \"))\n",
    "\n",
    "if num1>num2 :\n",
    "    print(f\"{num1} is maximum than {num2}\")\n",
    "\n",
    "elif num1==num2:\n",
    "    print(f\"{num1} and {num2} are same\")\n",
    "\n",
    "else:\n",
    "    print(f\"{num2} is maximum than {num1}\")"
   ]
  },
  {
   "cell_type": "markdown",
   "metadata": {},
   "source": [
    "4. Write a Python script to classify a given year as a leap year or not."
   ]
  },
  {
   "cell_type": "code",
   "execution_count": 5,
   "metadata": {},
   "outputs": [
    {
     "name": "stdout",
     "output_type": "stream",
     "text": [
      "2024 is a leap year\n"
     ]
    }
   ],
   "source": [
    "year = int(input(\"Enter year : \"))\n",
    "\n",
    "if year % 4 != 0:\n",
    "    print(f\"{year} is not a leap year\")\n",
    "\n",
    "elif year  % 4 == 0 and year % 100 != 0:\n",
    "    print(f\"{year} is a leap year\")\n",
    "\n",
    "elif year % 4 == 0 and year % 100 == 0 and year % 400 != 0:\n",
    "    print(f\"{year} is not a leap year\")\n",
    "\n",
    "else: \n",
    "    print(f\"{year} is a leap year\")"
   ]
  },
  {
   "cell_type": "markdown",
   "metadata": {},
   "source": [
    "5. Create a program that checks whether a character is a vowel or a consonant."
   ]
  },
  {
   "cell_type": "code",
   "execution_count": 23,
   "metadata": {},
   "outputs": [
    {
     "name": "stdout",
     "output_type": "stream",
     "text": [
      "g is a consonant\n"
     ]
    }
   ],
   "source": [
    "string = input(\"Enter character \")\n",
    "\n",
    "if string in \"aeiou\":\n",
    "    print(f\"{string} is a vowel\")\n",
    "\n",
    "else:\n",
    "    print(f\"{string} is a consonant\")"
   ]
  },
  {
   "cell_type": "markdown",
   "metadata": {},
   "source": [
    "6. Implement a program to determine whether a given number is even or odd."
   ]
  },
  {
   "cell_type": "code",
   "execution_count": 8,
   "metadata": {},
   "outputs": [
    {
     "name": "stdout",
     "output_type": "stream",
     "text": [
      "51 is odd\n"
     ]
    }
   ],
   "source": [
    "num = int(input(\"Enter a Number : \"))\n",
    "\n",
    "if num % 2 == 0:\n",
    "    print(f\"{num} is even\")\n",
    "\n",
    "else:\n",
    "    print(f\"{num} is odd\")"
   ]
  },
  {
   "cell_type": "markdown",
   "metadata": {},
   "source": [
    "7. Write a Python function to calculate the absolute value of a number without using the `abs()` function."
   ]
  },
  {
   "cell_type": "code",
   "execution_count": 14,
   "metadata": {},
   "outputs": [
    {
     "name": "stdout",
     "output_type": "stream",
     "text": [
      "absolute value of -20 is 20\n"
     ]
    }
   ],
   "source": [
    "num = int(input(\"Enter Number : \"))\n",
    "\n",
    "if num >= 0:\n",
    "    print(f\"absolute value of {num} is {num}\")\n",
    "\n",
    "else:\n",
    "    print(f\"absolute value of {num} is {-num}\")"
   ]
  },
  {
   "cell_type": "markdown",
   "metadata": {},
   "source": [
    "8. Develop a program that determines the largest of three given numbers using if-else statements."
   ]
  },
  {
   "cell_type": "code",
   "execution_count": 24,
   "metadata": {},
   "outputs": [
    {
     "name": "stdout",
     "output_type": "stream",
     "text": [
      "9 is greatest than 7 and 4\n"
     ]
    }
   ],
   "source": [
    "num1 = int(input(\"Enter 1st Number : \"))\n",
    "num2 = int(input(\"Enter 2nd Number : \"))\n",
    "num3 = int(input(\"Enter 3rd Number : \"))\n",
    "\n",
    "if num1 > num2 and num1 > num3:\n",
    "    print(f\"{num1} is greatest than {num2} and {num3}\")\n",
    "\n",
    "elif num2 > num1 and num2 > num3:\n",
    "    print(f\"{num2} is greatest than {num1} and {num3}\")\n",
    "\n",
    "else:\n",
    "    print(f\"{num3} is greatest than {num1} and {num2}\")\n"
   ]
  },
  {
   "cell_type": "markdown",
   "metadata": {},
   "source": [
    "9. Create a program that checks if a given string is a palindrome."
   ]
  },
  {
   "cell_type": "code",
   "execution_count": 19,
   "metadata": {},
   "outputs": [
    {
     "name": "stdout",
     "output_type": "stream",
     "text": [
      "This 'level' is a palindrome\n"
     ]
    }
   ],
   "source": [
    "string = input(\"Enter a string : \")\n",
    "\n",
    "if string == string[::-1]:\n",
    "    print(f\"This '{string}' is a palindrome\")\n",
    "\n",
    "else:\n",
    "    print(f\"This '{string}' is not a palindrome\")"
   ]
  },
  {
   "cell_type": "markdown",
   "metadata": {},
   "source": [
    "10. Write a Python program to calculate the grade based on a student's score."
   ]
  },
  {
   "cell_type": "code",
   "execution_count": 29,
   "metadata": {},
   "outputs": [
    {
     "name": "stdout",
     "output_type": "stream",
     "text": [
      "grade E for scoring 10\n"
     ]
    }
   ],
   "source": [
    "score = int(input(\"Enter score out of 100 : \"))\n",
    "\n",
    "if score > 90:\n",
    "    print(f\"grade A+ for scoring {score}\")\n",
    "\n",
    "elif score <= 90 and score > 70:\n",
    "    print(f\"grade A for scoring {score}\")\n",
    "\n",
    "elif score <= 70 and score > 50:\n",
    "    print(f\"grade B for scoring {score}\")\n",
    "\n",
    "elif score <= 50 and score > 30:\n",
    "    print(f\"grade C for scoring {score}\")\n",
    "\n",
    "elif score <= 30 and score > 10:\n",
    "    print(f\"grade D for scoring {score}\")\n",
    "\n",
    "elif score <= 10 and score > 0:\n",
    "    print(f\"grade E for scoring {score}\")\n",
    "\n",
    "else:\n",
    "    print(f\"{score} is not a valid score\")"
   ]
  },
  {
   "cell_type": "markdown",
   "metadata": {},
   "source": [
    "Nested If-Else Statements:"
   ]
  },
  {
   "cell_type": "markdown",
   "metadata": {},
   "source": [
    "11. Write a program to find the largest among three numbers using nested if-else statements."
   ]
  },
  {
   "cell_type": "code",
   "execution_count": 6,
   "metadata": {},
   "outputs": [
    {
     "name": "stdout",
     "output_type": "stream",
     "text": [
      "22 is greater than 20 and 2\n"
     ]
    }
   ],
   "source": [
    "num1 = int(input(\"Enter 1st Number : \"))\n",
    "num2 = int(input(\"Enter 2nd Number : \"))\n",
    "num3 = int(input(\"Enter 3rd Number : \"))\n",
    "\n",
    "if num1>num2:\n",
    "    if num1> num3:\n",
    "        print(f\"{num1} is greater tham {num2} and {num3}\")\n",
    "\n",
    "    else:\n",
    "        print(f\"{num3} is greater than {num1} and {num2}\")\n",
    "\n",
    "else:\n",
    "    if num2>num3:\n",
    "        print(f\"{num2} is greater than {num1} and {num2}\")\n",
    "\n",
    "    else:\n",
    "        print(f\"{num3} is greater than {num1} and {num2}\")"
   ]
  },
  {
   "cell_type": "markdown",
   "metadata": {},
   "source": [
    "12. Implement a program to determine if a triangle is equilateral, isosceles, or scalene."
   ]
  },
  {
   "cell_type": "code",
   "execution_count": 8,
   "metadata": {},
   "outputs": [
    {
     "name": "stdout",
     "output_type": "stream",
     "text": [
      "triangle is Scalene Triangle with sides 5 , 6 and 7\n"
     ]
    }
   ],
   "source": [
    "num1 = int(input(\"Enter 1st side : \"))\n",
    "num2 = int(input(\"Enter 2nd side : \"))\n",
    "num3 = int(input(\"Enter 3rd side : \"))\n",
    "\n",
    "if num1 == num2:\n",
    "    if num2 == num3:\n",
    "        print(f\"triangle is Equilateral Triangle with sides {num1} , {num2} and {num3}\")\n",
    "\n",
    "    else:\n",
    "        print(f\"triangle is Isosceles Triangle with sides {num1} , {num2} and {num3}\")\n",
    "\n",
    "else:\n",
    "    if num2 == num3 :\n",
    "        print(f\"triangle is Isosceles Triangle with sides {num1} , {num2} and {num3}\")\n",
    "\n",
    "    else:\n",
    "        print(f\"triangle is Scalene Triangle with sides {num1} , {num2} and {num3}\")"
   ]
  },
  {
   "cell_type": "markdown",
   "metadata": {},
   "source": [
    "13. Develop a program that checks if a year is a leap year and also if it is a century year."
   ]
  },
  {
   "cell_type": "code",
   "execution_count": 24,
   "metadata": {},
   "outputs": [
    {
     "name": "stdout",
     "output_type": "stream",
     "text": [
      "2100 is a century\n",
      "2100 is not a leap year\n"
     ]
    }
   ],
   "source": [
    "year = int(input(\"Enter year : \"))\n",
    "\n",
    "if year % 100 == 0 :\n",
    "    print(f\"{year} is a century\")\n",
    "else:\n",
    "    print(f\"{year} is not a century\")\n",
    "\n",
    "if year % 4 == 0:\n",
    "\n",
    "    if year % 100 == 0:\n",
    "\n",
    "        if year % 400 == 0:\n",
    "            print(f\"{year} is a leap year\")\n",
    "\n",
    "        else:\n",
    "            print(f\"{year} is not a leap year\")\n",
    "\n",
    "    else:\n",
    "        print(f\"{year} is a leap year\")\n",
    "\n",
    "else:\n",
    "    print(f\"{year} is not a leap year\")"
   ]
  },
  {
   "cell_type": "markdown",
   "metadata": {},
   "source": [
    "14. Write a Python script to determine if a number is positive, negative, or zero."
   ]
  },
  {
   "cell_type": "code",
   "execution_count": 25,
   "metadata": {},
   "outputs": [
    {
     "name": "stdout",
     "output_type": "stream",
     "text": [
      "-50 is negetive\n"
     ]
    }
   ],
   "source": [
    "num = int(input(\"Enter a Number : \"))\n",
    "if num >= 0:\n",
    "    if num == 0:\n",
    "        print(f\"{num} is zero\")\n",
    "\n",
    "    else:\n",
    "        print(f\"{num} is positive\")\n",
    "\n",
    "else:\n",
    "    print(f\"{num} is negetive\")\n"
   ]
  },
  {
   "cell_type": "markdown",
   "metadata": {},
   "source": [
    "15. Create a program to check if a person is a teenager (between 13 and 19 years old)."
   ]
  },
  {
   "cell_type": "code",
   "execution_count": 26,
   "metadata": {},
   "outputs": [
    {
     "name": "stdout",
     "output_type": "stream",
     "text": [
      "Person is not a teenager as 36 years old\n"
     ]
    }
   ],
   "source": [
    "age = int(input(\"Enter age : \"))\n",
    "\n",
    "if age>12 and age<20:\n",
    "    print(f\"Person is a teenager as {age} years old\")\n",
    "\n",
    "else:\n",
    "    print(f\"Person is not a teenager as {age} years old\")"
   ]
  },
  {
   "cell_type": "markdown",
   "metadata": {},
   "source": [
    "16. Develop a program that determines the type of angle based on its measure (acute, obtuse, or right)."
   ]
  },
  {
   "cell_type": "code",
   "execution_count": 27,
   "metadata": {},
   "outputs": [
    {
     "name": "stdout",
     "output_type": "stream",
     "text": [
      "angle is acute as side is 40\n"
     ]
    }
   ],
   "source": [
    "angle1 = int(input(\"Enter angle of side 1 (in degree) : \"))\n",
    "angle2 = int(input(\"Enter angle of side 2 (in degree) : \"))\n",
    "angle3 = int(input(\"Enter angle of side 3 (in degree) : \"))\n",
    "\n",
    "\n",
    "if angle1>=90 or angle2>=90 or angle3>=90:\n",
    "    if angle1==90 or angle2==90 or angle3==90:\n",
    "        print(f\"angle is right as side is {max(angle1,angle2,angle3)}\")\n",
    "    \n",
    "    else:\n",
    "        print(f\"angle is obtuse as side is {max(angle1,angle2,angle3)}\")\n",
    "        \n",
    "else:\n",
    "    print(f\"angle is acute as side is {max(angle1,angle2,angle3)}\")"
   ]
  },
  {
   "cell_type": "markdown",
   "metadata": {},
   "source": [
    "17. Write a Python program to calculate the roots of a quadratic equation."
   ]
  },
  {
   "cell_type": "code",
   "execution_count": 5,
   "metadata": {},
   "outputs": [
    {
     "name": "stdout",
     "output_type": "stream",
     "text": [
      "quadratic equation format (ax² + bx + c)\n",
      "quadratic equation is (2x² + 3x + 1)\n",
      "discriminant is 1\n",
      "discriminant is positive , Roots are -0.5 and -1.0\n"
     ]
    }
   ],
   "source": [
    "import math\n",
    "\n",
    "print(\"quadratic equation format (ax\\u00b2 + bx + c)\")\n",
    "a = int(input(\"Enter value of a\"))\n",
    "b = int(input(\"Enter value of b\"))\n",
    "c = int(input(\"Enter value of c\"))\n",
    "\n",
    "print(f\"quadratic equation is ({a}x\\u00b2 + {b}x + {c})\")\n",
    "\n",
    "\n",
    "discriminant = b**2 - 4*a*c\n",
    "\n",
    "print(\"discriminant is\", discriminant)\n",
    "\n",
    "\n",
    "if discriminant <0:\n",
    "    print(\"discriminant is negetive , Roots are Complex\")\n",
    "\n",
    "else:\n",
    "    if discriminant == 0:\n",
    "        print(f\"discriminant is zero , Root is {-b/(2*a)}\")\n",
    "\n",
    "    else:\n",
    "        print(\"discriminant is positive , \",end =\"\")\n",
    "\n",
    "\n",
    "        discriminant_root = math.sqrt(discriminant)\n",
    "        x1 = ((- b + discriminant_root)/(2*a))\n",
    "        x2 = ((- b - discriminant_root)/(2*a))\n",
    "\n",
    "        print(f\"Roots are {x1} and {x2}\")\n",
    "\n"
   ]
  },
  {
   "cell_type": "markdown",
   "metadata": {},
   "source": [
    "18. Implement a program to determine the day of the week based on a user-provided number (1 for Monday, 2 for Tuesday, etc.)."
   ]
  },
  {
   "cell_type": "code",
   "execution_count": 2,
   "metadata": {},
   "outputs": [
    {
     "name": "stdout",
     "output_type": "stream",
     "text": [
      "the day 4 of the week is Thursday\n"
     ]
    }
   ],
   "source": [
    "day = int(input(\"Enter day of a Week (1 - 7): \"))\n",
    "\n",
    "days = ['Monday' , 'Tuesday' , 'Wednesday' , 'Thursday' , 'Friday' , 'Saturday' , 'Sunday']\n",
    "\n",
    "day_week = days[day-1]\n",
    "\n",
    "print(f\"the day {day} of the week is {day_week}\")"
   ]
  },
  {
   "cell_type": "markdown",
   "metadata": {},
   "source": [
    "19. Create a program that determines if a year is a leap year and also if it is evenly divisible by 400."
   ]
  },
  {
   "cell_type": "code",
   "execution_count": 3,
   "metadata": {},
   "outputs": [
    {
     "name": "stdout",
     "output_type": "stream",
     "text": [
      "2020 is a leap year\n",
      "2020 is not divisible by 400\n"
     ]
    }
   ],
   "source": [
    "year = int(input(\"Enter year : \"))\n",
    "\n",
    "if year % 4 == 0:\n",
    "\n",
    "    if year % 100 == 0:\n",
    "\n",
    "        if year % 400 == 0:\n",
    "            print(f\"{year} is a leap year\")\n",
    "            print(f\"{year} is evenly divisible by 400\")\n",
    "        else:\n",
    "            print(f\"{year} is not a leap year\")\n",
    "            print(f\"{year} is not divisible by 400\")\n",
    "    else:\n",
    "        print(f\"{year} is a leap year\")\n",
    "        print(f\"{year} is not divisible by 400\")\n",
    "else:\n",
    "    print(f\"{year} is not a leap year\")\n",
    "    print(f\"{year} is not divisible by 400\")"
   ]
  },
  {
   "cell_type": "markdown",
   "metadata": {},
   "source": [
    "20. Develop a program that checks if a given number is prime or not using nested if-else statements."
   ]
  },
  {
   "cell_type": "code",
   "execution_count": 8,
   "metadata": {},
   "outputs": [
    {
     "name": "stdout",
     "output_type": "stream",
     "text": [
      "23 is a prime number\n"
     ]
    }
   ],
   "source": [
    "num = int(input(\"Enter a number : \"))\n",
    "\n",
    "for i in range(2,num):\n",
    "    if num % i == 0:\n",
    "        print(f\"{num} is not a prime number\")\n",
    "        break\n",
    "\n",
    "    else:\n",
    "        print(f\"{num} is a prime number\")\n",
    "        break"
   ]
  },
  {
   "cell_type": "markdown",
   "metadata": {},
   "source": [
    "Elif Statements:"
   ]
  },
  {
   "cell_type": "markdown",
   "metadata": {},
   "source": [
    "21. Write a Python program to assign grades based on different ranges of scores using elif statements."
   ]
  },
  {
   "cell_type": "code",
   "execution_count": 27,
   "metadata": {},
   "outputs": [
    {
     "name": "stdout",
     "output_type": "stream",
     "text": [
      "grade A for scoring 87\n"
     ]
    }
   ],
   "source": [
    "score = int(input(\"Enter score out of 100 : \"))\n",
    "\n",
    "if score > 90:\n",
    "    print(f\"grade A+ for scoring {score}\")\n",
    "\n",
    "elif score <= 90 and score > 70:\n",
    "    print(f\"grade A for scoring {score}\")\n",
    "\n",
    "elif score <= 70 and score > 50:\n",
    "    print(f\"grade B for scoring {score}\")\n",
    "\n",
    "elif score <= 50 and score > 30:\n",
    "    print(f\"grade C for scoring {score}\")\n",
    "\n",
    "elif score <= 30 and score > 10:\n",
    "    print(f\"grade D for scoring {score}\")\n",
    "\n",
    "elif score <= 10 and score > 0:\n",
    "    print(f\"grade E for scoring {score}\")\n",
    "\n",
    "else:\n",
    "    print(f\"{score} is not a valid score\")"
   ]
  },
  {
   "cell_type": "markdown",
   "metadata": {},
   "source": [
    "22. Implement a program to determine the type of a triangle based on its angles."
   ]
  },
  {
   "cell_type": "code",
   "execution_count": 28,
   "metadata": {},
   "outputs": [
    {
     "name": "stdout",
     "output_type": "stream",
     "text": [
      "angle is obtuse angled triangle as side is 105\n"
     ]
    }
   ],
   "source": [
    "angle1 = int(input(\"Enter angle of side 1 (in degree) : \"))\n",
    "angle2 = int(input(\"Enter angle of side 2 (in degree) : \"))\n",
    "angle3 = int(input(\"Enter angle of side 3 (in degree) : \"))\n",
    "\n",
    "\n",
    "if angle1>=90 or angle2>=90 or angle3>=90:\n",
    "    if angle1==90 or angle2==90 or angle3==90:\n",
    "        print(f\"angle is right angled Triangle as side is {max(angle1,angle2,angle3)}\")\n",
    "    \n",
    "    else:\n",
    "        print(f\"angle is obtuse angled triangle as side is {max(angle1,angle2,angle3)}\")\n",
    "\n",
    "else:\n",
    "    print(f\"angle is acute angled triangle as side is {max(angle1,angle2,angle3)}\")"
   ]
  },
  {
   "cell_type": "markdown",
   "metadata": {},
   "source": [
    "23. Develop a program to categorize a given person's BMI into underweight, normal, overweight, or obese using\n",
    "elif statements."
   ]
  },
  {
   "cell_type": "code",
   "execution_count": 5,
   "metadata": {},
   "outputs": [
    {
     "name": "stdout",
     "output_type": "stream",
     "text": [
      "Person is Obese as BMI is 32\n"
     ]
    }
   ],
   "source": [
    "BMI = int(input(\"Enter Person's BMI : \"))\n",
    "\n",
    "if BMI <= 18.5 :\n",
    "    print(f\"Person is Under Weight as BMI is {BMI}\")\n",
    "\n",
    "elif 18.5 < BMI <= 25 :\n",
    "    print(f\"Person is Normal Weight as BMI is {BMI}\")\n",
    "\n",
    "elif 25 < BMI <= 30 :\n",
    "    print(f\"Person is Over Weight as BMI is {BMI}\")\n",
    "\n",
    "else:\n",
    "    print(f\"Person is Obese as BMI is {BMI}\")"
   ]
  },
  {
   "cell_type": "markdown",
   "metadata": {},
   "source": [
    "24. Create a program that determines whether a given number is positive, negative, or zero using elif\n",
    "statements."
   ]
  },
  {
   "cell_type": "code",
   "execution_count": 6,
   "metadata": {},
   "outputs": [
    {
     "name": "stdout",
     "output_type": "stream",
     "text": [
      "56 is positive\n"
     ]
    }
   ],
   "source": [
    "num = int(input(\"Enter a Number : \"))\n",
    "if num > 0:\n",
    "    print(f\"{num} is positive\")\n",
    "\n",
    "elif num == 0:\n",
    "    print(f\"{num} is zero\")\n",
    "\n",
    "else:\n",
    "    print(f\"{num} is negetive\")"
   ]
  },
  {
   "cell_type": "markdown",
   "metadata": {},
   "source": [
    "25. Write a Python script to determine the type of a character (uppercase, lowercase, or special) using elif\n",
    "statements."
   ]
  },
  {
   "cell_type": "code",
   "execution_count": 8,
   "metadata": {},
   "outputs": [
    {
     "name": "stdout",
     "output_type": "stream",
     "text": [
      "& is a special character\n"
     ]
    }
   ],
   "source": [
    "char = input(\"Enter a character : \")\n",
    "\n",
    "if char.islower() :\n",
    "    print(f\"{char} is in lowercase\")\n",
    "\n",
    "elif char.isupper() :\n",
    "    print(f\"{char} is in uppercase\")\n",
    "\n",
    "else:\n",
    "    print(f\"{char} is a special character\")"
   ]
  },
  {
   "cell_type": "markdown",
   "metadata": {},
   "source": [
    "26. Implement a program to calculate the discounted price based on different purchase amounts using elif\n",
    "statements."
   ]
  },
  {
   "cell_type": "code",
   "execution_count": 17,
   "metadata": {},
   "outputs": [
    {
     "name": "stdout",
     "output_type": "stream",
     "text": [
      "      Get 10% off on purachase of above Rs2000\n",
      "      Get 15% off on purachase of above Rs5000\n",
      "      Get 20% off on purachase of above Rs10000\n",
      "      Get 25% off on purachase of above Rs25000\n",
      "      Get 30% off on purachase of above Rs50000\n",
      "      \n",
      "      \n",
      "Congratuations , You will get 25% discount on purchase of 26000 , Final Amount after discount is 19500.0\n"
     ]
    }
   ],
   "source": [
    "print(\"\"\"      Get 10% off on purachase of above Rs2000\n",
    "      Get 15% off on purachase of above Rs5000\n",
    "      Get 20% off on purachase of above Rs10000\n",
    "      Get 25% off on purachase of above Rs25000\n",
    "      Get 30% off on purachase of above Rs50000\n",
    "      \n",
    "      \"\"\")\n",
    "\n",
    "amount = int(input(\"Enter Purchase Amount : \"))\n",
    "\n",
    "\n",
    "\n",
    "if 5000 >= amount > 2000:\n",
    "    print(f\"Congratuations , You will get 10% discount on purchase of {amount} , Final Amount after discount is {amount - ((amount*10)/100)}\")\n",
    "\n",
    "elif 10000 >= amount > 5000:\n",
    "    print(f\"Congratuations , You will get 15% discount on purchase of {amount} , Final Amount after discount is {amount - ((amount*15)/100)}\")\n",
    "\n",
    "elif 25000 >= amount > 10000:\n",
    "    print(f\"Congratuations , You will get 20% discount on purchase of {amount} , Final Amount after discount is {amount - ((amount*20)/100)}\")\n",
    "\n",
    "elif 50000 >= amount > 25000:\n",
    "    print(f\"Congratuations , You will get 25% discount on purchase of {amount} , Final Amount after discount is {amount - ((amount*25)/100)}\")\n",
    "\n",
    "elif amount > 50000:\n",
    "    print(f\"Congratuations , You will get 30% discount on purchase of {amount} , Final Amount after discount is {amount - ((amount*30)/100)}\")\n",
    "\n",
    "else:\n",
    "    print(f\"Sorry , You are not eligible for any discount as your purchase amount is only {amount}\")\n"
   ]
  },
  {
   "cell_type": "markdown",
   "metadata": {},
   "source": [
    "27. Develop a program to calculate the electricity bill based on different consumption slabs using elif\n",
    "statements."
   ]
  },
  {
   "cell_type": "code",
   "execution_count": 22,
   "metadata": {},
   "outputs": [
    {
     "name": "stdout",
     "output_type": "stream",
     "text": [
      "Up to 50 units: 35 INR per unit\n",
      "51 to 150 units: 52.50 INR per unit\n",
      "151 to 250 units:84 INR per unit\n",
      "Above 250 units: 105 INR per unit\n",
      "      \n",
      "\n",
      "Bill amount on 160 units consumption : Rs 13440\n"
     ]
    }
   ],
   "source": [
    "print(\"\"\"Up to 50 units: 35 INR per unit\n",
    "51 to 150 units: 52.50 INR per unit\n",
    "151 to 250 units:84 INR per unit\n",
    "Above 250 units: 105 INR per unit\n",
    "      \n",
    "\"\"\")\n",
    "\n",
    "unit = int(input(\"Enter units consumed in this month : \"))\n",
    "\n",
    "if unit <= 50:\n",
    "    print(f\"Bill amount on {unit} units consumption : Rs {unit*35}\")\n",
    "\n",
    "elif 50 < unit <= 150:\n",
    "    print(f\"Bill amount on {unit} units consumption : Rs {unit*52.5}\")\n",
    "\n",
    "elif 150 < unit <= 250:\n",
    "    print(f\"Bill amount on {unit} units consumption : Rs {unit*84}\")\n",
    "\n",
    "elif 250 < unit:\n",
    "    print(f\"Bill amount on {unit} units consumption : Rs {unit*105}\")\n",
    "\n",
    "else:\n",
    "    print(\"Please Enter Valid Units\")"
   ]
  },
  {
   "cell_type": "markdown",
   "metadata": {},
   "source": [
    "28. Create a program to determine the type of quadrilateral based on its angles and sides using elif\n",
    "statements."
   ]
  },
  {
   "cell_type": "code",
   "execution_count": 5,
   "metadata": {},
   "outputs": [
    {
     "name": "stdout",
     "output_type": "stream",
     "text": [
      "Sides are (a,b,c,d) : 8 , 8 , 8 , 8 \n",
      "Angles are (a,b,c,d) : 90 , 90 , 90 , 90 \n",
      "quadrilateral is Square\n"
     ]
    }
   ],
   "source": [
    "sa = int(input(\"Enter side a : \"))\n",
    "sb = int(input(\"Enter side b : \"))\n",
    "sc = int(input(\"Enter side c : \"))\n",
    "sd = int(input(\"Enter side d : \"))\n",
    "\n",
    "aa = int(input(\"Enter angle a : \"))\n",
    "ab = int(input(\"Enter angle b : \"))\n",
    "ac = int(input(\"Enter angle c : \"))\n",
    "ad = int(input(\"Enter angle d : \"))\n",
    "\n",
    "print(f\"Sides are (a,b,c,d) : {sa} , {sb} , {sc} , {sd} \")\n",
    "print(f\"Angles are (a,b,c,d) : {aa} , {ab} , {ac} , {ad} \")\n",
    "\n",
    "if sa == sb == sc == sd and aa == ab ==ac == ad == 90:\n",
    "    print(\"quadrilateral is Square\")\n",
    "\n",
    "elif sa == sc and sb == sd and aa == ab ==ac == ad == 90:\n",
    "    print(\"quadrilateral is Rectangle\")\n",
    "\n",
    "elif sa == sb == sc == sd and aa == ac and ab == ad:\n",
    "    print(\"quadrilateral is Rhombus\")\n",
    "\n",
    "elif sa == sc and sb == sd and aa == ac and ab == ad:\n",
    "    print(\"quadrilateral is Parallelogram\")\n",
    "\n",
    "elif sa == sc or sb == sd and aa + ab == 180 and ac + ad == 180:\n",
    "    print(\"quadrilateral is Trapezoid\")\n",
    "\n",
    "else:\n",
    "    print(\"It is regular quadrilateral\")\n"
   ]
  },
  {
   "cell_type": "markdown",
   "metadata": {},
   "source": [
    "29. Write a Python script to determine the season based on a user-provided month using elif statements."
   ]
  },
  {
   "cell_type": "code",
   "execution_count": null,
   "metadata": {},
   "outputs": [],
   "source": []
  },
  {
   "cell_type": "markdown",
   "metadata": {},
   "source": [
    "30. Implement a program to determine the type of a year (leap or common) and month (30 or 31 days) using\n",
    "elif statements."
   ]
  },
  {
   "cell_type": "code",
   "execution_count": null,
   "metadata": {},
   "outputs": [],
   "source": []
  }
 ],
 "metadata": {
  "kernelspec": {
   "display_name": "Python 3",
   "language": "python",
   "name": "python3"
  },
  "language_info": {
   "codemirror_mode": {
    "name": "ipython",
    "version": 3
   },
   "file_extension": ".py",
   "mimetype": "text/x-python",
   "name": "python",
   "nbconvert_exporter": "python",
   "pygments_lexer": "ipython3",
   "version": "3.12.0"
  }
 },
 "nbformat": 4,
 "nbformat_minor": 2
}
