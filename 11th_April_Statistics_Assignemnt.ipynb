{
 "cells": [
  {
   "cell_type": "markdown",
   "id": "faadb8f3",
   "metadata": {},
   "source": [
    "1.  Generate a list of 100 integers containing values between 90 to 130 and store it in the variable `int_list`. \n",
    "After generating the list, find the following:"
   ]
  },
  {
   "cell_type": "code",
   "execution_count": 72,
   "id": "baad7d93",
   "metadata": {},
   "outputs": [
    {
     "name": "stdout",
     "output_type": "stream",
     "text": [
      "[99, 110, 96, 115, 113, 125, 99, 106, 114, 90, 97, 112, 126, 114, 111, 109, 130, 114, 110, 90, 128, 91, 91, 100, 98, 104, 95, 94, 94, 128, 96, 100, 110, 116, 98, 119, 118, 119, 90, 105, 112, 95, 120, 110, 99, 105, 107, 115, 103, 102, 95, 100, 92, 128, 115, 92, 107, 97, 99, 105, 90, 98, 91, 97, 104, 130, 112, 96, 115, 126, 112, 91, 129, 91, 118, 111, 122, 111, 107, 118, 115, 114, 107, 124, 103, 95, 128, 97, 116, 110, 114, 115, 119, 116, 101, 106, 111, 126, 125, 90]\n"
     ]
    }
   ],
   "source": [
    "import random\n",
    "# Generate the list of 1000 integers batween 90 and 130\n",
    "int_list = [random.randint(90,130) for _ in range(100)]\n",
    "print(int_list)"
   ]
  },
  {
   "cell_type": "markdown",
   "id": "ac1f17a4",
   "metadata": {},
   "source": [
    "     (i) Write a Python function to calculate the mean of a given list of numbers.\n",
    "    Create a function to find the median of a list of numbers."
   ]
  },
  {
   "cell_type": "code",
   "execution_count": 73,
   "id": "eaff13b5",
   "metadata": {},
   "outputs": [
    {
     "name": "stdout",
     "output_type": "stream",
     "text": [
      "Mean : 107.73\n"
     ]
    }
   ],
   "source": [
    "def calculate_mean(numbers):\n",
    "    return sum(numbers)/len(numbers)\n",
    "\n",
    "print(f'Mean : {calculate_mean(int_list)}')"
   ]
  },
  {
   "cell_type": "code",
   "execution_count": 74,
   "id": "7c696c00",
   "metadata": {},
   "outputs": [
    {
     "name": "stdout",
     "output_type": "stream",
     "text": [
      "Median : 161.5\n"
     ]
    }
   ],
   "source": [
    "def calculate_median(numbers):\n",
    "    sorted_numbers = sorted(numbers)\n",
    "    n = len(sorted_numbers)\n",
    "    mid = n//2\n",
    "    if n%2 == 0:\n",
    "        return (sorted_numbers[mid-1]+sorted_numbers[mid]/2)\n",
    "    else:\n",
    "        return sorted_numbers[mid]\n",
    "    \n",
    "print(f'Median : {calculate_median(int_list)}')"
   ]
  },
  {
   "cell_type": "markdown",
   "id": "bc4e7cb0",
   "metadata": {},
   "source": [
    "    (ii) Develop a program to compute the mode of a list of integers."
   ]
  },
  {
   "cell_type": "code",
   "execution_count": 75,
   "id": "b29755dd",
   "metadata": {},
   "outputs": [
    {
     "name": "stdout",
     "output_type": "stream",
     "text": [
      "Modes : [115]\n"
     ]
    }
   ],
   "source": [
    "from collections import Counter\n",
    "\n",
    "def calculate_mode(numbers):\n",
    "    count = Counter(numbers)\n",
    "    max_freq = max(count.values())\n",
    "    modes = [num for num,freq in count.items() if freq == max_freq]\n",
    "    return modes\n",
    "\n",
    "print(f'Modes : {calculate_mode(int_list)}')"
   ]
  },
  {
   "cell_type": "markdown",
   "id": "efbfc421",
   "metadata": {},
   "source": [
    "    (iii) Implement a function to calculate the weighted mean of a list of values and their corresponding weights."
   ]
  },
  {
   "cell_type": "code",
   "execution_count": 76,
   "id": "0e06e917",
   "metadata": {},
   "outputs": [],
   "source": [
    "def calculated_weighted_mean(values,weights):\n",
    "    if len(values) != len(weights):\n",
    "        raise ValueError('Values and weights must be of the same length')\n",
    "    weighted_sum = sum(v*w for v,w in zip(values,weights))\n",
    "    total_weight = sum(weights)\n",
    "    return weighted_sum/total_weight"
   ]
  },
  {
   "cell_type": "markdown",
   "id": "5ff1605f",
   "metadata": {},
   "source": [
    "    (iv) Write a Python function to find the geometric mean of a list of positive numbers."
   ]
  },
  {
   "cell_type": "code",
   "execution_count": 77,
   "id": "22ff2705",
   "metadata": {},
   "outputs": [],
   "source": [
    "import math\n",
    "\n",
    "def calculate_geomatric_mean(numbers):\n",
    "    product = 1\n",
    "    for num in numbers:\n",
    "        if num <= 0:\n",
    "            raise ValueError(\"All numbers must be positive for geometric mean\")\n",
    "        prouduct *= num\n",
    "    return product **(1/len(numbers))"
   ]
  },
  {
   "cell_type": "markdown",
   "id": "abfe882b",
   "metadata": {},
   "source": [
    "    (v) Create a program to calculate the harmonic mean of a list of values.\n",
    " "
   ]
  },
  {
   "cell_type": "code",
   "execution_count": 78,
   "id": "0a88e1ff",
   "metadata": {},
   "outputs": [
    {
     "name": "stdout",
     "output_type": "stream",
     "text": [
      "Harmonic Mean : 106.51334262169668\n"
     ]
    }
   ],
   "source": [
    "def calculate_harmonic_mean(numbers):\n",
    "    if any(num == 0 for num in numbers):\n",
    "        raise ValueError('Cannot calculate harmonic mean with zero values')\n",
    "    reciprocal_sum = sum(1/num for num in numbers)\n",
    "    return len(numbers) / reciprocal_sum\n",
    "\n",
    "print(f'Harmonic Mean : {calculate_harmonic_mean(int_list)}')"
   ]
  },
  {
   "cell_type": "markdown",
   "id": "ab4be040",
   "metadata": {},
   "source": [
    "    (vi) Build a function to determine the midrange of a list of numbers (average of the minimum and maximum).\n",
    " "
   ]
  },
  {
   "cell_type": "code",
   "execution_count": 79,
   "id": "714d9b44",
   "metadata": {},
   "outputs": [
    {
     "name": "stdout",
     "output_type": "stream",
     "text": [
      "MidRange : 110.0\n"
     ]
    }
   ],
   "source": [
    "def calculate_midrange(numbers):\n",
    "    return (min(numbers) + max(numbers))/2\n",
    "\n",
    "print(f'MidRange : {calculate_midrange(int_list)}')"
   ]
  },
  {
   "cell_type": "markdown",
   "id": "473e435a",
   "metadata": {},
   "source": [
    "    (vii) Implement a Python program to find the trimmed mean of a list, excluding a certain percentage of outliers."
   ]
  },
  {
   "cell_type": "code",
   "execution_count": 80,
   "id": "0b2f1bf6",
   "metadata": {},
   "outputs": [
    {
     "name": "stdout",
     "output_type": "stream",
     "text": [
      "Trimmed Mean : 107.6\n"
     ]
    }
   ],
   "source": [
    "def calculate_trimmed_mean(numbers , trim_percent):\n",
    "    if not(0 <= trim_percent < 0.5):\n",
    "        raise ValueError('trim_percent must be between 0 and 0.5')\n",
    "    \n",
    "    sorted_numbers = sorted(numbers)\n",
    "    n = len(numbers)\n",
    "    trim_count = int(n*trim_percent)\n",
    "    trimmed = sorted_numbers[trim_count:n - trim_count]\n",
    "    return calculate_mean(trimmed)\n",
    "\n",
    "print(f'Trimmed Mean : {calculate_trimmed_mean(int_list,0.3)}')"
   ]
  },
  {
   "cell_type": "markdown",
   "id": "f512403f",
   "metadata": {},
   "source": [
    " 2. Generate a list of 500 integers containing values between 200 to 300 and store it in the variable `int_list2`. \n",
    "After generating the list, find the following:"
   ]
  },
  {
   "cell_type": "code",
   "execution_count": 81,
   "id": "99a4c445",
   "metadata": {},
   "outputs": [
    {
     "name": "stdout",
     "output_type": "stream",
     "text": [
      "[281, 244, 231, 256, 274, 286, 293, 212, 228, 215, 242, 249, 210, 244, 252, 255, 294, 221, 255, 261, 203, 290, 248, 284, 256, 226, 211, 238, 294, 210, 214, 226, 219, 246, 243, 279, 255, 236, 228, 228, 257, 230, 283, 271, 276, 225, 254, 202, 222, 222, 289, 277, 267, 228, 213, 249, 280, 270, 256, 239, 246, 215, 256, 218, 215, 206, 266, 249, 224, 201, 298, 217, 266, 292, 275, 290, 224, 259, 221, 235, 298, 253, 299, 257, 282, 240, 287, 205, 280, 296, 205, 220, 294, 282, 295, 299, 273, 268, 274, 260, 251, 265, 268, 214, 230, 274, 263, 227, 298, 233, 295, 285, 231, 271, 285, 299, 284, 220, 297, 268, 247, 214, 204, 255, 283, 248, 280, 296, 223, 265, 219, 256, 275, 204, 260, 271, 282, 292, 203, 206, 222, 228, 278, 261, 211, 299, 286, 244, 209, 249, 290, 292, 286, 299, 268, 213, 233, 267, 204, 281, 250, 247, 219, 236, 255, 292, 271, 284, 233, 293, 291, 285, 212, 205, 294, 286, 208, 259, 290, 274, 216, 208, 283, 237, 268, 266, 295, 252, 267, 240, 222, 244, 232, 204, 214, 209, 251, 243, 204, 287, 227, 248, 215, 257, 208, 258, 240, 290, 295, 298, 289, 247, 218, 248, 230, 240, 214, 277, 222, 294, 263, 238, 257, 296, 206, 282, 232, 243, 264, 252, 201, 223, 207, 257, 216, 230, 262, 299, 242, 261, 247, 269, 296, 287, 235, 222, 253, 278, 226, 213, 249, 212, 202, 234, 229, 232, 282, 288, 278, 266, 220, 237, 265, 243, 299, 200, 223, 210, 216, 240, 229, 240, 245, 285, 243, 246, 294, 237, 267, 224, 298, 247, 239, 300, 282, 271, 282, 285, 287, 237, 239, 275, 230, 247, 253, 292, 290, 262, 235, 211, 211, 249, 248, 276, 240, 231, 243, 273, 235, 204, 243, 206, 274, 279, 236, 238, 259, 270, 213, 245, 259, 213, 252, 257, 289, 216, 296, 224, 222, 220, 241, 227, 258, 263, 264, 254, 222, 226, 239, 230, 267, 227, 259, 260, 266, 271, 288, 298, 214, 246, 292, 224, 267, 255, 239, 295, 215, 230, 220, 260, 278, 232, 201, 219, 224, 262, 222, 244, 217, 216, 296, 231, 263, 257, 265, 228, 256, 291, 205, 253, 203, 276, 292, 289, 282, 253, 206, 276, 229, 259, 230, 204, 229, 271, 222, 214, 275, 293, 254, 293, 271, 279, 280, 242, 247, 208, 214, 237, 299, 256, 269, 271, 227, 205, 298, 215, 274, 226, 299, 235, 208, 255, 237, 275, 265, 297, 285, 265, 244, 221, 265, 292, 211, 262, 263, 242, 292, 261, 257, 254, 234, 245, 260, 209, 296, 258, 236, 238, 250, 230, 206, 263, 221, 295, 219, 287, 256, 201, 276, 247, 243, 226, 226, 218, 269, 251, 273, 261, 246, 268, 283, 201, 265, 239, 211, 231, 237, 273, 218, 219, 269, 271, 211, 228, 234, 200, 293, 299, 297, 232, 216, 206, 298, 293, 295, 261, 244, 281, 264, 293]\n"
     ]
    }
   ],
   "source": [
    "int_list2 = [random.randint(200,300) for _ in range(500)]\n",
    "print(int_list2)"
   ]
  },
  {
   "cell_type": "markdown",
   "id": "baebb28a",
   "metadata": {},
   "source": [
    "    (i) Compare the given list of visualization for the given data:\n",
    "    1. Frequency & Gaussian distribution"
   ]
  },
  {
   "cell_type": "code",
   "execution_count": 82,
   "id": "7c35c2b1",
   "metadata": {},
   "outputs": [],
   "source": [
    "import numpy as np\n",
    "import seaborn as sns\n",
    "import matplotlib.pyplot as plt\n",
    "from scipy.stats import norm\n",
    "\n",
    "#convert list into numpy array\n",
    "data = np.array(int_list2)"
   ]
  },
  {
   "cell_type": "code",
   "execution_count": 83,
   "id": "23040358",
   "metadata": {},
   "outputs": [
    {
     "data": {
      "image/png": "[encoded data removed]",
      "text/plain": [
       "<Figure size 640x480 with 1 Axes>"
      ]
     },
     "metadata": {},
     "output_type": "display_data"
    }
   ],
   "source": [
    "#plot histogram\n",
    "sns.histplot(data , bins=20,kde=False,stat='density',color='skyblue',label='Frequency')\n",
    "\n",
    "#Gaussian distribution curve\n",
    "mean = np.mean(data)\n",
    "std = np.std(data)\n",
    "x_vals = np.linspace(min(data),max(data),100)\n",
    "plt.plot(x_vals,norm.pdf(x_vals,mean,std),label='Gaussian Distribution',color='red')\n",
    "plt.title('Histogram with Gaussian Distribution')\n",
    "plt.legend()\n",
    "plt.show()"
   ]
  },
  {
   "cell_type": "markdown",
   "id": "67063786",
   "metadata": {},
   "source": [
    "    2. Frequency smoothened KDE plot\n",
    "   "
   ]
  },
  {
   "cell_type": "code",
   "execution_count": 84,
   "id": "3e5192eb",
   "metadata": {},
   "outputs": [
    {
     "data": {
      "image/png": "[encoded data removed]",
      "text/plain": [
       "<Figure size 640x480 with 1 Axes>"
      ]
     },
     "metadata": {},
     "output_type": "display_data"
    }
   ],
   "source": [
    "sns.histplot(data,bins=20,kde=True,stat='density',color='red')\n",
    "plt.title('Histogram with KDE')\n",
    "plt.show()"
   ]
  },
  {
   "cell_type": "markdown",
   "id": "bd3b9796",
   "metadata": {},
   "source": [
    "    3. Gaussian distribution & smoothened KDE plot"
   ]
  },
  {
   "cell_type": "code",
   "execution_count": 85,
   "id": "fea32117",
   "metadata": {},
   "outputs": [
    {
     "data": {
      "image/png": "[encoded data removed]",
      "text/plain": [
       "<Figure size 640x480 with 1 Axes>"
      ]
     },
     "metadata": {},
     "output_type": "display_data"
    }
   ],
   "source": [
    "sns.kdeplot(data,label='KDE Curve',color='blue')\n",
    "plt.plot(x_vals,norm.pdf(x_vals,mean,std),label = 'Gaussian Curve',color='red')\n",
    "plt.title('Gaussian vs KDE')\n",
    "plt.legend()\n",
    "plt.show()"
   ]
  },
  {
   "cell_type": "markdown",
   "id": "acb84e04",
   "metadata": {},
   "source": [
    "    (ii) Write a Python function to calculate the range of a given list of numbers."
   ]
  },
  {
   "cell_type": "code",
   "execution_count": 86,
   "id": "864c59c4",
   "metadata": {},
   "outputs": [
    {
     "name": "stdout",
     "output_type": "stream",
     "text": [
      "Range: 100\n"
     ]
    }
   ],
   "source": [
    "def calculate_range(numbers):\n",
    "    return max(numbers) - min(numbers)\n",
    "\n",
    "print(f'Range: {calculate_range(int_list2)}')"
   ]
  },
  {
   "cell_type": "markdown",
   "id": "4269b886",
   "metadata": {},
   "source": [
    "    (iii) Create a program to find the variance and standard deviation of a list of numbers."
   ]
  },
  {
   "cell_type": "code",
   "execution_count": 87,
   "id": "00fffa80",
   "metadata": {},
   "outputs": [
    {
     "name": "stdout",
     "output_type": "stream",
     "text": [
      "Variance and Standard Deviation : (834.382816, 28.885685312971198)\n"
     ]
    }
   ],
   "source": [
    "def calculate_variance_std(numbers):\n",
    "    mean = sum(numbers)/len(numbers)\n",
    "    squared_diffs = [(x-mean)**2 for x in numbers]\n",
    "    variance = sum(squared_diffs)/len(numbers)\n",
    "    std_dev = variance**0.5\n",
    "    return variance,std_dev\n",
    "\n",
    "print(f'Variance and Standard Deviation : {calculate_variance_std(int_list2)}')"
   ]
  },
  {
   "cell_type": "markdown",
   "id": "457f4f11",
   "metadata": {},
   "source": [
    "    (iv) Implement a function to compute the interquartile range (IQR) of a list of values.\n"
   ]
  },
  {
   "cell_type": "code",
   "execution_count": 88,
   "id": "c8fc7de3",
   "metadata": {},
   "outputs": [
    {
     "name": "stdout",
     "output_type": "stream",
     "text": [
      "IQR : 49.0\n"
     ]
    }
   ],
   "source": [
    "def calculate_iqr(numbers):\n",
    "    sorted_data = sorted(numbers)\n",
    "    q1 = np.percentile(sorted_data,25)\n",
    "    q3 = np.percentile(sorted_data,75)\n",
    "    return q3-q1\n",
    "\n",
    "print(f'IQR : {calculate_iqr(int_list2)}')"
   ]
  },
  {
   "cell_type": "markdown",
   "metadata": {},
   "source": [
    "     (v) Build a program to calculate the coefficient of variation for a dataset.\n"
   ]
  },
  {
   "cell_type": "code",
   "execution_count": 89,
   "id": "d42b2b83",
   "metadata": {},
   "outputs": [
    {
     "name": "stdout",
     "output_type": "stream",
     "text": [
      "Coefficient of Variation : 0.11511543276545942\n"
     ]
    }
   ],
   "source": [
    "def calculate_coefficient_of_variation(numbers):\n",
    "    mean = np.mean(numbers)\n",
    "    std_dev = np.std(numbers)\n",
    "    return std/mean\n",
    "\n",
    "print(f'Coefficient of Variation : {calculate_coefficient_of_variation(int_list2)}')"
   ]
  },
  {
   "cell_type": "markdown",
   "metadata": {},
   "source": [
    "    (vi) Write a Python function to find the mean absolute deviation (MAD) of a list of numbers.\n"
   ]
  },
  {
   "cell_type": "code",
   "execution_count": 90,
   "id": "db7bd8e5",
   "metadata": {},
   "outputs": [
    {
     "name": "stdout",
     "output_type": "stream",
     "text": [
      "Mean absolute deviation : 24.924288\n"
     ]
    }
   ],
   "source": [
    "def mean_absolute_deviation(numbers):\n",
    "    mean = np.mean(numbers)\n",
    "    return np.mean([abs(x-mean) for x in numbers])\n",
    "\n",
    "print(f'Mean absolute deviation : {mean_absolute_deviation(int_list2)}')"
   ]
  },
  {
   "cell_type": "markdown",
   "id": "dabe264d",
   "metadata": {},
   "source": [
    "    (vii) Create a program to calculate the quartile deviation of a list of values.\n"
   ]
  },
  {
   "cell_type": "code",
   "execution_count": 91,
   "id": "3dd5249d",
   "metadata": {},
   "outputs": [
    {
     "name": "stdout",
     "output_type": "stream",
     "text": [
      "Quartile Deviation : 24.5\n"
     ]
    }
   ],
   "source": [
    "def quartile_deviation(numbers):\n",
    "    q1 = np.percentile(numbers,25)\n",
    "    q3 = np.percentile(numbers,75)\n",
    "    return (q3-q1)/2\n",
    "\n",
    "print(f'Quartile Deviation : {quartile_deviation(int_list2)}')"
   ]
  },
  {
   "cell_type": "markdown",
   "id": "fc882359",
   "metadata": {},
   "source": [
    "    (viii) Implement a function to find the range-based coefficient of dispersion for a dataset."
   ]
  },
  {
   "cell_type": "code",
   "execution_count": 92,
   "id": "038ae129",
   "metadata": {},
   "outputs": [
    {
     "name": "stdout",
     "output_type": "stream",
     "text": [
      "Coeffiecient of Dispersion : 0.2\n"
     ]
    }
   ],
   "source": [
    "def coeffcient_of_dispersion(numbers):\n",
    "    max_val = max(numbers)\n",
    "    min_val = min(numbers)\n",
    "    return (max_val - min_val)/(max_val + min_val)\n",
    "\n",
    "print(f'Coeffiecient of Dispersion : {coeffcient_of_dispersion(int_list2)}')"
   ]
  },
  {
   "cell_type": "markdown",
   "id": "37fde8a2",
   "metadata": {},
   "source": [
    "3. Write a Python class representing a discrete random variable with methods to calculate its expected \n",
    "value and variance."
   ]
  },
  {
   "cell_type": "code",
   "execution_count": 93,
   "id": "430e3dc5",
   "metadata": {},
   "outputs": [],
   "source": [
    "class DescreteRandomVariable:\n",
    "    def __init__(self,outcomes,probablities):\n",
    "        if len(outcomes) != len(probablities):\n",
    "            raise ValueError('Outcomes and probabilities must have the same length')\n",
    "        if not abs(sum(probablities)-1.0) < 1e-6:\n",
    "            raise ValueError('Probabilities must sum to 1')\n",
    "        self.outcomes = outcomes\n",
    "        self.probablities = probablities\n",
    "\n",
    "    def expected_value(self):\n",
    "        # E[X] = Σ xᵢ * P(xᵢ)\n",
    "        return sum(x*p for x,p in zip(self.outcomes,self.probablities))\n",
    "    \n",
    "    def variance(self):\n",
    "        # Var(X) = E[X²] - (E[X])²\n",
    "        mean = self.expected_value()\n",
    "        expected_x_squared = sum((x**2)*p for x,p in zip(self.outcomes,self.probablities))\n",
    "        return expected_x_squared - mean**2\n",
    "\n"
   ]
  },
  {
   "cell_type": "code",
   "execution_count": 94,
   "id": "c78c87d6",
   "metadata": {},
   "outputs": [
    {
     "name": "stdout",
     "output_type": "stream",
     "text": [
      "Expected Value: 3.2\n",
      "Variance : 1.5599999999999987\n"
     ]
    }
   ],
   "source": [
    "#Example\n",
    "#Define outcomes and their probablities\n",
    "outcomes = [1,2,3,4,5]\n",
    "probablities = [0.1,0.2,0.3,0.2,0.2]\n",
    "\n",
    "#Create the random variable\n",
    "rv = DescreteRandomVariable(outcomes,probablities)\n",
    "\n",
    "#Calculate Expected value and Variance\n",
    "print(\"Expected Value:\" , rv.expected_value())  #E[X]\n",
    "print('Variance :',rv.variance())  #Var(X)"
   ]
  },
  {
   "cell_type": "markdown",
   "id": "0858a74c",
   "metadata": {},
   "source": [
    "4.  Implement a program to simulate the rolling of a fair six-sided die and calculate the expected value and \n",
    "variance of the outcomes."
   ]
  },
  {
   "cell_type": "code",
   "execution_count": 95,
   "id": "971fb3c4",
   "metadata": {},
   "outputs": [
    {
     "name": "stdout",
     "output_type": "stream",
     "text": [
      "Simulated Expected Value (n=10000): 3.5186\n",
      "Simulated Variance       (n=10000): 2.9511\n",
      "Theoretical Expected Value: 3.50\n",
      "Theoretical Variance:       2.9167\n"
     ]
    }
   ],
   "source": [
    "import random\n",
    "\n",
    "def simulate_die_rolls(n_rolls):\n",
    "    outcomes = []\n",
    "    for _ in range(n_rolls):\n",
    "        roll = random.randint(1,6) #Simulate 1 die roll (1 to 6)\n",
    "        outcomes.append(roll)\n",
    "    return outcomes\n",
    "\n",
    "def calculated_expected_value(numbers):\n",
    "    return sum(numbers)/len(numbers)\n",
    "\n",
    "def calculate_variance(numbers):\n",
    "    mean = calculated_expected_value(numbers)\n",
    "    squared_diffs = [(x - mean)**2 for x in numbers]\n",
    "    return sum(squared_diffs)/len(numbers)\n",
    "\n",
    "#Simulate 10,000 rolls of a fair six-sided die\n",
    "n = 10000\n",
    "rolls = simulate_die_rolls(n)\n",
    "\n",
    "#Calculated expected value and variance from simulation\n",
    "expected_val_sim = calculated_expected_value(rolls)\n",
    "variance_sim = calculate_variance(rolls)\n",
    "\n",
    "#Theoretical values for fair die\n",
    "theoretical_expected = sum(range(1,7))/6  #(1+2+3+4+5+6)/6 = 3.5\n",
    "theoretical_variance = sum((x - theoretical_expected)**2 for x in range(1,7))/6\n",
    "\n",
    "#output_results \n",
    "print(f\"Simulated Expected Value (n={n}): {expected_val_sim:.4f}\")\n",
    "print(f'Simulated Variance       (n={n}): {variance_sim:.4f}')\n",
    "print(f\"Theoretical Expected Value: {theoretical_expected:.2f}\")\n",
    "print(f'Theoretical Variance:       {theoretical_variance:.4f}')"
   ]
  },
  {
   "cell_type": "markdown",
   "id": "a53708f9",
   "metadata": {},
   "source": [
    "5.  Create a Python function to generate random samples from a given probability distribution (e.g., \n",
    "binomial, Poisson) and calculate their mean and variance."
   ]
  },
  {
   "cell_type": "markdown",
   "id": "256419a7",
   "metadata": {},
   "source": [
    "    Parameters:\n",
    "        distribution (str): The name of the distribution ('binomial' or 'poisson').\n",
    "        params (dict): Parameters required by the distribution.\n",
    "                       For binomial: {'n': number_of_trials, 'p': probability_of_success}\n",
    "                       For poisson: {'lam': rate_parameter}\n",
    "        size (int): Number of samples to generate.\n",
    "    \n",
    "    Returns:\n",
    "        samples (np.array): The generated samples.\n",
    "        mean (float): Sample mean.\n",
    "        variance (float): Sample variance."
   ]
  },
  {
   "cell_type": "code",
   "execution_count": 96,
   "id": "46f108a8",
   "metadata": {},
   "outputs": [],
   "source": [
    "import numpy as np\n",
    "def generate_samples(distribution,params,size=1000):\n",
    "    if distribution=='binomial':\n",
    "        n=params.get('n')\n",
    "        p=params.get('p')\n",
    "        samples = np.random.binomial(n=n,p=p,size=size)\n",
    "\n",
    "    elif distribution=='poisson':\n",
    "        lam = params.get('lam')\n",
    "        samples = np.random.poisson(lam=lam,size=size)\n",
    "\n",
    "    else:\n",
    "        raise ValueError('Supported distributions are binomial and poison')\n",
    "    \n",
    "    #Compute statistics\n",
    "    mean = np.mean(samples)\n",
    "    variance = np.var(samples)\n",
    "\n",
    "    return samples,mean,variance"
   ]
  },
  {
   "cell_type": "code",
   "execution_count": 97,
   "id": "209775a0",
   "metadata": {},
   "outputs": [
    {
     "name": "stdout",
     "output_type": "stream",
     "text": [
      "Binomial distribution:\n",
      "Mean: 5.00,Variance: 2.47\n",
      "\n",
      "Poison distribution:\n",
      "Mean: 4.00, Variance: 3.94\n"
     ]
    }
   ],
   "source": [
    "#Example for binomial distribution\n",
    "bin_samples,bin_mean,bin_var =  generate_samples('binomial',{'n':10,'p':0.5},size=10000)\n",
    "print(\"Binomial distribution:\")\n",
    "print(f\"Mean: {bin_mean:.2f},Variance: {bin_var:.2f}\")\n",
    "\n",
    "#Example for poison distribution\n",
    "pois_samples,pois_mean,pois_var = generate_samples('poisson',{'lam':4},size=10000)\n",
    "print('\\nPoison distribution:')\n",
    "print(f'Mean: {pois_mean:.2f}, Variance: {pois_var:.2f}')"
   ]
  },
  {
   "cell_type": "markdown",
   "id": "a511f1d2",
   "metadata": {},
   "source": [
    "6.  Write a Python script to generate random numbers from a Gaussian (normal) distribution and compute \n",
    "the mean, variance, and standard deviation of the samples."
   ]
  },
  {
   "cell_type": "markdown",
   "id": "04516133",
   "metadata": {},
   "source": [
    "    Parameters:\n",
    "        mu (float): Mean of the normal distribution.\n",
    "        sigma (float): Standard deviation of the normal distribution.\n",
    "        size (int): Number of samples to generate.\n",
    "\n",
    "    Returns:\n",
    "        samples (np.array): Generated sample values.\n",
    "        mean (float): Sample mean.\n",
    "        variance (float): Sample variance.\n",
    "        std_dev (float): Sample standard deviation."
   ]
  },
  {
   "cell_type": "code",
   "execution_count": 98,
   "id": "1336b1d5",
   "metadata": {},
   "outputs": [
    {
     "name": "stdout",
     "output_type": "stream",
     "text": [
      "Gaussian (Normal) Distribution Sample Stats:\n",
      "Sample Mean: 99.78\n",
      "Sample Variance: 222.80\n",
      "Standard Deviation: 14.93\n"
     ]
    }
   ],
   "source": [
    "import numpy as np\n",
    "\n",
    "def generate_normal_samples(mu,sigma,size):\n",
    "    #Generate normal samples\n",
    "    samples = np.random.normal(loc=mu,scale=sigma,size=size)\n",
    "\n",
    "    #Compute Statistics\n",
    "    mean = np.mean(samples)\n",
    "    variance = np.var(samples)\n",
    "    std_dev = np.std(samples)\n",
    "\n",
    "    return samples , mean , variance , std_dev\n",
    "\n",
    "#Example\n",
    "mu = 100 #Mean\n",
    "sigma = 15 #Standard Deviation\n",
    "size = 10000 #Number of samples\n",
    "\n",
    "samples,mean,variance,std_dev = generate_normal_samples(mu,sigma,size)\n",
    "\n",
    "print('Gaussian (Normal) Distribution Sample Stats:')\n",
    "print(f'Sample Mean: {mean:.2f}')\n",
    "print(f'Sample Variance: {variance:.2f}')\n",
    "print(f'Standard Deviation: {std_dev:.2f}')"
   ]
  },
  {
   "cell_type": "markdown",
   "id": "13ad677d",
   "metadata": {},
   "source": [
    " Use seaborn library to load `tips` dataset. Find the following from the dataset for the columns `total_bill` \n",
    "and `tip`:\n"
   ]
  },
  {
   "cell_type": "code",
   "execution_count": 99,
   "id": "53a0d27a",
   "metadata": {},
   "outputs": [
    {
     "name": "stdout",
     "output_type": "stream",
     "text": [
      "   total_bill   tip\n",
      "0       16.99  1.01\n",
      "1       10.34  1.66\n",
      "2       21.01  3.50\n",
      "3       23.68  3.31\n",
      "4       24.59  3.61\n"
     ]
    }
   ],
   "source": [
    "import seaborn as sns\n",
    "import pandas as pd\n",
    "import numpy as np\n",
    "import matplotlib.pyplot as plt\n",
    "from scipy.stats import skew,pearsonr\n",
    "\n",
    "#load the dataset\n",
    "df = sns.load_dataset(\"tips\")\n",
    "\n",
    "#Show basic info\n",
    "print(df[['total_bill','tip']].head())"
   ]
  },
  {
   "cell_type": "markdown",
   "id": "46d01d7b",
   "metadata": {},
   "source": [
    "    (i) Write a Python function that calculates their skewness."
   ]
  },
  {
   "cell_type": "code",
   "execution_count": 100,
   "id": "cfe4fe3d",
   "metadata": {},
   "outputs": [
    {
     "name": "stdout",
     "output_type": "stream",
     "text": [
      "Skewness of total_bill : 1.13\n",
      "Skewness of tip : 1.46\n"
     ]
    }
   ],
   "source": [
    "def calculate_skewness(column):\n",
    "    return skew(column)\n",
    "\n",
    "#skewness for total_bill and tip\n",
    "skew_total_bill = calculate_skewness(df['total_bill'])\n",
    "skew_tip = calculate_skewness(df['tip'])\n",
    "\n",
    "print(f\"Skewness of total_bill : {skew_total_bill:.2f}\")\n",
    "print(f'Skewness of tip : {skew_tip:.2f}')"
   ]
  },
  {
   "cell_type": "markdown",
   "id": "6630162f",
   "metadata": {},
   "source": [
    "     (ii) Create a program that determines whether the columns exhibit positive skewness, negative skewness, or is approximately symmetric.\n"
   ]
  },
  {
   "cell_type": "code",
   "execution_count": 101,
   "id": "b9b1eb08",
   "metadata": {},
   "outputs": [
    {
     "name": "stdout",
     "output_type": "stream",
     "text": [
      "total_bill is Positive Skewed\n",
      "tip is Positive Skewed\n"
     ]
    }
   ],
   "source": [
    "def skewness_type(value):\n",
    "    if value > 0.5:\n",
    "        return \"Positive Skewed\"\n",
    "    elif value < -0.5:\n",
    "        return \"Negatively Skewed\"\n",
    "    else:\n",
    "        return \"Approximately symmetric\"\n",
    "    \n",
    "print(f'total_bill is {skewness_type(skew_total_bill)}')\n",
    "print(f'tip is {skewness_type(skew_tip)}')"
   ]
  },
  {
   "cell_type": "markdown",
   "id": "8548cd4c",
   "metadata": {},
   "source": [
    "    (iii) Write a function that calculates the covariance between two columns.\n"
   ]
  },
  {
   "cell_type": "code",
   "execution_count": 102,
   "id": "aedad3a7",
   "metadata": {},
   "outputs": [
    {
     "name": "stdout",
     "output_type": "stream",
     "text": [
      "Covariance between total_bill and tip: 8.29\n"
     ]
    }
   ],
   "source": [
    "def calculate_covariance(col1,col2):\n",
    "    return np.cov(col1,col2,bias=True)[0][1]\n",
    "\n",
    "cov = calculate_covariance(df['total_bill'],df['tip'])\n",
    "print(f'Covariance between total_bill and tip: {cov:.2f}')"
   ]
  },
  {
   "cell_type": "markdown",
   "id": "53ce8f30",
   "metadata": {},
   "source": [
    "    (iv) Implement a Python program that calculates the Pearson correlation coefficient between two columns.\n"
   ]
  },
  {
   "cell_type": "code",
   "execution_count": 105,
   "id": "8175cfe6",
   "metadata": {},
   "outputs": [
    {
     "name": "stdout",
     "output_type": "stream",
     "text": [
      "Pearson correlation coefficient: 0.68\n"
     ]
    }
   ],
   "source": [
    "def calculate_pearson_corr(col1,col2):\n",
    "    corr,_=pearsonr(col1,col2)\n",
    "    return corr\n",
    "\n",
    "pearson_corr = calculate_pearson_corr(df['total_bill'],df['tip'])\n",
    "print(f'Pearson correlation coefficient: {pearson_corr:.2f}')"
   ]
  },
  {
   "cell_type": "markdown",
   "id": "26d0467a",
   "metadata": {},
   "source": [
    "     (v) Write a script to visualize the correlation between two specific columns in a Pandas DataFrame using scatter plots."
   ]
  },
  {
   "cell_type": "code",
   "execution_count": 109,
   "id": "45ba3270",
   "metadata": {},
   "outputs": [
    {
     "data": {
      "image/png": "[encoded data removed]",
      "text/plain": [
       "<Figure size 640x480 with 1 Axes>"
      ]
     },
     "metadata": {},
     "output_type": "display_data"
    }
   ],
   "source": [
    "plt.scatter(df['total_bill'],df['tip'],alpha=0.6,edgecolors='k')\n",
    "plt.title('Scatter plot: total_bill vs tip')\n",
    "plt.xlabel('total bill')\n",
    "plt.ylabel('tip')\n",
    "plt.show()"
   ]
  },
  {
   "cell_type": "markdown",
   "id": "8268ffd4",
   "metadata": {},
   "source": [
    " 8.Write a Python function to calculate the probability density function (PDF) of a continuous random \n",
    "variable for a given normal distribution."
   ]
  },
  {
   "cell_type": "markdown",
   "id": "7f2314c8",
   "metadata": {},
   "source": [
    "    Parameters:\n",
    "        x (float): The value of the random variable.\n",
    "        mu (float): The mean of the distribution.\n",
    "        sigma (float): The standard deviation of the distribution.\n",
    "\n",
    "    Returns:\n",
    "        float: The value of the PDF at x."
   ]
  },
  {
   "cell_type": "code",
   "execution_count": 111,
   "id": "2b16892c",
   "metadata": {},
   "outputs": [
    {
     "name": "stdout",
     "output_type": "stream",
     "text": [
      "PDF at x=100 for N(100,15): 0.02660\n"
     ]
    }
   ],
   "source": [
    "import math\n",
    "\n",
    "def normal_pdf(x,mu,sigma):\n",
    "    coef = 1/(sigma*math.sqrt(2*math.pi)) #Normalization constant\n",
    "    exponent = -((x-mu)**2)/(2*sigma**2)  #Exponential component\n",
    "    return coef*math.exp(exponent)\n",
    "\n",
    "#Compute PDF at x=100 for N(μ=100, σ=15)\n",
    "x=100\n",
    "mu=100\n",
    "sigma=15\n",
    "\n",
    "pdf_value = normal_pdf(x,mu,sigma)\n",
    "print(f'PDF at x={x} for N({mu},{sigma}): {pdf_value:.5f}')"
   ]
  },
  {
   "cell_type": "markdown",
   "id": "bdfea392",
   "metadata": {},
   "source": [
    "9.Create a program to calculate the cumulative distribution function (CDF) of exponential distribution."
   ]
  },
  {
   "cell_type": "markdown",
   "id": "c6753613",
   "metadata": {},
   "source": [
    "    The formula for the CDF is:\n",
    "CDF(x)=1−e^−λx ,for x≥0\n",
    "    \n",
    "    Parameters:\n",
    "        x (float): The value at which to evaluate the CDF (x  >= 0).\n",
    "        lambd (float): The rate parameter λ (lambda), must be > 0.\n",
    "\n",
    "    Returns:\n",
    "        float: The CDF value at x."
   ]
  },
  {
   "cell_type": "code",
   "execution_count": 112,
   "id": "f045c9eb",
   "metadata": {},
   "outputs": [
    {
     "name": "stdout",
     "output_type": "stream",
     "text": [
      "CDF at x = 2 for λ = 0.5: 0.6321\n"
     ]
    }
   ],
   "source": [
    "import math\n",
    "def exponential_cdf(x,lambd):\n",
    "    if x<0:\n",
    "        return 0.0 #CDF is 0 for negetive x\n",
    "    return 1 - math.exp(-lambd*x)\n",
    "\n",
    "\n",
    "#Example λ=0.5 , x=2\n",
    "x=2\n",
    "lambd = 0.5\n",
    "\n",
    "cdf_value = exponential_cdf(x,lambd)\n",
    "print(f\"CDF at x = {x} for λ = {lambd}: {cdf_value:.4f}\")"
   ]
  },
  {
   "cell_type": "markdown",
   "id": "cb12c583",
   "metadata": {},
   "source": [
    "10. Write a Python function to calculate the probability mass function (PMF) of Poisson distribution."
   ]
  },
  {
   "cell_type": "markdown",
   "id": "4c2e9b10",
   "metadata": {},
   "source": [
    "    Poisson PMF Formula\n",
    "    P(X=k)= e^−λ⋅λ^k/k!\n",
    "    \n",
    "    Where:\n",
    "    λ: the average rate (mean)\n",
    "    k: number of occurrences (non-negative integer)\n",
    "    e: Euler’s number (≈ 2.718)\n",
    "\n",
    "    Parameters:\n",
    "        k (int): The number of events (k >= 0).\n",
    "        lambd (float): The average number of events (rate parameter λ).\n",
    "\n",
    "    Returns:\n",
    "        float: The probability P(X = k)"
   ]
  },
  {
   "cell_type": "code",
   "execution_count": 115,
   "id": "996f68f6",
   "metadata": {},
   "outputs": [
    {
     "name": "stdout",
     "output_type": "stream",
     "text": [
      "P(X=3) for λ=2.5: 0.2138)\n"
     ]
    }
   ],
   "source": [
    "import math\n",
    "def poisson_pmf(k,lambd):\n",
    "    if k<0:\n",
    "        return 0.0\n",
    "    return (math.exp(-lambd)*lambd**k)/math.factorial(k)\n",
    "\n",
    "#Example\n",
    "k=3 #Number of Events\n",
    "lambd=2.5 #Average rate\n",
    "\n",
    "pmf_value = poisson_pmf(k,lambd)\n",
    "print(f\"P(X={k}) for λ={lambd}: {pmf_value:.4f})\")"
   ]
  },
  {
   "cell_type": "markdown",
   "id": "dafddacd",
   "metadata": {},
   "source": [
    " 11. A company wants to test if a new website layout leads to a higher conversion rate (percentage of visitors \n",
    "who make a purchase). They collect data from the old and new layouts to compare."
   ]
  },
  {
   "cell_type": "markdown",
   "id": "0179166f",
   "metadata": {},
   "source": [
    "     To generate the data use the following command:"
   ]
  },
  {
   "cell_type": "code",
   "execution_count": 116,
   "id": "377ff389",
   "metadata": {},
   "outputs": [],
   "source": [
    "import numpy as np\n",
    "# 50 purchases out of 1000 visitors\n",
    "old_layout = np.array([1] * 50 + [0] * 950)\n",
    "# 70 purchases out of 1000 visitors  \n",
    "new_layout = np.array([1] * 70 + [0] * 930)"
   ]
  },
  {
   "cell_type": "markdown",
   "id": "6a90f8df",
   "metadata": {},
   "source": [
    "    Apply z-test to find which layout is successful.\n"
   ]
  },
  {
   "cell_type": "markdown",
   "id": "59a9f337",
   "metadata": {},
   "source": [
    "We test:\n",
    "\n",
    "𝐻0:𝑝1=𝑝2    (no difference in conversion rates)\\\n",
    "𝐻1:𝑝1≠𝑝2    (there is a difference)\n",
    "\n",
    "Where:\\\n",
    "𝑝1: conversion rate for old layout\\\n",
    "p2: conversion rate for new layout"
   ]
  },
  {
   "cell_type": "code",
   "execution_count": 120,
   "id": "d77587f8",
   "metadata": {},
   "outputs": [
    {
     "name": "stdout",
     "output_type": "stream",
     "text": [
      "Z-Statistics: -1.8831\n",
      "P-value: 0.0597\n",
      "Failed to reject the Null Hypothetis: no significant difference between layouts\n"
     ]
    }
   ],
   "source": [
    "import numpy as np\n",
    "from statsmodels.stats.proportion import proportions_ztest\n",
    "\n",
    "#Count of conversations (successes)\n",
    "successes = [old_layout.sum(),new_layout.sum()]  #[50,70]\n",
    "\n",
    "#Number of trails\n",
    "nobs = [len(old_layout),len(new_layout)]   #[1000,1000]\n",
    "\n",
    "#Perform two proportion z-test\n",
    "z_stat , p_value = proportions_ztest(count=successes,nobs=nobs,alternative='two-sided')\n",
    "\n",
    "#Print Results\n",
    "print(f\"Z-Statistics: {z_stat:.4f}\")\n",
    "print(f\"P-value: {p_value:.4f}\")\n",
    "\n",
    "#Decision\n",
    "alpha = 0.05\n",
    "if p_value < alpha:\n",
    "    print(\"Reject the Null Hypothesis: the new layout has a significantly different conversion rate\")\n",
    "else:\n",
    "    print(\"Failed to reject the Null Hypothetis: no significant difference between layouts\")"
   ]
  },
  {
   "cell_type": "markdown",
   "id": "461f2bf8",
   "metadata": {},
   "source": [
    "    Conclusion: The new layout doesn't show a statistically significant improvement in conversion rate."
   ]
  },
  {
   "cell_type": "markdown",
   "id": "6348a7fd",
   "metadata": {},
   "source": [
    "12. A tutoring service claims that its program improves students' exam scores. A sample of students who \n",
    "participated in the program was taken, and their scores before and after the program were recorded.\n"
   ]
  },
  {
   "cell_type": "markdown",
   "id": "7d2ee10f",
   "metadata": {},
   "source": [
    "    Use the below code to generate samples of respective arrays of marks:"
   ]
  },
  {
   "cell_type": "code",
   "execution_count": 121,
   "id": "bad0e7e3",
   "metadata": {},
   "outputs": [],
   "source": [
    "before_program = np.array([75, 80, 85, 70, 90, 78, 92, 88, 82, 87])\n",
    "after_program = np.array([80, 85, 90, 80, 92, 80, 95, 90, 85, 88])"
   ]
  },
  {
   "cell_type": "markdown",
   "id": "93424447",
   "metadata": {},
   "source": [
    "    Use z-test to find if the claims made by tutor are true or false."
   ]
  },
  {
   "cell_type": "markdown",
   "id": "9ddcbd40",
   "metadata": {},
   "source": [
    "We want to test:\n",
    "\n",
    "𝐻0: 𝜇𝑑=0    (no improvement)\n",
    "𝐻1: 𝜇𝑑>0    (scores improved)\n",
    "\n",
    "Where:\n",
    "𝜇𝑑 = mean of differences (after - before)"
   ]
  },
  {
   "cell_type": "code",
   "execution_count": 123,
   "id": "c48204ae",
   "metadata": {},
   "outputs": [
    {
     "name": "stdout",
     "output_type": "stream",
     "text": [
      "Z-score: 0.8051\n",
      "P-value: 0.2104\n",
      "failed to reject the null hypothesis: No significant improvement observed\n"
     ]
    }
   ],
   "source": [
    "import numpy as np\n",
    "import math\n",
    "from scipy.stats import norm\n",
    "\n",
    "#Step1: Calculate differences (after-before)\n",
    "differences = after_program - before_program\n",
    "\n",
    "#Step2: Compute mean and std deviation of differences\n",
    "mean_diff = np.mean(differences)\n",
    "std_diff = np.std(differences,ddof=1) #Sample standard deviation\n",
    "n = len(differences)\n",
    "\n",
    "#Step3: compute Z-statistic\n",
    "z_score = mean_diff / (std_dev/math.sqrt(n))\n",
    "\n",
    "#Step4: Get one-tailed p-value\n",
    "p_value = 1 - norm.cdf(z_score)\n",
    "\n",
    "#Step5: Prints results\n",
    "print(f'Z-score: {z_score:.4f}')\n",
    "print(f\"P-value: {p_value:.4f}\")\n",
    "\n",
    "alpha = 0.05\n",
    "if p_value < alpha:\n",
    "    print('Reject the null Hypothesis: The tutoring program significantly improved scores')\n",
    "else:\n",
    "    print(f\"failed to reject the null hypothesis: No significant improvement observed\")"
   ]
  },
  {
   "cell_type": "markdown",
   "id": "b1945d9e",
   "metadata": {},
   "source": [
    "    Conclusion: The tutoring program does not significantly improve exam scores"
   ]
  },
  {
   "cell_type": "markdown",
   "id": "49ce0d8f",
   "metadata": {},
   "source": [
    " 13. A pharmaceutical company wants to determine if a new drug is effective in reducing blood pressure. They \n",
    "conduct a study and record blood pressure measurements before and after administering the drug.\n"
   ]
  },
  {
   "cell_type": "markdown",
   "id": "0493e90a",
   "metadata": {},
   "source": [
    "     Use the below code to generate samples of respective arrays of blood pressure:\n"
   ]
  },
  {
   "cell_type": "code",
   "execution_count": 124,
   "id": "1a740cda",
   "metadata": {},
   "outputs": [],
   "source": [
    "\n",
    "before_drug = np.array([145, 150, 140, 135, 155, 160, 152, 148, 130, 138])\n",
    "after_drug = np.array([130, 140, 132, 128, 145, 148, 138, 136, 125, 130])"
   ]
  },
  {
   "cell_type": "markdown",
   "id": "2bf08245",
   "metadata": {},
   "source": [
    "    Implement z-test to find if the drug really works or not."
   ]
  },
  {
   "cell_type": "markdown",
   "id": "b6bdfe63",
   "metadata": {},
   "source": [
    "Null Hypothesis 𝐻0: The drug has no effect → mean difference = 0\n",
    "\n",
    "Alternative Hypothesis 𝐻1 : The drug reduces blood pressure → mean difference > 0\n",
    "\n",
    "We compute differences as:\n",
    "\n",
    "difference = before − after \n",
    "A positive mean indicates a reduction in blood pressure."
   ]
  },
  {
   "cell_type": "code",
   "execution_count": 126,
   "id": "50a49d9a",
   "metadata": {},
   "outputs": [
    {
     "name": "stdout",
     "output_type": "stream",
     "text": [
      "Z-score: 2.1398\n",
      "P-value: 0.0162\n",
      "Reject the null Hypothesis: The drug significantly reduces blood pressure\n"
     ]
    }
   ],
   "source": [
    "import numpy as np\n",
    "import math\n",
    "from scipy.stats import norm\n",
    "\n",
    "#Step2: Comput paired differences\n",
    "differences = before_drug - after_drug\n",
    "\n",
    "#Step3: Calculate statistics\n",
    "# mean_diff = np.mean(differences)\n",
    "std_diff = np.std(differences,ddof=1)\n",
    "n = len(differences)\n",
    "\n",
    "#Step4: Compute z-statistic \n",
    "z_score = mean_diff/(std_dev/math.sqrt(n))\n",
    "\n",
    "#Step5: Compute p-value (one-tailed test)\n",
    "p_value = 1-norm.cdf(z_score)\n",
    "\n",
    "#Step6: Print results\n",
    "print(f'Z-score: {z_score:.4f}')\n",
    "print(f\"P-value: {p_value:.4f}\")\n",
    "\n",
    "#Step7: Conclusion\n",
    "alpha = 0.05\n",
    "if p_value < alpha:\n",
    "    print('Reject the null Hypothesis: The drug significantly reduces blood pressure')\n",
    "else:\n",
    "    print(f\"failed to reject the null hypothesis: No significant effect of the drug\")"
   ]
  },
  {
   "cell_type": "markdown",
   "id": "414eb0ab",
   "metadata": {},
   "source": [
    "    Conclusion: The drug has a statistically significant effect in lowering blood pressure."
   ]
  },
  {
   "cell_type": "markdown",
   "id": "11e739b0",
   "metadata": {},
   "source": [
    " 14. A customer service department claims that their average response time is less than 5 minutes. A sample \n",
    "of recent customer interactions was taken, and the response times were recorded.\n",
    " Implement the below code to generate the array of response time:"
   ]
  },
  {
   "cell_type": "code",
   "execution_count": 128,
   "id": "4b74816f",
   "metadata": {},
   "outputs": [],
   "source": [
    "response_times = np.array([4.3, 3.8, 5.1, 4.9, 4.7, 4.2, 5.2, 4.5, 4.6, 4.4])"
   ]
  },
  {
   "cell_type": "markdown",
   "id": "d4ca6a12",
   "metadata": {},
   "source": [
    "     Implement z-test to find the claims made by customer service department are true or false."
   ]
  },
  {
   "cell_type": "markdown",
   "id": "c4fd65b1",
   "metadata": {},
   "source": [
    "Null Hypothesis \n",
    "𝐻0: 𝜇=5     (mean response time is 5 minutes)\n",
    "\n",
    "Alternative Hypothesis 𝐻1: μ<5 \n",
    "            (mean response time is less than 5 minutes)"
   ]
  },
  {
   "cell_type": "code",
   "execution_count": 130,
   "id": "1ca7fcb2",
   "metadata": {},
   "outputs": [
    {
     "name": "stdout",
     "output_type": "stream",
     "text": [
      "Z-score: -3.1845\n",
      "P-value: 0.0007\n",
      "Reject the null hypothesis: The claim is TRUE — average response time is less than 5 minutes.\n"
     ]
    }
   ],
   "source": [
    "#Step1: Calculate Statistics\n",
    "sample_mean = np.mean(response_times)\n",
    "sample_std = np.std(response_times,ddof=1)\n",
    "n = len(response_times) \n",
    "\n",
    "#Step2: Null hypothesis mean (climed mean)\n",
    "mu_0 = 5\n",
    "\n",
    "#Step3 Z-score\n",
    "z_score = (sample_mean-mu_0)/(sample_std/math.sqrt(n))\n",
    "\n",
    "#Step4 Left-tailed p_value\n",
    "p_value = norm.cdf(z_score)\n",
    "\n",
    "#Step5 Print results\n",
    "print(f\"Z-score: {z_score:.4f}\")\n",
    "print(f\"P-value: {p_value:.4f}\")\n",
    "\n",
    "#Step6 Conclusion\n",
    "alpha = 0.05\n",
    "if p_value < alpha:\n",
    "     print(\"Reject the null hypothesis: The claim is TRUE — average response time is less than 5 minutes.\")\n",
    "else:\n",
    "    print(\"Fail to reject the null hypothesis: The claim is NOT supported by data.\")"
   ]
  },
  {
   "cell_type": "markdown",
   "id": "2e91d012",
   "metadata": {},
   "source": [
    "    Conclusion: Based on the data, the customer service department’s claim is statistically valid."
   ]
  },
  {
   "cell_type": "markdown",
   "id": "1fb8856a",
   "metadata": {},
   "source": [
    "15. A company is testing two different website layouts to see which one leads to higher click-through rates. \n",
    "Write a Python function to perform an A/B test analysis, including calculating the t-statistic, degrees of \n",
    "freedom, and p-value."
   ]
  },
  {
   "cell_type": "code",
   "execution_count": 132,
   "id": "6006af78",
   "metadata": {},
   "outputs": [],
   "source": [
    "layout_a_clicks = [28, 32, 33, 29, 31, 34, 30, 35, 36, 37]\n",
    "layout_b_clicks = [40, 41, 38, 42, 39, 44, 43, 41, 45, 47]"
   ]
  },
  {
   "cell_type": "markdown",
   "id": "eb6db9f1",
   "metadata": {},
   "source": [
    "Hypotheses for the A/B Test:\n",
    "\n",
    "Null Hypothesis 𝐻0: The mean CTR of layout A and layout B are equal → 𝜇𝐴=𝜇𝐵\n",
    " \n",
    "Alternative Hypothesis 𝐻1: The mean CTR of layout B is higher than A → 𝜇𝐵>𝜇𝐴​\n",
    "\n",
    "We’ll perform a one-tailed independent two-sample t-test assuming unequal variances (Welch's t-test).\n"
   ]
  },
  {
   "cell_type": "code",
   "execution_count": 134,
   "id": "fcb81fc6",
   "metadata": {},
   "outputs": [
    {
     "name": "stdout",
     "output_type": "stream",
     "text": [
      "Mean A: 32.50, Mean B: 42.00\n",
      "T-statistic: 7.6169\n",
      "Degrees of freedom: 18.00\n",
      "P-value: 0.0000\n",
      "Reject the null hypothesis: Layout B performs significantly better than Layout A.\n"
     ]
    }
   ],
   "source": [
    "from scipy import stats\n",
    "\n",
    "def ab_test_analysis(layout_a_clicks,layout_b_clicks):\n",
    "    #Convert to Numpy arrays for numerical calculations\n",
    "    a = np.array(layout_a_clicks)\n",
    "    b = np.array(layout_b_clicks)\n",
    "\n",
    "    #Sample statistics\n",
    "    mean_a = np.mean(a)\n",
    "    mean_b = np.mean(b)\n",
    "    var_a = np.var(b,ddof=1)\n",
    "    var_b = np.var(b,ddof=1)\n",
    "    n_a = len(a)\n",
    "    n_b = len(b)\n",
    "\n",
    "    #T-statistic using Welch's formula\n",
    "    t_stat = (mean_b - mean_a)/np.sqrt((var_a/n_a)+(var_b/n_b))\n",
    "\n",
    "    #Degree of freedom (Welch-Satterthwaite equation)\n",
    "    df = (((var_a/n_a) + (var_b/n_b))**2)/(((var_a/n_a)**2)/(n_a-1)+(var_b/n_b)**2/(n_b-1))\n",
    "\n",
    "    #One-tailed p-value (since we are testing B>A)\n",
    "    p_value = 1 - stats.t.cdf(t_stat,df)\n",
    "\n",
    "    #output results\n",
    "    print(f\"Mean A: {mean_a:.2f}, Mean B: {mean_b:.2f}\")\n",
    "    print(f\"T-statistic: {t_stat:.4f}\")\n",
    "    print(f\"Degrees of freedom: {df:.2f}\")\n",
    "    print(f\"P-value: {p_value:.4f}\")\n",
    "\n",
    "    alpha = 0.05\n",
    "    if p_value < alpha:\n",
    "        print(\"Reject the null hypothesis: Layout B performs significantly better than Layout A.\")\n",
    "    else:\n",
    "        print(\"Fail to reject the null hypothesis: No significant difference detected.\")\n",
    "\n",
    "# Sample data\n",
    "layout_a_clicks = [28, 32, 33, 29, 31, 34, 30, 35, 36, 37]\n",
    "layout_b_clicks = [40, 41, 38, 42, 39, 44, 43, 41, 45, 47]\n",
    "\n",
    "# Run the test\n",
    "ab_test_analysis(layout_a_clicks, layout_b_clicks)"
   ]
  },
  {
   "cell_type": "markdown",
   "id": "3fb33b7f",
   "metadata": {},
   "source": [
    "     Conclusion: The company should choose Layout B based on statistically higher performance."
   ]
  },
  {
   "cell_type": "markdown",
   "id": "93e94ba3",
   "metadata": {},
   "source": [
    "16. A pharmaceutical company wants to determine if a new drug is more effective than an existing drug in \n",
    "reducing cholesterol levels. Create a program to analyze the clinical trial data and calculate the t-statistic and p-value for the treatment effect."
   ]
  },
  {
   "cell_type": "code",
   "execution_count": null,
   "id": "40747fff",
   "metadata": {},
   "outputs": [],
   "source": [
    "#Cholesterol levels for both drugs\n",
    "existing_drug_levels = [180, 182, 175, 185, 178, 176, 172, 184, 179, 183]\n",
    "new_drug_levels = [170, 172, 165, 168, 175, 173, 170, 178, 172, 176]"
   ]
  },
  {
   "cell_type": "markdown",
   "id": "33c693a3",
   "metadata": {},
   "source": [
    "    Hypotheses\n",
    "    Null Hypothesis H0: Mean cholesterol levels are the same → 𝜇_new = 𝜇_existing\n",
    "\n",
    "    Alternative Hypothesis 𝐻1 : The new drug is more effective → 𝜇_new < 𝜇_existing​\n",
    "    \n",
    "\n",
    "    This is a left-tailed test."
   ]
  },
  {
   "cell_type": "code",
   "execution_count": 137,
   "id": "3841cbcd",
   "metadata": {},
   "outputs": [
    {
     "name": "stdout",
     "output_type": "stream",
     "text": [
      "Mean (Existing Drug): 179.40\n",
      "Mean (New Drug): 171.90\n",
      "T-statistic: -4.1405\n",
      "One-tailed P-value: 0.0003\n",
      "Reject the null hypothesis: The new drug is more effective in reducing cholesterol.\n"
     ]
    }
   ],
   "source": [
    "#Two-sample t-test\n",
    "\n",
    "import numpy as np\n",
    "from scipy import stats\n",
    "\n",
    "#Convert to numpy arrays\n",
    "existing = np.array(existing_drug_levels)\n",
    "new = np.array(new_drug_levels)\n",
    "\n",
    "#Calculate means\n",
    "mean_existing = np.mean(existing)\n",
    "mean_new = np.mean(new)\n",
    "\n",
    "#Perform Welch's t-test (assumes unequal variances)\n",
    "t_stat,p_value = stats.ttest_ind(new,existing,equal_var=False)\n",
    "\n",
    "#One_tailed p-value (testing if new < existing)\n",
    "p_value_one_tailed = p_value/2\n",
    "\n",
    "#Display results\n",
    "print(f\"Mean (Existing Drug): {mean_existing:.2f}\")\n",
    "print(f\"Mean (New Drug): {mean_new:.2f}\")\n",
    "print(f\"T-statistic: {t_stat:.4f}\")\n",
    "print(f\"One-tailed P-value: {p_value_one_tailed:.4f}\")\n",
    "\n",
    "#Decision\n",
    "alpha = 0.05\n",
    "if t_stat < 0 and p_value_one_tailed < alpha:\n",
    "    print(\"Reject the null hypothesis: The new drug is more effective in reducing cholesterol.\")\n",
    "else:\n",
    "    print(\"Fail to reject the null hypothesis: No significant difference detected.\")\n",
    "\n"
   ]
  },
  {
   "cell_type": "markdown",
   "id": "bc06670e",
   "metadata": {},
   "source": [
    "    Conclusion: The new drug significantly reduces cholesterol more than the existing one."
   ]
  },
  {
   "cell_type": "markdown",
   "id": "b5e3b4c8",
   "metadata": {},
   "source": [
    "17. A school district introduces an educational intervention program to improve math scores. Write a Python \n",
    "function to analyze pre- and post-intervention test scores, calculating the t-statistic and p-value to \n",
    "determine if the intervention had a significant impact."
   ]
  },
  {
   "cell_type": "code",
   "execution_count": 139,
   "id": "385dde83",
   "metadata": {},
   "outputs": [],
   "source": [
    "# Use the following data of test score:\n",
    "pre_intervention_scores = [80, 85, 90, 75, 88, 82, 92, 78, 85, 87]\n",
    "post_intervention_scores = [90, 92, 88, 92, 95, 91, 96, 93, 89, 93]"
   ]
  },
  {
   "cell_type": "markdown",
   "id": "57b82392",
   "metadata": {},
   "source": [
    "    Hypotheses\n",
    "    Null Hypothesis 𝐻0: The intervention had no effect → Mean difference = 0\n",
    "\n",
    "    Alternative Hypothesis \n",
    "    𝐻1 : The intervention had a positive effect → Post-scores > Pre-scores\n",
    "\n",
    "    This is a right-tailed test"
   ]
  },
  {
   "cell_type": "code",
   "execution_count": 142,
   "id": "3bd02964",
   "metadata": {},
   "outputs": [
    {
     "name": "stdout",
     "output_type": "stream",
     "text": [
      "Mean (Pre): 84.20\n",
      "Mean (Post): 91.90\n",
      "T-statistic: 4.4284\n",
      "One-tailed P-value: 0.0008\n",
      "Reject the null hypothesis: The intervention had a significant positive impact.\n"
     ]
    }
   ],
   "source": [
    "import numpy as np\n",
    "from scipy import stats\n",
    "\n",
    "def analyze_intervention(pre_scores,post_scores):\n",
    "    #Convert to numpy arrays\n",
    "    pre = np.array(pre_scores)\n",
    "    post = np.array(post_scores)\n",
    "\n",
    "    #Calculate the difference\n",
    "    difference = post - pre\n",
    "\n",
    "    #Perform paired t_test\n",
    "    t_stat, p_value_two_tailed = stats.ttest_rel(post,pre)\n",
    "\n",
    "    #Right-tailed p-value since we are testing if post > pre\n",
    "    p_value = p_value_two_tailed/2\n",
    "\n",
    "    #print results\n",
    "    print(f\"Mean (Pre): {np.mean(pre):.2f}\")\n",
    "    print(f\"Mean (Post): {np.mean(post):.2f}\")\n",
    "    print(f\"T-statistic: {t_stat:.4f}\")\n",
    "    print(f\"One-tailed P-value: {p_value:.4f}\")\n",
    "\n",
    "    #conclusion\n",
    "    alpha = 0.05\n",
    "    if t_stat > 0 and p_value < alpha:\n",
    "        print(\"Reject the null hypothesis: The intervention had a significant positive impact.\")\n",
    "    else:\n",
    "        print(\"Fail to reject the null hypothesis: No significant improvement detected.\")\n",
    "\n",
    "analyze_intervention(pre_intervention_scores,post_intervention_scores)"
   ]
  },
  {
   "cell_type": "markdown",
   "id": "2a4ec194",
   "metadata": {},
   "source": [
    "    Conclusion: The educational intervention program significantly improved the math scores."
   ]
  },
  {
   "cell_type": "markdown",
   "id": "8f8be795",
   "metadata": {},
   "source": [
    "18. An HR department wants to investigate if there's a gender-based salary gap within the company. Develop \n",
    "a program to analyze salary data, calculate the t-statistic, and determine if there's a statistically \n",
    "significant difference between the average salaries of male and female employees.\n"
   ]
  },
  {
   "cell_type": "code",
   "execution_count": 143,
   "id": "511115b3",
   "metadata": {},
   "outputs": [],
   "source": [
    " # Generate synthetic salary data for male and female employees\n",
    "np.random.seed(0)  # For reproducibility\n",
    "male_salaries = np.random.normal(loc=50000, scale=10000, size=20)\n",
    "female_salaries = np.random.normal(loc=55000, scale=9000, size=20)"
   ]
  },
  {
   "cell_type": "markdown",
   "id": "77ed97a5",
   "metadata": {},
   "source": [
    "To test if there is a gender-based salary gap, we'll perform a two-sample independent t-test between male and female salaries.\n",
    "\n",
    "Hypotheses:\n",
    "\n",
    "Null Hypothesis (H₀): There is no difference in average salaries → 𝜇_male = 𝜇_female\n",
    "\n",
    "Alternative Hypothesis (H₁): There is a difference in average salaries → 𝜇_male ≠ 𝜇_female\n",
    "\n",
    "\n",
    "This is a two-tailed t-test.\n",
    "\n"
   ]
  },
  {
   "cell_type": "code",
   "execution_count": 144,
   "id": "5447eea6",
   "metadata": {},
   "outputs": [
    {
     "name": "stdout",
     "output_type": "stream",
     "text": [
      "Mean Salary (Male): $55693.35\n",
      "Mean Salary (Female): $55501.75\n",
      "T-statistic: 0.0611\n",
      "P-value: 0.9516\n",
      "Fail to reject the null hypothesis: No significant salary difference detected.\n"
     ]
    }
   ],
   "source": [
    "#Calculate mean\n",
    "mean_male = np.mean(male_salaries)\n",
    "mean_female = np.mean(female_salaries)\n",
    "\n",
    "#Perform Welch's t-test (assuming unequal variances)\n",
    "t_stat,p_value = stats.ttest_ind(male_salaries,female_salaries,equal_var=False)\n",
    "\n",
    "# Print results\n",
    "print(f\"Mean Salary (Male): ${mean_male:.2f}\")\n",
    "print(f\"Mean Salary (Female): ${mean_female:.2f}\")\n",
    "print(f\"T-statistic: {t_stat:.4f}\")\n",
    "print(f\"P-value: {p_value:.4f}\")\n",
    "\n",
    "# Conclusion\n",
    "alpha = 0.05\n",
    "if p_value < alpha:\n",
    "    print(\"Reject the null hypothesis: There is a statistically significant salary difference.\")\n",
    "else:\n",
    "    print(\"Fail to reject the null hypothesis: No significant salary difference detected.\")"
   ]
  },
  {
   "cell_type": "markdown",
   "id": "6086d674",
   "metadata": {},
   "source": [
    "19. A manufacturer produces two different versions of a product and wants to compare their quality scores. \n",
    "Create a Python function to analyze quality assessment data, calculate the t-statistic, and decide \n",
    "whether there's a significant difference in quality between the two versions."
   ]
  },
  {
   "cell_type": "code",
   "execution_count": 145,
   "id": "fcdc41f2",
   "metadata": {},
   "outputs": [],
   "source": [
    "version1_scores = [85, 88, 82, 89, 87, 84, 90, 88, 85, 86, 91, 83, 87, 84, 89, 86, 84, 88, 85, 86, 89, 90, 87, 88, 85]\n",
    "version2_scores = [80, 78, 83, 81, 79, 82, 76, 80, 78, 81, 77, 82, 80, 79, 82, 79, 80, 81, 79, 82, 79, 78, 80, 81, 82]"
   ]
  },
  {
   "cell_type": "markdown",
   "id": "5be4ae4a",
   "metadata": {},
   "source": [
    "To compare the quality scores of two product versions, we'll use a two-sample independent t-test to determine if there's a statistically significant difference between their average scores.\n",
    "\n",
    "\n",
    "    Hypotheses\n",
    "\n",
    "    Null Hypothesis (H₀): No difference in average quality → 𝜇1 = 𝜇2\n",
    "\n",
    "    Alternative Hypothesis (H₁): There is a difference in quality → 𝜇1 ≠ 𝜇2 \n",
    "    ​\n",
    "    This is a two-tailed test."
   ]
  },
  {
   "cell_type": "code",
   "execution_count": 149,
   "id": "46923691",
   "metadata": {},
   "outputs": [
    {
     "name": "stdout",
     "output_type": "stream",
     "text": [
      "Mean Quality Score - Version 1: 86.64\n",
      "Mean Quality Score - Version 2: 79.96\n",
      "T-statistic: 11.3258\n",
      "P-value: 0.0000\n",
      "Reject the null hypothesis: There is a significant difference in quality.\n"
     ]
    }
   ],
   "source": [
    "def compare_product_version(version1_scores,version2_scores):\n",
    "    #Convert to np arrays\n",
    "    v1 = np.array(version1_scores)\n",
    "    v2 = np.array(version2_scores)\n",
    "\n",
    "    #Compute means\n",
    "    mean_v1 = np.mean(v1)\n",
    "    mean_v2 = np.mean(v2)\n",
    "\n",
    "    #Perform Welch's t-test (unequal variance)\n",
    "    t_stat,p_value = stats.ttest_ind(v1,v2,equal_var=False)\n",
    "\n",
    "    # Print statistics\n",
    "    print(f\"Mean Quality Score - Version 1: {mean_v1:.2f}\")\n",
    "    print(f\"Mean Quality Score - Version 2: {mean_v2:.2f}\")\n",
    "    print(f\"T-statistic: {t_stat:.4f}\")\n",
    "    print(f\"P-value: {p_value:.4f}\")\n",
    "\n",
    "    # Decision\n",
    "    alpha = 0.05\n",
    "    if p_value < alpha:\n",
    "        print(\"Reject the null hypothesis: There is a significant difference in quality.\")\n",
    "    else:\n",
    "        print(\"Fail to reject the null hypothesis: No significant difference in quality detected.\")\n",
    "\n",
    "compare_product_version(version1_scores,version2_scores)"
   ]
  },
  {
   "cell_type": "markdown",
   "id": "5f7d93ee",
   "metadata": {},
   "source": [
    "    Since Version 1 has a higher mean, it's likely the better version in quality."
   ]
  },
  {
   "cell_type": "markdown",
   "id": "8dc128e5",
   "metadata": {},
   "source": [
    "20. A restaurant chain collects customer satisfaction scores for two different branches. Write a program to \n",
    "analyze the scores, calculate the t-statistic, and determine if there's a statistically significant difference in \n",
    "customer satisfaction between the branches."
   ]
  },
  {
   "cell_type": "code",
   "execution_count": 150,
   "id": "15055574",
   "metadata": {},
   "outputs": [],
   "source": [
    "branch_a_scores = [4, 5, 3, 4, 5, 4, 5, 3, 4, 4, 5, 4, 4, 3, 4, 5, 5, 4, 3, 4, 5, 4, 3, 5, 4, 4, 5, 3, 4, 5, 4]\n",
    "branch_b_scores = [3, 4, 2, 3, 4, 3, 4, 2, 3, 3, 4, 3, 3, 2, 3, 4, 4, 3, 2, 3, 4, 3, 2, 4, 3, 3, 4, 2, 3, 4, 3]"
   ]
  },
  {
   "cell_type": "markdown",
   "id": "dbd0c7a6",
   "metadata": {},
   "source": [
    "To analyze whether there is a statistically significant difference in customer satisfaction between the two branches of a restaurant, we can use an independent two-sample t-test.\n",
    "\n",
    "    Hypotheses:\n",
    "    \n",
    "    Null Hypothesis (H₀): There is no difference in satisfaction scores between branches → 𝜇𝐴=𝜇𝐵\n",
    "\n",
    "    Alternative Hypothesis (H₁): There is a difference → 𝜇𝐴 ≠ 𝜇𝐵\n",
    "\n",
    "\n",
    "    This is a two-tailed t-test."
   ]
  },
  {
   "cell_type": "code",
   "execution_count": 152,
   "id": "70d227a4",
   "metadata": {},
   "outputs": [
    {
     "name": "stdout",
     "output_type": "stream",
     "text": [
      "Mean Satisfaction Score - Branch A: 4.13\n",
      "Mean Satisfaction Score - Branch B: 3.13\n",
      "T-statistic: 5.4801\n",
      "P-value: 0.0000\n",
      " Reject the null hypothesis: There is a significant difference in customer satisfaction.\n"
     ]
    }
   ],
   "source": [
    "def compare_branch_scores(branch_a_scores,branch_b_scores):\n",
    "    #Concert to numpy array\n",
    "    a = np.array(branch_a_scores)\n",
    "    b = np.array(branch_b_scores)\n",
    "\n",
    "    #Calculate mean\n",
    "    mean_a = np.mean(a)\n",
    "    mean_b = np.mean(b)\n",
    "\n",
    "    #Perform Welch's t-test (for unequal variance)\n",
    "    t_stat,p_value = stats.ttest_ind(a,b,equal_var=False)\n",
    "\n",
    "    # Output results\n",
    "    print(f\"Mean Satisfaction Score - Branch A: {mean_a:.2f}\")\n",
    "    print(f\"Mean Satisfaction Score - Branch B: {mean_b:.2f}\")\n",
    "    print(f\"T-statistic: {t_stat:.4f}\")\n",
    "    print(f\"P-value: {p_value:.4f}\")\n",
    "\n",
    "    # Statistical inference\n",
    "    alpha = 0.05\n",
    "    if p_value < alpha:\n",
    "        print(\" Reject the null hypothesis: There is a significant difference in customer satisfaction.\")\n",
    "    else:\n",
    "        print(\" Fail to reject the null hypothesis: No significant difference in satisfaction detected.\")\n",
    "\n",
    "compare_branch_scores(branch_a_scores,branch_b_scores)\n"
   ]
  },
  {
   "cell_type": "markdown",
   "id": "74dcbb12",
   "metadata": {},
   "source": [
    "    Since Branch A has a higher mean score, it is likely providing better customer satisfaction."
   ]
  },
  {
   "cell_type": "markdown",
   "id": "3b5bc914",
   "metadata": {},
   "source": [
    "21.  A political analyst wants to determine if there is a significant association between age groups and voter \n",
    "preferences (Candidate A or Candidate B). They collect data from a sample of 500 voters and classify \n",
    "them into different age groups and candidate preferences. Perform a Chi-Square test to determine if \n",
    "there is a significant association between age groups and voter preferences."
   ]
  },
  {
   "cell_type": "code",
   "execution_count": 154,
   "id": "dad00c97",
   "metadata": {},
   "outputs": [],
   "source": [
    "np.random.seed(0)\n",
    "age_groups = np.random.choice(['18-30', '31-50', '51+', '51+'], size=30)\n",
    "voter_preferences = np.random.choice(['Candidate A', 'Candidate B'], size=30)"
   ]
  },
  {
   "cell_type": "code",
   "execution_count": 155,
   "id": "10b87189",
   "metadata": {},
   "outputs": [
    {
     "name": "stdout",
     "output_type": "stream",
     "text": [
      "Contingency Table:\n",
      "Voter Preference  Candidate A  Candidate B\n",
      "Age Group                                 \n",
      "18-30                       2            6\n",
      "31-50                       4            4\n",
      "51+                         5            9\n",
      "\n",
      "Expected Frequencies:\n",
      "Voter Preference  Candidate A  Candidate B\n",
      "Age Group                                 \n",
      "18-30                2.933333     5.066667\n",
      "31-50                2.933333     5.066667\n",
      "51+                  5.133333     8.866667\n",
      "\n",
      "Chi-Square Statistics: 1.0868\n",
      "Degree of Freedom: 2\n",
      "P-value: 0.5808\n",
      "No significant association between age group and voter preference.\n"
     ]
    }
   ],
   "source": [
    "from scipy.stats import chi2_contingency\n",
    "\n",
    "#Create a datframe\n",
    "data = pd.DataFrame({'Age Group': age_groups,'Voter Preference': voter_preferences})\n",
    "\n",
    "#Create a contingency table\n",
    "contingency_table = pd.crosstab(data['Age Group'],data['Voter Preference'])\n",
    "\n",
    "#Perform Chi-Square Test\n",
    "chi2,p,dof,expected = chi2_contingency(contingency_table)\n",
    "\n",
    "#Display results\n",
    "print(\"Contingency Table:\")\n",
    "print(contingency_table)\n",
    "print(\"\\nExpected Frequencies:\")\n",
    "print(pd.DataFrame(expected, index = contingency_table.index , columns=contingency_table.columns))\n",
    "print(f'\\nChi-Square Statistics: {chi2:.4f}')\n",
    "print(f\"Degree of Freedom: {dof}\")\n",
    "print(f\"P-value: {p:.4f}\")\n",
    "\n",
    "#Inference\n",
    "alpha = 0.05\n",
    "if p < alpha:\n",
    "    print(\"There is a significant association between age group and voter preference.\")\n",
    "else:\n",
    "    print(\"No significant association between age group and voter preference.\")"
   ]
  },
  {
   "cell_type": "markdown",
   "id": "4453cc84",
   "metadata": {},
   "source": [
    " 22. A company conducted a customer satisfaction survey to determine if there is a significant relationship \n",
    "between product satisfaction levels (Satisfied, Neutral, Dissatisfied) and the region where customers are \n",
    "located (East, West, North, South). The survey data is summarized in a contingency table. Conduct a Chi\n",
    "Square test to determine if there is a significant relationship between product satisfaction levels and \n",
    "customer regions."
   ]
  },
  {
   "cell_type": "code",
   "execution_count": 156,
   "id": "dfbdd340",
   "metadata": {},
   "outputs": [],
   "source": [
    " #Sample data: Product satisfaction levels (rows) vs. Customer regions (columns)\n",
    "data = np.array([[50, 30, 40, 20], [30, 40, 30, 50], [20, 30, 40, 30]])"
   ]
  },
  {
   "cell_type": "markdown",
   "id": "b118cc95",
   "metadata": {},
   "source": [
    "    It checks whether product satisfaction is independent of the region.\n",
    "\n",
    "    Null hypothesis (H₀): No relationship between satisfaction and region.\n",
    "\n",
    "    Alternative hypothesis (H₁): There is a relationship between satisfaction and region."
   ]
  },
  {
   "cell_type": "code",
   "execution_count": 157,
   "id": "642dca4b",
   "metadata": {},
   "outputs": [
    {
     "name": "stdout",
     "output_type": "stream",
     "text": [
      "Contigency Table(Observed):\n",
      "              East  West  North  South\n",
      "Satisfied       50    30     40     20\n",
      "Neutral         30    40     30     50\n",
      "Dissatisfied    20    30     40     30\n",
      "\n",
      "Expected Frequencies:\n",
      "                   East       West      North      South\n",
      "Satisfied     34.146341  34.146341  37.560976  34.146341\n",
      "Neutral       36.585366  36.585366  40.243902  36.585366\n",
      "Dissatisfied  29.268293  29.268293  32.195122  29.268293\n",
      "\n",
      "Chi_Square Statistic: 27.7771\n",
      "Degree of Freedom: 6\n",
      "P-value: 0.0001\n",
      "There is a significant relationship between satisfaction level and region.\n"
     ]
    }
   ],
   "source": [
    "#Sample data: [Satisfied , Neutal , Dissatisfied] vs [East,West,North,South]\n",
    "data = np.array([\n",
    "    [50,30,40,20],  #Satisfied\n",
    "    [30,40,30,50],  #Neutral\n",
    "    [20,30,40,30]   #Dissatisfied\n",
    "])\n",
    "\n",
    "#Create labels for rows and columns\n",
    "index = ['Satisfied','Neutral','Dissatisfied']\n",
    "columns = ['East','West','North','South']\n",
    "\n",
    "#Create a DataFrame\n",
    "df = pd.DataFrame(data,index=index,columns=columns)\n",
    "\n",
    "#Perform Chi_Square Test\n",
    "chi2,p,dof,expected = chi2_contingency(df)\n",
    "\n",
    "#Display results\n",
    "print(\"Contigency Table(Observed):\")\n",
    "print(df)\n",
    "print('\\nExpected Frequencies:')\n",
    "print(pd.DataFrame(expected,index=index,columns=columns))\n",
    "print(f\"\\nChi_Square Statistic: {chi2:.4f}\")\n",
    "print(f\"Degree of Freedom: {dof}\")\n",
    "print(f'P-value: {p:.4f}')\n",
    "\n",
    "#Inference\n",
    "alpha = 0.05\n",
    "if p < alpha:\n",
    "    print(\"There is a significant relationship between satisfaction level and region.\")\n",
    "else:\n",
    "    print(\"No significant relationship between satisfaction level and region.\")"
   ]
  },
  {
   "cell_type": "markdown",
   "id": "3f33617e",
   "metadata": {},
   "source": [
    " 23. A company implemented an employee training program to improve job performance (Effective, Neutral, \n",
    "Ineffective). After the training, they collected data from a sample of employees and classified them based \n",
    "on their job performance before and after the training. Perform a Chi-Square test to determine if there is a \n",
    "significant difference between job performance levels before and after the training."
   ]
  },
  {
   "cell_type": "code",
   "execution_count": 158,
   "id": "1f29154a",
   "metadata": {},
   "outputs": [],
   "source": [
    "# Sample data: Job performance levels before (rows) and after (columns) training\n",
    "data = np.array([[50, 30, 20], [30, 40, 30], [20, 30, 40]])"
   ]
  },
  {
   "cell_type": "code",
   "execution_count": 159,
   "id": "a4a9cef8",
   "metadata": {},
   "outputs": [
    {
     "name": "stdout",
     "output_type": "stream",
     "text": [
      "Contingency Table:\n",
      "                       Effective (After)  Neutral (After)  Ineffective (After)\n",
      "Effective (Before)                   50               30                   20\n",
      "Neutral (Before)                     30               40                   30\n",
      "Ineffective (Before)                 20               30                   40\n",
      "\n",
      "Expected Frequencies:\n",
      "                       Effective (After)  Neutral (After)  Ineffective (After)\n",
      "Effective (Before)            34.482759        34.482759            31.034483\n",
      "Neutral (Before)              34.482759        34.482759            31.034483\n",
      "Ineffective (Before)          31.034483        31.034483            27.931034\n",
      "\n",
      "Chi-Square Statistic: 22.1617\n",
      "Degrees of Freedom: 4\n",
      "P-Value: 0.0002\n",
      "\n",
      "Conclusion: There is a significant relationship. Training likely had an effect.\n"
     ]
    }
   ],
   "source": [
    "# Sample data: Rows = performance before, Columns = performance after\n",
    "\n",
    "\n",
    "#Step 2: Define the Contingency Table\n",
    "data = np.array([\n",
    "    [50, 30, 20],  # Before: Effective\n",
    "    [30, 40, 30],  # Before: Neutral\n",
    "    [20, 30, 40]   # Before: Ineffective\n",
    "])\n",
    "\n",
    "#Step 3: Create a DataFrame\n",
    "df = pd.DataFrame(data, \n",
    "                  index=['Effective (Before)', 'Neutral (Before)', 'Ineffective (Before)'],\n",
    "                  columns=['Effective (After)', 'Neutral (After)', 'Ineffective (After)'])\n",
    "print(\"Contingency Table:\\n\", df)\n",
    "\n",
    "#Step 4: Perform the Chi-Square Test\n",
    "chi2, p, dof, expected = chi2_contingency(data)\n",
    "\n",
    "#Step 5: Print the Results\n",
    "print(\"\\nExpected Frequencies:\\n\", pd.DataFrame(expected, index=df.index, columns=df.columns))\n",
    "print(f\"\\nChi-Square Statistic: {chi2:.4f}\")\n",
    "print(f\"Degrees of Freedom: {dof}\")\n",
    "print(f\"P-Value: {p:.4f}\")\n",
    "\n",
    "# Interpretation\n",
    "if p < 0.05:\n",
    "    print(\"\\nConclusion: There is a significant relationship. Training likely had an effect.\")\n",
    "else:\n",
    "    print(\"\\nConclusion: No significant relationship found. Training effect is not supported.\")\n"
   ]
  },
  {
   "cell_type": "markdown",
   "id": "10f1549a",
   "metadata": {},
   "source": [
    " 24. A company produces three different versions of a product: Standard, Premium, and Deluxe. The \n",
    "company wants to determine if there is a significant difference in customer satisfaction scores among the \n",
    "three product versions. They conducted a survey and collected customer satisfaction scores for each \n",
    "version from a random sample of customers. Perform an ANOVA test to determine if there is a significant \n",
    "difference in customer satisfaction scores."
   ]
  },
  {
   "cell_type": "code",
   "execution_count": 160,
   "id": "dee13767",
   "metadata": {},
   "outputs": [],
   "source": [
    "# Sample data: Customer satisfaction scores for each product version\n",
    "standard_scores = [80, 85, 90, 78, 88, 82, 92, 78, 85, 87]\n",
    "premium_scores = [90, 92, 88, 92, 95, 91, 96, 93, 89, 93]\n",
    "deluxe_scores = [95, 98, 92, 97, 96, 94, 98, 97, 92, 99]"
   ]
  },
  {
   "cell_type": "markdown",
   "id": "3d2c85aa",
   "metadata": {},
   "source": [
    "    Goal\n",
    "    Test whether the means of three independent groups (product versions) are statistically different."
   ]
  },
  {
   "cell_type": "code",
   "execution_count": 161,
   "id": "7a5a3e4e",
   "metadata": {},
   "outputs": [
    {
     "name": "stdout",
     "output_type": "stream",
     "text": [
      "F-Statistic: 27.0356\n",
      "P-Value: 0.0000\n",
      "Conclusion: There is a significant difference in satisfaction scores among product versions.\n"
     ]
    }
   ],
   "source": [
    "from scipy.stats import f_oneway\n",
    "\n",
    "#Perform the ANOVA test\n",
    "f_statistic,p_value = f_oneway(standard_scores,premium_scores,deluxe_scores)\n",
    "\n",
    "#Print the results\n",
    "print(f'F-Statistic: {f_statistic:.4f}')\n",
    "print(f\"P-Value: {p_value:.4f}\")\n",
    "\n",
    "if p_value < 0.05:\n",
    "    print(\"Conclusion: There is a significant difference in satisfaction scores among product versions.\")\n",
    "else:\n",
    "    print(\"Conclusion: No significant difference in satisfaction scores among product versions.\")"
   ]
  }
 ],
 "metadata": {
  "kernelspec": {
   "display_name": "Python 3",
   "language": "python",
   "name": "python3"
  },
  "language_info": {
   "codemirror_mode": {
    "name": "ipython",
    "version": 3
   },
   "file_extension": ".py",
   "mimetype": "text/x-python",
   "name": "python",
   "nbconvert_exporter": "python",
   "pygments_lexer": "ipython3",
   "version": "3.12.0"
  }
 },
 "nbformat": 4,
 "nbformat_minor": 5
}
