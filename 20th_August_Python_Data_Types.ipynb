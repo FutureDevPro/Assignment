{
 "cells": [
  {
   "cell_type": "code",
   "execution_count": 1,
   "id": "f343ee68-186b-4ced-9a73-2448b162371d",
   "metadata": {},
   "outputs": [],
   "source": [
    "#String Based Asignment Problem"
   ]
  },
  {
   "cell_type": "code",
   "execution_count": 2,
   "id": "d0a67c1d-ff34-48b3-93b7-6cf52e924f31",
   "metadata": {},
   "outputs": [],
   "source": [
    "#1. Write a program to reverse a string."
   ]
  },
  {
   "cell_type": "code",
   "execution_count": 3,
   "id": "14958077",
   "metadata": {},
   "outputs": [
    {
     "name": "stdout",
     "output_type": "stream",
     "text": [
      "Reversed String : noitacudE\n"
     ]
    }
   ],
   "source": [
    "#1. Define a function\n",
    "def reverse_str(input_str):\n",
    "    \n",
    "    #2. initilize empty reversed string\n",
    "    reversed_str=\"\"\n",
    "\n",
    "    #3. Start a loop\n",
    "    for char in input_str:\n",
    "\n",
    "        #4. formula to add character in beginning\n",
    "        reversed_str = char + reversed_str\n",
    "\n",
    "    #5. return reversed string\n",
    "    return reversed_str\n",
    "\n",
    "#7. Enter String\n",
    "input_string=\"Education\"\n",
    "\n",
    "#8. Call Function\n",
    "reversed_string=reverse_str(input_string)\n",
    "\n",
    "#9. Print reversed string\n",
    "print(\"Reversed String :\",reversed_string)\n"
   ]
  },
  {
   "cell_type": "code",
   "execution_count": null,
   "id": "ebf108f2",
   "metadata": {},
   "outputs": [],
   "source": []
  }
 ],
 "metadata": {
  "kernelspec": {
   "display_name": "Python 3 (ipykernel)",
   "language": "python",
   "name": "python3"
  },
  "language_info": {
   "codemirror_mode": {
    "name": "ipython",
    "version": 3
   },
   "file_extension": ".py",
   "mimetype": "text/x-python",
   "name": "python",
   "nbconvert_exporter": "python",
   "pygments_lexer": "ipython3",
   "version": "3.12.0"
  }
 },
 "nbformat": 4,
 "nbformat_minor": 5
}
