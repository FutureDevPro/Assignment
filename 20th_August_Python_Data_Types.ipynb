{
 "cells": [
  {
   "cell_type": "markdown",
   "id": "1ba917b4-17a3-41dd-8bfe-0b8709123ade",
   "metadata": {},
   "source": [
    "#String Based Asignment Problem"
   ]
  },
  {
   "cell_type": "raw",
   "id": "8414285a-2a9d-4192-b9a7-35ae00f037fe",
   "metadata": {},
   "source": [
    "#1. Write a program to reverse a string."
   ]
  },
  {
   "cell_type": "code",
   "execution_count": 1,
   "id": "14958077",
   "metadata": {},
   "outputs": [
    {
     "name": "stdout",
     "output_type": "stream",
     "text": [
      "Reversed String : noitacudE\n"
     ]
    }
   ],
   "source": [
    "#1. Define a function\n",
    "def reverse_str(input_str):\n",
    "    \n",
    "    #2. initilize empty reversed string\n",
    "    reversed_str=\"\"\n",
    "\n",
    "    #3. Start a loop\n",
    "    for char in input_str:\n",
    "\n",
    "        #4. formula to add character in beginning\n",
    "        reversed_str = char + reversed_str\n",
    "\n",
    "    #5. return reversed string\n",
    "    return reversed_str\n",
    "\n",
    "#7. Enter String\n",
    "input_string=\"Education\"\n",
    "\n",
    "#8. Call Function\n",
    "reversed_string=reverse_str(input_string)\n",
    "\n",
    "#9. Print reversed string\n",
    "print(\"Reversed String :\",reversed_string)\n"
   ]
  },
  {
   "cell_type": "raw",
   "id": "ffcf19d0-4ce5-44d5-8cce-0e44ca08f51c",
   "metadata": {},
   "source": [
    "#2. Check if a string is a palindrome."
   ]
  },
  {
   "cell_type": "code",
   "execution_count": 2,
   "id": "1abf55a2",
   "metadata": {},
   "outputs": [
    {
     "name": "stdout",
     "output_type": "stream",
     "text": [
      "('namannaman', 'namannaman', True)\n"
     ]
    }
   ],
   "source": [
    "#1. define a function\n",
    "def palindrome_is(s):\n",
    "\n",
    "    #2. convert string into lowercase\n",
    "    s=s.lower()\n",
    "\n",
    "\n",
    "    #3. Remove punctuation marks and space\n",
    "    s = ''.join(e for e in s if e.isalnum())    \n",
    "             \n",
    "\n",
    "    #4. compare with reverse string\n",
    "    return s,s[::-1] , s==s[::-1]\n",
    "\n",
    "#5. Call Function\n",
    "print(palindrome_is(\"naman=n a.man\"))"
   ]
  },
  {
   "cell_type": "raw",
   "id": "59bda6b8-8651-48f8-9557-b882c90c2f5a",
   "metadata": {},
   "source": [
    "#3. Convert a string to uppercase."
   ]
  },
  {
   "cell_type": "code",
   "execution_count": 3,
   "id": "a15fe299",
   "metadata": {},
   "outputs": [
    {
     "name": "stdin",
     "output_type": "stream",
     "text": [
      "Enter a String education\n"
     ]
    },
    {
     "name": "stdout",
     "output_type": "stream",
     "text": [
      "Upper case string is EDUCATION\n"
     ]
    }
   ],
   "source": [
    "#1. Take a input from user\n",
    "string=input(\"Enter a String\")\n",
    "\n",
    "#2. Convert String into Upper Case\n",
    "upper_string=string.upper()\n",
    "\n",
    "#3. Print Upper Case String\n",
    "print('Upper case string is', upper_string)"
   ]
  },
  {
   "cell_type": "raw",
   "id": "caf0d956-c658-4f50-bdc0-af97bb2bbd97",
   "metadata": {},
   "source": [
    "#4. Convert a string to lowercase."
   ]
  },
  {
   "cell_type": "code",
   "execution_count": 4,
   "id": "f5fde81a-cfcd-4f79-be1f-beae65d5c8fc",
   "metadata": {},
   "outputs": [
    {
     "name": "stdin",
     "output_type": "stream",
     "text": [
      "Enter a String ARTIFICIAL\n"
     ]
    },
    {
     "name": "stdout",
     "output_type": "stream",
     "text": [
      "lower case string is artificial\n"
     ]
    }
   ],
   "source": [
    "#1. Take a input from user\n",
    "string=input(\"Enter a String\")\n",
    "\n",
    "#2. Convert String into Lower Case\n",
    "lower_string=string.lower()\n",
    "\n",
    "#3. Print Upper Case String\n",
    "print('lower case string is', lower_string)"
   ]
  },
  {
   "cell_type": "raw",
   "id": "9c33e1ca-16e4-46a8-bc72-9e50ca303bb7",
   "metadata": {},
   "source": [
    "#5. Count the number of vowels in a string."
   ]
  },
  {
   "cell_type": "code",
   "execution_count": 15,
   "id": "e7d0b4eb-98b0-4449-a050-eebe09218169",
   "metadata": {},
   "outputs": [
    {
     "name": "stdin",
     "output_type": "stream",
     "text": [
      "Enter String India\n"
     ]
    },
    {
     "name": "stdout",
     "output_type": "stream",
     "text": [
      "3\n"
     ]
    }
   ],
   "source": [
    "#1. Take a Input from User\n",
    "string=input(\"Enter String\")\n",
    "\n",
    "#2. Initialize empty Count variable\n",
    "vowels_in_string=\"\"\n",
    "\n",
    "#3. Convert String into lower case\n",
    "lower_str=string.lower()\n",
    "\n",
    "#4. Start Loop\n",
    "for vowel in lower_str:\n",
    "    if vowel in 'aeiou':\n",
    "        vowels_in_string+=vowel\n",
    "        \n",
    "#5.Calculate vowels         \n",
    "No_of_Vowels=len(vowels_in_string)\n",
    "\n",
    "#6. Print number of Vowels\n",
    "print(No_of_Vowels)\n"
   ]
  },
  {
   "cell_type": "markdown",
   "id": "247e74b8-c2b0-452b-884b-073e770152cd",
   "metadata": {},
   "source": []
  },
  {
   "cell_type": "markdown",
   "id": "117f38cd-9365-4782-bc7e-5577c775b016",
   "metadata": {},
   "source": [
    "#List Based Practice Problem"
   ]
  },
  {
   "cell_type": "raw",
   "id": "9af70576-8885-45e7-963c-165c18b77d33",
   "metadata": {},
   "source": [
    "#1. Create a list with integers from 1 to 10."
   ]
  },
  {
   "cell_type": "code",
   "execution_count": 16,
   "id": "8f5990e3-3f67-4a71-aef9-1223a0d46f81",
   "metadata": {},
   "outputs": [
    {
     "name": "stdout",
     "output_type": "stream",
     "text": [
      "[1, 2, 3, 4, 5, 6, 7, 8, 9, 10]\n"
     ]
    }
   ],
   "source": [
    "#1. Intilize empty list\n",
    "list_=[]\n",
    "\n",
    "#2. Start loop From 1 to 10\n",
    "for i in range(1,11):\n",
    "    \n",
    "    #3. append numbers in list\n",
    "    list_.append(i)\n",
    "\n",
    "#4. print list\n",
    "print(list_)"
   ]
  },
  {
   "cell_type": "raw",
   "id": "210f1bd9-f939-45df-a051-418e2bd364ba",
   "metadata": {},
   "source": [
    "#2. Find the length of a list without using the `len()` function."
   ]
  },
  {
   "cell_type": "code",
   "execution_count": 17,
   "id": "4ba96771-ce25-4fd5-93cb-93a830241ec1",
   "metadata": {},
   "outputs": [
    {
     "name": "stdout",
     "output_type": "stream",
     "text": [
      "lenth of list : 6\n"
     ]
    }
   ],
   "source": [
    "#1. Create a fuction that count number of elements in list\n",
    "def count_len(input_list):\n",
    "    \n",
    "    #2. Intilize empty count variable\n",
    "    count=0\n",
    "    \n",
    "    #3. Use Loop to count elements\n",
    "    for i in input_list:\n",
    "        count+=1\n",
    "    \n",
    "    #4. return count\n",
    "    return count\n",
    "\n",
    "#5. Take a random list\n",
    "list_=[2,6,8,3,6,3]\n",
    "\n",
    "#6. Call function\n",
    "len_= count_len(list_)\n",
    "\n",
    "#7. print length\n",
    "print(\"lenth of list :\",len_)"
   ]
  },
  {
   "cell_type": "raw",
   "id": "4dd65bdc-0a13-41e3-bdc3-34d4eff1ac16",
   "metadata": {},
   "source": [
    "#3. Append an element to the end of a list."
   ]
  },
  {
   "cell_type": "code",
   "execution_count": 18,
   "id": "dfb4f2b4-0e52-4fe5-95b4-eb69c602161e",
   "metadata": {},
   "outputs": [
    {
     "name": "stdout",
     "output_type": "stream",
     "text": [
      "element appended successfully: [4, 7, 3, 6, 8, 4, 23, 5, 18]\n"
     ]
    }
   ],
   "source": [
    "#1. Create random list\n",
    "list_=[4,7,3,6,8,4,23,5]\n",
    "\n",
    "#2. Element that append in list\n",
    "element=18\n",
    "\n",
    "#3. append an element in list\n",
    "list_.append(element)\n",
    "\n",
    "#4. print new list in which an element appended\n",
    "print('element appended successfully:', list_)"
   ]
  },
  {
   "cell_type": "raw",
   "id": "90ca8f59-3b35-45c5-9a23-dfe2f048c10a",
   "metadata": {},
   "source": [
    "#4. Insert an element at a specific index in a list."
   ]
  },
  {
   "cell_type": "code",
   "execution_count": 19,
   "id": "e4960d25-2b91-49b9-8977-a45ab4751d9b",
   "metadata": {},
   "outputs": [
    {
     "name": "stdout",
     "output_type": "stream",
     "text": [
      "updated list: [4, 7, 3, 6, 8, 50, 4, 23, 5]\n"
     ]
    }
   ],
   "source": [
    "#1. Create random list\n",
    "list_=[4,7,3,6,8,4,23,5]\n",
    "\n",
    "#2. Element that want to insert\n",
    "element=50\n",
    "\n",
    "#3. At which place element want to added\n",
    "index=5\n",
    "\n",
    "#4.Use insert function\n",
    "list_.insert(index,element)\n",
    "\n",
    "#5.print updated list\n",
    "print(\"updated list:\",list_)"
   ]
  },
  {
   "cell_type": "raw",
   "id": "fa806749-69b6-4a25-a7cb-8e1758227ed5",
   "metadata": {},
   "source": [
    "#5. Remove an element from a list by its value."
   ]
  },
  {
   "cell_type": "code",
   "execution_count": 20,
   "id": "ff070ff8-c71a-4ca6-a05b-91a6ae3abd2e",
   "metadata": {},
   "outputs": [
    {
     "name": "stdout",
     "output_type": "stream",
     "text": [
      "updated list: [4, 7, 3, 6, 8, 4, 5]\n"
     ]
    }
   ],
   "source": [
    "#1. Create random list\n",
    "list_=[4,7,3,6,8,4,23,5]\n",
    "\n",
    "#2. Element that want to remove\n",
    "remove_element=23\n",
    "\n",
    "#3. call function\n",
    "list_.remove(remove_element)\n",
    "\n",
    "#4. print updated list\n",
    "print(\"updated list:\",list_)"
   ]
  },
  {
   "cell_type": "code",
   "execution_count": null,
   "id": "d4911d44-cac1-40f9-abe6-98fe685998ab",
   "metadata": {},
   "outputs": [],
   "source": []
  },
  {
   "cell_type": "markdown",
   "id": "edad2aee-da77-4413-be94-2fa7e537d3ec",
   "metadata": {},
   "source": [
    "Tuple Based Practice Problem :"
   ]
  },
  {
   "cell_type": "raw",
   "id": "b9160efa-a3bc-43cd-9f16-ee9a80c19889",
   "metadata": {},
   "source": [
    "#1. Create a tuple with integers from 1 to 5."
   ]
  },
  {
   "cell_type": "code",
   "execution_count": 21,
   "id": "38756b1c-266f-4b8b-b5b4-4a8a88b9298c",
   "metadata": {},
   "outputs": [
    {
     "name": "stdout",
     "output_type": "stream",
     "text": [
      "(1, 2, 3, 4, 5)\n"
     ]
    }
   ],
   "source": [
    "#1. Initialize empty tuple\n",
    "tuple_=()\n",
    "\n",
    "#2. Use Loop to add elemenets\n",
    "for i in range(1,6):\n",
    "    tuple_+=(i,)\n",
    "\n",
    "#3. print tuple    \n",
    "print(tuple_)"
   ]
  },
  {
   "cell_type": "raw",
   "id": "b6838382-52d9-4689-b8b4-d35ac2dc26e0",
   "metadata": {},
   "source": [
    "#2. Access the third element of a tuple."
   ]
  },
  {
   "cell_type": "code",
   "execution_count": 22,
   "id": "08df4fbe-d486-47c0-a03e-3a670f5f3d56",
   "metadata": {},
   "outputs": [
    {
     "name": "stdout",
     "output_type": "stream",
     "text": [
      "3rd element : 4\n"
     ]
    }
   ],
   "source": [
    "#1. Take a random tuple\n",
    "tuple_=(2,6,4,8,5,9,3,6)\n",
    "\n",
    "#2. Give index=2 as indexing starting from 0\n",
    "third_element=tuple_[2]\n",
    "\n",
    "#3. print 3rd element\n",
    "print(\"3rd element :\",third_element)"
   ]
  },
  {
   "cell_type": "raw",
   "id": "db4bc31e-9ce7-43d9-a090-2bef587b3915",
   "metadata": {},
   "source": [
    "#3. Find the length of a tuple without using the `len()` function."
   ]
  },
  {
   "cell_type": "code",
   "execution_count": 23,
   "id": "dc68d195-8e0c-403c-8bba-33aa53c6899d",
   "metadata": {},
   "outputs": [
    {
     "name": "stdout",
     "output_type": "stream",
     "text": [
      "no. of elements : 8\n"
     ]
    }
   ],
   "source": [
    "#1. Take a random tuple\n",
    "tuple_=(2,6,4,8,5,9,3,6,)\n",
    "\n",
    "#2. initilize empty count variable\n",
    "element_count=0\n",
    "\n",
    "#3. Use loop to get every element\n",
    "for i in tuple_:\n",
    "    \n",
    "    #4. Count +1 when it take each element\n",
    "    element_count += 1\n",
    "\n",
    "#4. print count \n",
    "print(\"no. of elements :\", element_count)"
   ]
  },
  {
   "cell_type": "raw",
   "id": "89022d6a-28e0-43fd-9feb-8b9c11670268",
   "metadata": {},
   "source": [
    "Count the occurrences of an element in a tuple."
   ]
  },
  {
   "cell_type": "code",
   "execution_count": 24,
   "id": "e66f9201-f07f-4300-a7d0-b52e02c2d54a",
   "metadata": {},
   "outputs": [
    {
     "name": "stdout",
     "output_type": "stream",
     "text": [
      "occurance of element : 2\n"
     ]
    }
   ],
   "source": [
    "#1. Take a random tuple\n",
    "tuple_=(2,6,4,8,5,9,3,6,)\n",
    "\n",
    "#2. Choose element to find occurance of that element\n",
    "element=6\n",
    "\n",
    "#3. Initilize count variable\n",
    "count_=0\n",
    "\n",
    "#4. Use loop to take every element in tuple\n",
    "for i in tuple_:\n",
    "    \n",
    "    #5. Count occurance\n",
    "    if i == element:\n",
    "        count_+=1\n",
    "        \n",
    "#6. print count\n",
    "print(\"occurance of element :\",count_)"
   ]
  },
  {
   "cell_type": "raw",
   "id": "169781c5-1e1a-41a2-966b-5a06815e09f4",
   "metadata": {},
   "source": [
    "#5. Find the index of the first occurrence of an element in a tuple."
   ]
  },
  {
   "cell_type": "code",
   "execution_count": 43,
   "id": "16c69273-3cf6-47d9-9b81-0eb8e00d6078",
   "metadata": {},
   "outputs": [
    {
     "name": "stdout",
     "output_type": "stream",
     "text": [
      "Your index is 3\n"
     ]
    }
   ],
   "source": [
    "#1. Take a random tuple\n",
    "tuple_=(2,6,4,8,5,9,3,6)\n",
    "\n",
    "#2. Initilize index_ variable as None\n",
    "index_= None\n",
    "\n",
    "#3. Choose Element to find its index\n",
    "element=8\n",
    "\n",
    "#4. Start loop\n",
    "for i in range(len(tuple_)):\n",
    "    \n",
    "    #5. if element is found in tuple then take i as index_\n",
    "    if tuple_[i] == element:\n",
    "        index_=i\n",
    "        break\n",
    "\n",
    "#6. If element found then print its index_\n",
    "if index_ != None:\n",
    "        print(\"Your index is\", index_)\n",
    "        \n",
    "else:\n",
    "    print(\"Element not found\")\n",
    "\n",
    "\n"
   ]
  },
  {
   "cell_type": "code",
   "execution_count": null,
   "id": "3c005811-2ccd-4753-a65e-196ef39a8f28",
   "metadata": {},
   "outputs": [],
   "source": []
  },
  {
   "cell_type": "markdown",
   "id": "250af12e-33a7-4689-af61-7348a4092454",
   "metadata": {},
   "source": [
    "Set Based Practice Problem :"
   ]
  },
  {
   "cell_type": "raw",
   "id": "c2f0293e-70b0-4684-9c3d-24fa6dee67b1",
   "metadata": {},
   "source": [
    "1. Create a set with integers from 1 to 5."
   ]
  },
  {
   "cell_type": "code",
   "execution_count": 4,
   "id": "ef398b54-2e15-4761-a5d4-a2a23539ff72",
   "metadata": {},
   "outputs": [
    {
     "name": "stdout",
     "output_type": "stream",
     "text": [
      "set : {1, 2, 3, 4, 5}\n"
     ]
    }
   ],
   "source": [
    "#1. Create variable and use set function and give range to it\n",
    "set_=set(range(1,6))\n",
    "\n",
    "#2. print set_\n",
    "print(\"set :\",set_)"
   ]
  },
  {
   "cell_type": "raw",
   "id": "d3f98a28-725e-45d4-9e01-bd5423870d23",
   "metadata": {},
   "source": [
    "2. Add an element to a set."
   ]
  },
  {
   "cell_type": "code",
   "execution_count": 3,
   "id": "3ace07fe-66b2-4565-8755-041b55ac8464",
   "metadata": {},
   "outputs": [
    {
     "name": "stdout",
     "output_type": "stream",
     "text": [
      "updated set: {1, 2, 3, 4, 5, 7, 8, 9}\n"
     ]
    }
   ],
   "source": [
    "#1. Take a random set\n",
    "set_={2,4,7,3,7,4,8,4,1,5}\n",
    "\n",
    "#2. Choose element that want to add\n",
    "add_=9\n",
    "\n",
    "#2. Add element to set_\n",
    "set_.add(add_)\n",
    "\n",
    "#3. print set_\n",
    "print(\"updated set:\",set_)"
   ]
  },
  {
   "cell_type": "raw",
   "id": "1a732ed3-05fd-414f-b880-00b6c9278c4f",
   "metadata": {},
   "source": [
    "3. Remove an element from a set."
   ]
  },
  {
   "cell_type": "code",
   "execution_count": 2,
   "id": "af61b140-9946-4c43-bff0-92ea59b970e2",
   "metadata": {},
   "outputs": [
    {
     "name": "stdout",
     "output_type": "stream",
     "text": [
      "updated set : {1, 2, 3, 4, 5, 7, 8, 9}\n"
     ]
    }
   ],
   "source": [
    "#1. Take a random set\n",
    "set_={2,4,7,3,7,4,8,4,1,5}\n",
    "\n",
    "#2. Element that want to add\n",
    "add_=9\n",
    "\n",
    "#2. Add element to set_\n",
    "set_.add(add_)\n",
    "\n",
    "#3. print set_\n",
    "print(\"updated set :\",set_)"
   ]
  },
  {
   "cell_type": "raw",
   "id": "7341cb7a-0e64-4067-a71d-cc17e496c0ae",
   "metadata": {},
   "source": [
    "4. Check if an element exists in a set."
   ]
  },
  {
   "cell_type": "code",
   "execution_count": 9,
   "id": "bd0dbe9a-f109-4c88-a111-eeed38ac1092",
   "metadata": {},
   "outputs": [
    {
     "name": "stdin",
     "output_type": "stream",
     "text": [
      "Enter number to check its existance : 6\n"
     ]
    },
    {
     "name": "stdout",
     "output_type": "stream",
     "text": [
      "Element 6 not exist in set\n"
     ]
    }
   ],
   "source": [
    "#1. Take a random set\n",
    "set_={2,4,7,3,7,4,8,4,1,5}\n",
    "\n",
    "#2. Take a element from user to check wheater it exist or not\n",
    "input_=int(input(\"Enter number to check its existance :\"))\n",
    "\n",
    "#3. Check input in set\n",
    "\n",
    "#4. If it is in set\n",
    "if input_ in set_:\n",
    "        print(f\"Element {input_} is exist in set\")\n",
    "\n",
    "#5. If it is not in set\n",
    "else:\n",
    "    print(f\"Element {input_} not exist in set\")"
   ]
  },
  {
   "cell_type": "raw",
   "id": "158d3169-01e3-491d-a3fd-465e04259a9b",
   "metadata": {},
   "source": [
    "5. Find the length of a set without using the `len()` function."
   ]
  },
  {
   "cell_type": "code",
   "execution_count": 11,
   "id": "b6c8085c-0edd-4972-ae01-4c55df575b5b",
   "metadata": {},
   "outputs": [
    {
     "name": "stdout",
     "output_type": "stream",
     "text": [
      "{1, 2, 3, 4, 5, 7, 8} length of set : 7\n"
     ]
    }
   ],
   "source": [
    "#1. Take a random set\n",
    "set_={2,4,7,3,7,4,8,4,1,5}\n",
    "\n",
    "#2. Initilize count variable as 0\n",
    "count_=0\n",
    "\n",
    "#3. Use loop to calculate length\n",
    "for i in set_:\n",
    "    #4. count +1 on eacg\n",
    "    count_+=1\n",
    "    \n",
    "print(\"length of set :\", count_)\n",
    "    \n",
    "    "
   ]
  },
  {
   "cell_type": "code",
   "execution_count": null,
   "id": "c8410ce1-3b15-476f-9f00-c4334653c121",
   "metadata": {},
   "outputs": [],
   "source": []
  }
 ],
 "metadata": {
  "kernelspec": {
   "display_name": "Python 3 (ipykernel)",
   "language": "python",
   "name": "python3"
  },
  "language_info": {
   "codemirror_mode": {
    "name": "ipython",
    "version": 3
   },
   "file_extension": ".py",
   "mimetype": "text/x-python",
   "name": "python",
   "nbconvert_exporter": "python",
   "pygments_lexer": "ipython3",
   "version": "3.10.8"
  }
 },
 "nbformat": 4,
 "nbformat_minor": 5
}
