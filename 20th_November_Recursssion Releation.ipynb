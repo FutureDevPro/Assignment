{
 "cells": [
  {
   "cell_type": "markdown",
   "metadata": {},
   "source": [
    "1. Find the value of T(2) for the recurrence relation T(n) = 3T(n-1) + 12n, given that T(0)=5."
   ]
  },
  {
   "cell_type": "markdown",
   "metadata": {},
   "source": [
    "* Find T(1):\n",
    "   * Substitute n = 1 into the recurrence relation:\n",
    "     T(1) = 3T(1-1) + 12(1)\n",
    "     T(1) = 3T(0) + 12\n",
    "   * We know T(0) = 5, so:\n",
    "     T(1) = 3(5) + 12\n",
    "     T(1) = 15 + 12\n",
    "     T(1) = 27\n",
    " * Find T(2):\n",
    "   * Substitute n = 2 into the recurrence relation:\n",
    "     T(2) = 3T(2-1) + 12(2)\n",
    "     T(2) = 3T(1) + 24\n",
    "   * We found T(1) = 27, so:\n",
    "     T(2) = 3(27) + 24\n",
    "     T(2) = 81 + 24\n",
    "     T(2) = 105\n",
    "Therefore, the value of T(2) is 105."
   ]
  },
  {
   "cell_type": "markdown",
   "metadata": {},
   "source": [
    "2. Given a recurrence relation, solve it using the substitution method:\n"
   ]
  },
  {
   "cell_type": "markdown",
   "metadata": {},
   "source": [
    "a. T(n) = T(n-1) + c\n"
   ]
  },
  {
   "cell_type": "markdown",
   "metadata": {},
   "source": [
    " * T(n) = T(n-1) + c\n",
    " * T(n-1) = T(n-2) + c\n",
    " * T(n-2) = T(n-3) + c\n",
    " * ...\n",
    " * T(1) = T(0) + c  (Let's assume T(0) is a constant, say 'a')\n",
    "Now, substitute backwards:\n",
    " * T(n) = T(n-1) + c = (T(n-2) + c) + c = T(n-2) + 2c\n",
    " * T(n) = T(n-2) + 2c = (T(n-3) + c) + 2c = T(n-3) + 3c\n",
    "We can see a pattern emerging:\n",
    " * T(n) = T(n-k) + kc\n",
    "When k = n, we have:\n",
    " * T(n) = T(n-n) + nc = T(0) + nc = a + nc\n",
    "\n",
    "Therefore, T(n) = Θ(n) (linear time complexity)."
   ]
  },
  {
   "cell_type": "markdown",
   "metadata": {},
   "source": [
    "b. T(n) = 2T(n/2) + n\n"
   ]
  },
  {
   "cell_type": "markdown",
   "metadata": {},
   "source": [
    "Assume T(n) = kn log n (where k is a constant)\n",
    " * T(n/2) = k(n/2) log (n/2) = (kn/2) (log n - log 2) = (kn/2) (log n - 1)\n",
    "Substitute T(n/2) back into the original equation:\n",
    " * T(n) = 2 * (kn/2) (log n - 1) + n\n",
    " * T(n) = kn log n - kn + n\n",
    "\n",
    "For large n, the -kn + n term becomes insignificant compared to kn log n.\n",
    "\n",
    "Therefore, T(n) = Θ(n log n) (log-linear time complexity)."
   ]
  },
  {
   "cell_type": "markdown",
   "metadata": {},
   "source": [
    "c. T(n) = 2T(n/2) + c\n"
   ]
  },
  {
   "cell_type": "markdown",
   "metadata": {},
   "source": [
    "Assume T(n) = k log n (where k is a constant)\n",
    " * T(n/2) = k log (n/2) = k (log n - log 2) = k (log n - 1)\n",
    "Substitute T(n/2) back into the original equation:\n",
    " * T(n) = 2 * k (log n - 1) + c\n",
    " * T(n) = 2k log n - 2k + c\n",
    "\n",
    "For large n, the -2k + c term becomes insignificant compared to 2k log n.\n",
    "\n",
    "\n",
    "Therefore, T(n) = Θ(log n) (logarithmic time complexity)."
   ]
  },
  {
   "cell_type": "markdown",
   "metadata": {},
   "source": [
    "d. T(n) = T(n/2) + c"
   ]
  },
  {
   "cell_type": "markdown",
   "metadata": {},
   "source": [
    "Assume T(n) = k log n (where k is a constant)\n",
    " * T(n/2) = k log (n/2) = k (log n - log 2) = k (log n - 1)\n",
    "Substitute T(n/2) back into the original equation:\n",
    " * T(n) = k (log n - 1) + c\n",
    " * T(n) = k log n - k + c\n",
    "\n",
    "For large n, the -k + c term becomes insignificant compared to k log n.\n",
    "\n",
    "\n",
    "Therefore, T(n) = Θ(log n) (logarithmic time complexity)."
   ]
  },
  {
   "cell_type": "markdown",
   "metadata": {},
   "source": [
    "3. Given a recurrence relation, solve it using the recursive tree approach:\n"
   ]
  },
  {
   "cell_type": "markdown",
   "metadata": {},
   "source": [
    "a. T(n) = 2T(n-1) +1\n"
   ]
  },
  {
   "cell_type": "markdown",
   "metadata": {},
   "source": [
    "Recursive Tree:\n",
    " * Level 0: Root node has cost 1 (the \"+1\" term).\n",
    " * Level 1: Two subproblems, each T(n-1), each with cost 1.\n",
    " * Level 2: Four subproblems, each T(n-2), each with cost 1.\n",
    " * Level k: 2^k subproblems, each T(n-k), each with cost 1.\n",
    "Analysis:\n",
    " * The tree goes down until we reach T(1) or T(0), which we'll assume is a constant.  Let's say the base case is T(1).\n",
    " * The depth of the tree is 'n-1' (since we subtract 1 at each level).\n",
    " * The total cost is the sum of costs at each level:\n",
    "   * 1 + 2 + 4 + ... + 2^(n-1) = 2^n - 1\n",
    "Therefore, T(n) = Θ(2^n) (exponential time complexity)."
   ]
  },
  {
   "cell_type": "markdown",
   "metadata": {},
   "source": [
    "b. T(n) = 2T(n/2) + n"
   ]
  },
  {
   "cell_type": "markdown",
   "metadata": {},
   "source": [
    "Recursive Tree:\n",
    " * Level 0: Root node has cost 'n'.\n",
    " * Level 1: Two subproblems, each T(n/2), each with cost n/2.\n",
    " * Level 2: Four subproblems, each T(n/4), each with cost n/4.\n",
    " * Level k: 2^k subproblems, each T(n/2^k), each with cost n/2^k.\n",
    "Analysis:\n",
    " * The tree goes down until we reach T(1).\n",
    " * The depth of the tree is log₂(n) (since we divide by 2 at each level).\n",
    " * The total cost at each level is:\n",
    "   * Level 0: n\n",
    "   * Level 1: 2 * (n/2) = n\n",
    "   * Level 2: 4 * (n/4) = n\n",
    "   * Level k: 2^k * (n/2^k) = n\n",
    " * Since each level has a cost of 'n', and there are log₂(n) levels, the total cost is:\n",
    "   * n * log₂(n)\n",
    "Therefore, T(n) = Θ(n log n) (log-linear time complexity)."
   ]
  }
 ],
 "metadata": {
  "kernelspec": {
   "display_name": "Python 3",
   "language": "python",
   "name": "python3"
  },
  "language_info": {
   "codemirror_mode": {
    "name": "ipython",
    "version": 3
   },
   "file_extension": ".py",
   "mimetype": "text/x-python",
   "name": "python",
   "nbconvert_exporter": "python",
   "pygments_lexer": "ipython3",
   "version": "3.12.0"
  }
 },
 "nbformat": 4,
 "nbformat_minor": 2
}
