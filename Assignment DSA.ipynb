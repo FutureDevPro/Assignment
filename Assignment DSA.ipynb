{
  "cells": [
    {
      "cell_type": "code",
      "execution_count": null,
      "metadata": {
        "id": "7wclpUrulsLT"
      },
      "outputs": [],
      "source": [
        "#Problem 1\n",
        "\n",
        "'''\n",
        "   O(n2)\n",
        "'''"
      ]
    },
    {
      "cell_type": "code",
      "execution_count": null,
      "metadata": {
        "id": "G5-8f6C9lzk3"
      },
      "outputs": [],
      "source": [
        "#Problem 2\n",
        "\n",
        "'''\n",
        "   O(n2)\n",
        "\n",
        "'''"
      ]
    },
    {
      "cell_type": "code",
      "execution_count": null,
      "metadata": {
        "id": "1neE1H9jmIZ-"
      },
      "outputs": [],
      "source": [
        "#Problem 3\n",
        "\n",
        "'''\n",
        "   O(n)\n",
        "\n",
        "'''"
      ]
    },
    {
      "cell_type": "code",
      "execution_count": null,
      "metadata": {
        "id": "ViiI23O6mN26"
      },
      "outputs": [],
      "source": [
        "#Problem 4\n",
        "\n",
        "'''\n",
        "   O(n2)\n",
        "\n",
        "'''"
      ]
    },
    {
      "cell_type": "code",
      "execution_count": null,
      "metadata": {
        "id": "FtOQ35KDmThy"
      },
      "outputs": [],
      "source": [
        "# Problem 5\n",
        "'''\n",
        "   O(n2)\n",
        "\n",
        "'''"
      ]
    },
    {
      "cell_type": "code",
      "execution_count": 1,
      "metadata": {
        "colab": {
          "base_uri": "https://localhost:8080/"
        },
        "id": "lkOPSOVRmh9D",
        "outputId": "8c869ebd-46f3-40fc-fcc1-1b3176624634"
      },
      "outputs": [
        {
          "name": "stdout",
          "output_type": "stream",
          "text": [
            "Sum of digits in 7654321 is 28\n"
          ]
        }
      ],
      "source": [
        "# Problem 6\n",
        "\n",
        "def sum_of_digit( n ):\n",
        "    if n == 0:\n",
        "        return 0\n",
        "    return (n % 10 + sum_of_digit(int(n / 10)))\n",
        "\n",
        "num = 7654321\n",
        "result = sum_of_digit(num)\n",
        "print(\"Sum of digits in\",num,\"is\", result)"
      ]
    },
    {
      "cell_type": "code",
      "execution_count": 2,
      "metadata": {
        "colab": {
          "base_uri": "https://localhost:8080/"
        },
        "id": "TwTBYuwZm5sa",
        "outputId": "d39bbf28-51e4-407d-d666-170cd4e4ce6b"
      },
      "outputs": [
        {
          "name": "stdout",
          "output_type": "stream",
          "text": [
            "0 1 1 2 3 5 8 13 21 34 "
          ]
        }
      ],
      "source": [
        "# Problem 7\n",
        "def fibonacci_numbers(num):\n",
        "    if num == 0:\n",
        "        return 0\n",
        "    elif num == 1:\n",
        "        return 1\n",
        "    else:\n",
        "\n",
        "        return fibonacci_numbers(num-2)+fibonacci_numbers(num-1)\n",
        "\n",
        "n = 10\n",
        "for i in range(0, n):\n",
        "    print(fibonacci_numbers(i), end=\" \")"
      ]
    },
    {
      "cell_type": "code",
      "execution_count": 3,
      "metadata": {
        "colab": {
          "base_uri": "https://localhost:8080/"
        },
        "id": "OcR3CuDAnH5K",
        "outputId": "0bf549e5-51da-445e-b9af-4db103359bbc"
      },
      "outputs": [
        {
          "name": "stdout",
          "output_type": "stream",
          "text": [
            "False\n"
          ]
        }
      ],
      "source": [
        "# Problem 8 \n",
        "def isSubsetSum(set, n, sum):\n",
        "\n",
        "    if (sum == 0):\n",
        "        return True\n",
        "    if (n == 0):\n",
        "        return False\n",
        "\n",
        "    if (set[n - 1] > sum):\n",
        "        return isSubsetSum(set, n - 1, sum)\n",
        "    \n",
        "    return isSubsetSum(\n",
        "        set, n-1, sum) or isSubsetSum(\n",
        "        set, n-1, sum-set[n-1])\n",
        "\n",
        "print(isSubsetSum([34,53,76,5,23,98,2], 7 , 211))"
      ]
    },
    {
      "cell_type": "code",
      "execution_count": 4,
      "metadata": {
        "colab": {
          "base_uri": "https://localhost:8080/"
        },
        "id": "Z-ftI4gHnf6s",
        "outputId": "f281cf35-9215-4995-fbfe-2b77baa2809b"
      },
      "outputs": [
        {
          "name": "stdout",
          "output_type": "stream",
          "text": [
            "True\n"
          ]
        }
      ],
      "source": [
        "# Problem 9\n",
        "\n",
        "def wordBreak(wordList, word):\n",
        "    if word == '':\n",
        "        return True\n",
        "    else:\n",
        "        wordLen = len(word)\n",
        "        for i in range(1,wordLen+1):\n",
        "          if word[:i] in wordList and wordBreak(wordList, word[i:]):\n",
        "            return True\n",
        "        return False\n",
        "\n",
        "print(wordBreak( [\"leet\", \"code\"], \"leetcode\"))\n"
      ]
    },
    {
      "cell_type": "code",
      "execution_count": 6,
      "metadata": {
        "colab": {
          "base_uri": "https://localhost:8080/"
        },
        "id": "ZZaLf8iOFt5e",
        "outputId": "bf695ef5-cf56-416b-dee7-a4b8c2c8aa01"
      },
      "outputs": [
        {
          "name": "stdout",
          "output_type": "stream",
          "text": [
            ". . Q . \n",
            "Q . . . \n",
            ". . . Q \n",
            ". Q . . \n"
          ]
        }
      ],
      "source": [
        "# Problem 10\n",
        "\n",
        "def isSafeToPlaceQueen(board , row , col , n):\n",
        "\n",
        "  # Check in the left side\n",
        "  for i in range(col):\n",
        "    if board[row][i]==1 :\n",
        "      return False\n",
        "\n",
        "  #Check in the upper left diagonal\n",
        "  for i, j in zip(range(row,-1,-1),range(col,-1,-1)):\n",
        "    if board[i][j] ==1:\n",
        "      return False\n",
        "\n",
        "  #Check in the lower left diagonal\n",
        "  for i,j in zip(range(row,n,1 ), range(col, -1,-1)):\n",
        "    if board[i][j]==1:\n",
        "      return False\n",
        "\n",
        "  return True\n",
        "\n",
        "\n",
        "def solveNQ(board,n):\n",
        "\n",
        "  if not solveNQUtil(board,0,n):\n",
        "    print(\"Solution doesn't exist\")\n",
        "    return\n",
        "\n",
        "  printBoard(board,n)\n",
        "\n",
        "# Should return True if we are able to place all the queens\n",
        "def solveNQUtil(board , col , n):\n",
        "  if(col >=n): #Base condition\n",
        "    return True  # Means we have bee able to put queens in all the columns\n",
        "\n",
        "  # Check for all the rows\n",
        "  for row in range(n) :\n",
        "    if isSafeToPlaceQueen(board,row,col, n) :\n",
        "      board[row][col]= 1 #Set the queen\n",
        "\n",
        "      #Recursively try for the next columns\n",
        "      if solveNQUtil(board,col+1,n):\n",
        "        return True\n",
        "      #Back Tracking\n",
        "      board[row][col]= 0 # Queen can't be set here\n",
        "\n",
        "  return False #Won't be able to place the queen\n",
        "\n",
        "\n",
        "def printBoard(board,n):\n",
        "  for i in range(n):\n",
        "    for j in range(n):\n",
        "      if board[i][j]==1 :\n",
        "        print(\"Q\",end=\" \")\n",
        "      else :\n",
        "        print(\".\",end=\" \")\n",
        "    print()\n",
        "\n",
        "board = [[0,0,0,0],\n",
        "         [0,0,0,0],\n",
        "         [0,0,0,0],\n",
        "         [0,0,0,0]]\n",
        "\n",
        "solveNQ(board,4)"
      ]
    },
    {
      "cell_type": "code",
      "execution_count": null,
      "metadata": {},
      "outputs": [],
      "source": []
    }
  ],
  "metadata": {
    "colab": {
      "provenance": []
    },
    "kernelspec": {
      "display_name": "Python 3",
      "name": "python3"
    },
    "language_info": {
      "codemirror_mode": {
        "name": "ipython",
        "version": 3
      },
      "file_extension": ".py",
      "mimetype": "text/x-python",
      "name": "python",
      "nbconvert_exporter": "python",
      "pygments_lexer": "ipython3",
      "version": "3.12.0"
    }
  },
  "nbformat": 4,
  "nbformat_minor": 0
}
