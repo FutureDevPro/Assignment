{
 "cells": [
  {
   "cell_type": "markdown",
   "id": "6abdd4df",
   "metadata": {},
   "source": [
    "1. What is a Web API\n"
   ]
  },
  {
   "cell_type": "markdown",
   "id": "470a3c16",
   "metadata": {},
   "source": [
    "A Web API (Application Programming Interface) is a set of rules and protocols that allows different software applications to communicate with each other over the web using HTTP. It enables client applications (like browsers or mobile apps) to interact with server-side services or data."
   ]
  },
  {
   "cell_type": "markdown",
   "id": "ce3a981f",
   "metadata": {},
   "source": [
    "2. How does a Web API differ from a web service\n"
   ]
  },
  {
   "cell_type": "markdown",
   "id": "09013ee2",
   "metadata": {},
   "source": [
    "| Feature     | Web API                       | Web Service               |\n",
    "| ----------- | ----------------------------- | ------------------------- |\n",
    "| Protocol    | Usually uses HTTP/HTTPS       | Often uses SOAP over HTTP |\n",
    "| Format      | JSON, XML, or other formats   | Usually XML               |\n",
    "| Flexibility | More flexible and lightweight | Heavier and more rigid    |\n",
    "| Examples    | RESTful APIs, GraphQL         | SOAP, XML-RPC             |\n",
    "\n",
    "    Web API is a broader term, while Web Service is a specific kind of API that adheres to specific standards like SOAP.\n"
   ]
  },
  {
   "cell_type": "markdown",
   "id": "32645f2e",
   "metadata": {},
   "source": [
    "3. What are the benefits of using Web APIs in software development\n"
   ]
  },
  {
   "cell_type": "markdown",
   "id": "ee6c58a9",
   "metadata": {},
   "source": [
    "Interoperability between systems\n",
    "\n",
    "Separation of concerns (frontend vs backend)\n",
    "\n",
    "Scalability and easier updates\n",
    "\n",
    "Reusability across multiple platforms\n",
    "\n",
    "Faster development through modular services"
   ]
  },
  {
   "cell_type": "markdown",
   "id": "d335e91d",
   "metadata": {},
   "source": [
    "4. Explain the difference between SOAP and RESTful APIs\n"
   ]
  },
  {
   "cell_type": "markdown",
   "id": "28b6fa31",
   "metadata": {},
   "source": [
    "| Feature     | SOAP                            | RESTful API            |\n",
    "| ----------- | ------------------------------- | ---------------------- |\n",
    "| Protocol    | Strict protocol (SOAP)          | Uses HTTP methods      |\n",
    "| Format      | XML only                        | JSON, XML, etc.        |\n",
    "| Flexibility | Less flexible, more verbose     | Lightweight and faster |\n",
    "| State       | Stateful                        | Stateless              |\n",
    "| Usage       | Enterprise apps (banking, etc.) | Web/mobile apps        |\n",
    "\n",
    "\n"
   ]
  },
  {
   "cell_type": "markdown",
   "id": "02f2f06e",
   "metadata": {},
   "source": [
    "5. What is JSON and how is it commonly used in Web APIs\n"
   ]
  },
  {
   "cell_type": "markdown",
   "id": "1198e21e",
   "metadata": {},
   "source": [
    "JSON (JavaScript Object Notation) is a lightweight data-interchange format that's easy to read and write for humans and easy to parse for machines.\n",
    "In Web APIs, JSON is used to structure request and response data, especially in RESTful APIs."
   ]
  },
  {
   "cell_type": "markdown",
   "id": "779324a7",
   "metadata": {},
   "source": [
    "6. Can you name some popular Web API protocols other than REST\n"
   ]
  },
  {
   "cell_type": "markdown",
   "id": "42455dda",
   "metadata": {},
   "source": [
    "SOAP – XML-based protocol\n",
    "\n",
    "GraphQL – Query-based API by Facebook\n",
    "\n",
    "gRPC – High-performance RPC protocol by Google\n",
    "\n",
    "OData – Protocol for querying and updating data\n",
    "\n",
    "WebSockets – For real-time, bidirectional communication"
   ]
  },
  {
   "cell_type": "markdown",
   "id": "45a9b236",
   "metadata": {},
   "source": [
    "7. What role do HTTP methods (GET, POST, PUT, DELETE, etc.) play in Web API development\n"
   ]
  },
  {
   "cell_type": "markdown",
   "id": "68068f5e",
   "metadata": {},
   "source": [
    "    HTTP methods define the type of operation a client wants to perform:\n",
    "\n",
    "GET – Retrieve data\n",
    "\n",
    "POST – Create new data\n",
    "\n",
    "PUT – Update existing data\n",
    "\n",
    "DELETE – Remove data\n",
    "\n",
    "PATCH – Partial update\n",
    "They support CRUD operations in RESTful APIs."
   ]
  },
  {
   "cell_type": "markdown",
   "id": "e1a2d334",
   "metadata": {},
   "source": [
    "8. What is the purpose of authentication and authorization in Web APIs\n"
   ]
  },
  {
   "cell_type": "markdown",
   "id": "93d1e6b8",
   "metadata": {},
   "source": [
    "Authentication: Verifies who the user is (e.g., using API keys, OAuth, JWT).\n",
    "\n",
    "Authorization: Determines what the authenticated user is allowed to do.\n",
    "This ensures security, prevents unauthorized access, and maintains data integrity."
   ]
  },
  {
   "cell_type": "markdown",
   "id": "5ab0f36c",
   "metadata": {},
   "source": [
    "9. How can you handle versioning in Web API development\n"
   ]
  },
  {
   "cell_type": "markdown",
   "id": "a98b360e",
   "metadata": {},
   "source": [
    "URI Versioning: /api/v1/resource\n",
    "\n",
    "Header Versioning: Accept: application/vnd.api+json; version=2\n",
    "\n",
    "Query Parameters: /resource?version=1\n",
    "\n",
    "Content Negotiation: Via Accept and Content-Type headers\n",
    "\n",
    "Versioning allows backward compatibility and controlled upgrades."
   ]
  },
  {
   "cell_type": "markdown",
   "id": "985d9913",
   "metadata": {},
   "source": [
    "10. What are the main components of an HTTP request and response in the context of Web APIs"
   ]
  },
  {
   "cell_type": "markdown",
   "id": "6388936c",
   "metadata": {},
   "source": [
    "    HTTP Request:\n",
    "\n",
    "Method: GET, POST, PUT, DELETE\n",
    "\n",
    "URL: Endpoint to access the resource\n",
    "\n",
    "Headers: Metadata (e.g., Content-Type, Authorization)\n",
    "\n",
    "Body: Data sent to the server (usually in POST/PUT)\n",
    "\n",
    "    HTTP Response:\n",
    "\n",
    "Status Code: Indicates result (e.g., 200 OK, 404 Not Found)\n",
    "\n",
    "Headers: Metadata (e.g., Content-Type)\n",
    "\n",
    "Body: Returned data (e.g., JSON response)\n",
    "\n"
   ]
  },
  {
   "cell_type": "markdown",
   "id": "bbf99d71",
   "metadata": {},
   "source": [
    "11. Describe the concept of rate limiting in the context of Web APIs \n"
   ]
  },
  {
   "cell_type": "markdown",
   "id": "debc53b0",
   "metadata": {},
   "source": [
    "Rate limiting restricts the number of API requests a client can make within a specific time window.\n",
    "\n",
    "    It helps:\n",
    "\n",
    "Prevent abuse and denial-of-service attacks\n",
    "\n",
    "Protect server resources\n",
    "\n",
    "Ensure fair usage across users\n",
    "\n",
    "    Example: Limit: 100 requests per minute per user."
   ]
  },
  {
   "cell_type": "markdown",
   "id": "496ab5ea",
   "metadata": {},
   "source": [
    "12. How can you handle errors and exceptions in Web API responses \n"
   ]
  },
  {
   "cell_type": "markdown",
   "id": "756d46a1",
   "metadata": {},
   "source": [
    "    Standard error handling includes:\n",
    "\n",
    "HTTP status codes (e.g., 400 Bad Request, 401 Unauthorized, 404 Not Found, 500 Internal Server Error)\n",
    "\n",
    "Consistent error messages in the response body (usually in JSON)\n",
    "\n",
    "Error logging on the server side\n",
    "\n",
    "Validation of input data to catch issues early\n",
    "\n",
    "    Example JSON error response:\n",
    "{\n",
    "    \n",
    "  \"status\": 400,\n",
    "\n",
    "  \"error\": \"Invalid input\",\n",
    "\n",
    "  \"message\": \"Email field is required\"\n",
    "\n",
    "}"
   ]
  },
  {
   "cell_type": "markdown",
   "id": "09ca9f31",
   "metadata": {},
   "source": [
    "13. Explain the concept of statelessness in RESTful Web APIs \n",
    "|"
   ]
  },
  {
   "cell_type": "markdown",
   "id": "ca6d128b",
   "metadata": {},
   "source": [
    "    In REST, statelessness means:\n",
    "\n",
    "Each API call is independent.\n",
    "\n",
    "The server does not store client state between requests.\n",
    "\n",
    "All required data (like authentication or session info) must be sent with every request.\n",
    "\n",
    "    This makes REST scalable and simplifies server design."
   ]
  },
  {
   "cell_type": "markdown",
   "id": "9462a5f7",
   "metadata": {},
   "source": [
    "14. What are the best practices for designing and documenting Web APIs \n"
   ]
  },
  {
   "cell_type": "markdown",
   "id": "b1c8b05a",
   "metadata": {},
   "source": [
    "Use RESTful conventions (GET, POST, PUT, DELETE)\n",
    "\n",
    "Use nouns, not verbs in endpoints (e.g., /users not /getUsers)\n",
    "\n",
    "Version your APIs from the start (e.g., /api/v1/)\n",
    "\n",
    "Use consistent naming and response structure\n",
    "\n",
    "Return appropriate HTTP status codes\n",
    "\n",
    "Secure your APIs (auth, rate limiting, etc.)\n",
    "\n",
    "Document using tools like Swagger (OpenAPI), Postman, or Redoc"
   ]
  },
  {
   "cell_type": "markdown",
   "id": "1f8822d6",
   "metadata": {},
   "source": [
    "15. What role do API keys and tokens play in securing Web APIs \n"
   ]
  },
  {
   "cell_type": "markdown",
   "id": "7aa48328",
   "metadata": {},
   "source": [
    "API Keys: Identify the calling application; simple, but less secure.\n",
    "\n",
    "Tokens (e.g., OAuth2, JWT): Authenticated and often time-limited; offer better security.\n",
    "\n",
    "    They help with:\n",
    "\n",
    "Authentication: Who are you?\n",
    "\n",
    "Authorization: What can you do?\n",
    "\n",
    "Rate limiting and monitoring usage"
   ]
  },
  {
   "cell_type": "markdown",
   "id": "f4a4b7f6",
   "metadata": {},
   "source": [
    "16. What is REST, and what are its key principles \n"
   ]
  },
  {
   "cell_type": "markdown",
   "id": "295212d3",
   "metadata": {},
   "source": [
    "REST (Representational State Transfer) is an architectural style for designing networked applications.\n",
    "\n",
    "    Key principles:\n",
    "\n",
    "Statelessness\n",
    "\n",
    "Client-Server architecture\n",
    "\n",
    "Cacheability\n",
    "\n",
    "Uniform interface\n",
    "\n",
    "Layered system\n",
    "\n",
    "Resource-based URIs\n",
    "\n"
   ]
  },
  {
   "cell_type": "markdown",
   "id": "d0ee0202",
   "metadata": {},
   "source": [
    "17. Explain the difference between RESTful APIs and traditional web services \n"
   ]
  },
  {
   "cell_type": "markdown",
   "id": "6bbe6d8d",
   "metadata": {},
   "source": [
    "| Feature       | RESTful APIs           | Traditional Web Services (SOAP)   |\n",
    "| ------------- | ---------------------- | --------------------------------- |\n",
    "| Protocol      | HTTP                   | SOAP over HTTP or other protocols |\n",
    "| Format        | JSON, XML              | XML only                          |\n",
    "| Complexity    | Simple and lightweight | Complex with strict contracts     |\n",
    "| Flexibility   | High                   | Limited                           |\n",
    "| Statelessness | Yes                    | Often stateful                    |\n"
   ]
  },
  {
   "cell_type": "markdown",
   "id": "7a4521b9",
   "metadata": {},
   "source": [
    "18. Describe the concept of statelessness in RESTful APIs \n"
   ]
  },
  {
   "cell_type": "markdown",
   "id": "ae3a6a4f",
   "metadata": {},
   "source": [
    "    RESTful APIs are stateless, meaning:\n",
    "\n",
    "Each request from client to server must contain all the information needed to understand and process it.\n",
    "\n",
    "No session or context is stored on the server between requests."
   ]
  },
  {
   "cell_type": "markdown",
   "id": "f04228ac",
   "metadata": {},
   "source": [
    "19. What are the main HTTP methods used in RESTful architecture, and what are their purposes \n"
   ]
  },
  {
   "cell_type": "markdown",
   "id": "a74f2e94",
   "metadata": {},
   "source": [
    "GET – Retrieve a resource (e.g., get user data)\n",
    "\n",
    "POST – Create a new resource (e.g., add new user)\n",
    "\n",
    "PUT – Update an entire resource\n",
    "\n",
    "PATCH – Partially update a resource\n",
    "\n",
    "DELETE – Remove a resource\n",
    "\n",
    "OPTIONS – Returns supported methods for a resource\n",
    "\n",
    "    These map directly to CRUD operations."
   ]
  },
  {
   "cell_type": "markdown",
   "id": "9157a434",
   "metadata": {},
   "source": [
    "20. What is the significance of URIs (Uniform Resource Identifiers) in RESTful API design"
   ]
  },
  {
   "cell_type": "markdown",
   "id": "c6d552f5",
   "metadata": {},
   "source": [
    "    In REST:\n",
    "\n",
    "URIs uniquely identify resources, not actions.\n",
    "\n",
    "URIs should be clear, predictable, and resource-based.\n",
    "\n",
    "    Examples:\n",
    "\n",
    "/users/123 – good RESTful design\n",
    "\n",
    "/getUserById?id=123 – action-oriented (less RESTful)\n",
    "\n",
    "    URIs are central to routing and clarity in RESTful architecture.\n",
    "\n"
   ]
  },
  {
   "cell_type": "markdown",
   "id": "d835e437",
   "metadata": {},
   "source": [
    "21. Explain the role of hypermedia in RESTful APIs. How does it relate to HATEOAS \n"
   ]
  },
  {
   "cell_type": "markdown",
   "id": "8d2b171d",
   "metadata": {},
   "source": [
    "Hypermedia is data that contains links to other resources.\n",
    "\n",
    "HATEOAS (Hypermedia As The Engine Of Application State) is a REST constraint where the server provides navigational links in the response so the client knows what actions are available next.\n",
    "\n",
    "    Example:\n"
   ]
  },
  {
   "cell_type": "code",
   "execution_count": null,
   "id": "5e257fec",
   "metadata": {},
   "outputs": [],
   "source": [
    "{\n",
    "  \"user\": {\n",
    "    \"id\": 1,\n",
    "    \"name\": \"Udit\",\n",
    "    \"links\": [\n",
    "      { \"rel\": \"self\", \"href\": \"/users/1\" },\n",
    "      { \"rel\": \"orders\", \"href\": \"/users/1/orders\" }\n",
    "    ]\n",
    "  }\n",
    "}"
   ]
  },
  {
   "cell_type": "markdown",
   "id": "3b80d95d",
   "metadata": {},
   "source": [
    "    This allows dynamic discovery of actions, improving decoupling between client and server.\n"
   ]
  },
  {
   "cell_type": "markdown",
   "id": "a683d5dc",
   "metadata": {},
   "source": [
    "22. What are the benefits of using RESTful APIs over other architectural styles \n"
   ]
  },
  {
   "cell_type": "markdown",
   "id": "fec77f47",
   "metadata": {},
   "source": [
    "Simplicity (uses HTTP)\n",
    "\n",
    "Statelessness improves scalability\n",
    "\n",
    "Language-agnostic (works across platforms)\n",
    "\n",
    "Flexible format support (JSON, XML, etc.)\n",
    "\n",
    "Cacheable responses\n",
    "\n",
    "Wide adoption and community support"
   ]
  },
  {
   "cell_type": "markdown",
   "id": "100230fd",
   "metadata": {},
   "source": [
    "23. Discuss the concept of resource representations in RESTful APIs \n"
   ]
  },
  {
   "cell_type": "markdown",
   "id": "860a9383",
   "metadata": {},
   "source": [
    "A resource (e.g., a user, order, product) can have multiple representations, such as:\n",
    "\n",
    "JSON (default for most REST APIs)\n",
    "\n",
    "XML, YAML, HTML, etc.\n",
    "\n",
    "    The representation is what’s sent to and from the client, not the resource itself. Clients use Accept headers to request a specific format:\n",
    "\n",
    "Accept: application/json"
   ]
  },
  {
   "cell_type": "markdown",
   "id": "522365eb",
   "metadata": {},
   "source": [
    "24. How does REST handle communication between clients and servers \n"
   ]
  },
  {
   "cell_type": "markdown",
   "id": "7fe6db60",
   "metadata": {},
   "source": [
    "Communication is over HTTP\n",
    "\n",
    "REST uses stateless requests\n",
    "\n",
    "The client sends requests with all required data\n",
    "\n",
    "The server processes and responds with a resource representation\n",
    "\n",
    "It’s asynchronous, scalable, and platform-independent"
   ]
  },
  {
   "cell_type": "markdown",
   "id": "2f8e996a",
   "metadata": {},
   "source": [
    "25. What are the common data formats used in RESTful API communication \n"
   ]
  },
  {
   "cell_type": "markdown",
   "id": "4d93692f",
   "metadata": {},
   "source": [
    "JSON (most common) – lightweight, human-readable\n",
    "\n",
    "XML – used in legacy systems or strict schema needs\n",
    "\n",
    "HTML – for web clients\n",
    "\n",
    "YAML, CSV, and protobuf (less common)\n",
    "\n",
    "    Content-Type and Accept headers determine format:\n",
    "\n",
    "Content-Type: application/json\n"
   ]
  },
  {
   "cell_type": "markdown",
   "id": "d4129172",
   "metadata": {},
   "source": [
    "26. Explain the importance of status codes in RESTful API responses \n"
   ]
  },
  {
   "cell_type": "markdown",
   "id": "cd6e3481",
   "metadata": {},
   "source": [
    "    Status codes:\n",
    "\n",
    "Indicate the result of a request\n",
    "\n",
    "Help the client know what happened and how to respond\n",
    "\n",
    "    Common examples:\n",
    "\n",
    "200 OK – Successful request\n",
    "\n",
    "201 Created – Resource successfully created\n",
    "\n",
    "400 Bad Request – Invalid input\n",
    "\n",
    "401 Unauthorized – Auth needed\n",
    "\n",
    "404 Not Found – Resource missing\n",
    "\n",
    "500 Internal Server Error – Server-side issue"
   ]
  },
  {
   "cell_type": "markdown",
   "id": "a559c6a2",
   "metadata": {},
   "source": [
    "27. Describe the process of versioning in RESTful API development \n"
   ]
  },
  {
   "cell_type": "markdown",
   "id": "a95a1098",
   "metadata": {},
   "source": [
    "API versioning ensures backward compatibility as APIs evolve.\n",
    "\n",
    "    Common versioning strategies:\n",
    "\n",
    "URI versioning: /api/v1/users\n",
    "\n",
    "Header versioning: Accept: application/vnd.api+json; version=2\n",
    "\n",
    "Query parameter: /users?version=1\n",
    "\n",
    "    Best practice: version from day one and document clearly."
   ]
  },
  {
   "cell_type": "markdown",
   "id": "9348f3d0",
   "metadata": {},
   "source": [
    "28. How can you ensure security in RESTful API development? What are common authentication methods?\n"
   ]
  },
  {
   "cell_type": "markdown",
   "id": "c911707e",
   "metadata": {},
   "source": [
    "    Best practices:\n",
    "\n",
    "Use HTTPS\n",
    "\n",
    "Implement Authentication & Authorization\n",
    "\n",
    "Rate limiting, input validation, and CORS controls\n",
    "\n",
    "Encrypt sensitive data\n",
    "\n",
    "    Common Authentication Methods:\n",
    "\n",
    "API Keys (simple)\n",
    "\n",
    "OAuth 2.0 (industry standard for delegated access)\n",
    "\n",
    "JWT (JSON Web Tokens) (stateless, compact)\n",
    "\n",
    "Basic Auth (base64 encoded, not secure without HTTPS)\n",
    "\n"
   ]
  },
  {
   "cell_type": "markdown",
   "id": "f6ec0068",
   "metadata": {},
   "source": [
    "29. What are some best practices for documenting RESTful APIs? \n"
   ]
  },
  {
   "cell_type": "markdown",
   "id": "c5a28921",
   "metadata": {},
   "source": [
    "Use OpenAPI (Swagger) or Postman for interactive documentation\n",
    "\n",
    "Include:\n",
    "\n",
    "        Endpoint URLs and methods\n",
    "\n",
    "        Required parameters\n",
    "\n",
    "        Sample requests/responses\n",
    "\n",
    "        Authentication requirements\n",
    "\n",
    "        Status codes and error messages\n",
    "\n",
    "Keep it up-to-date with the code\n",
    "\n",
    "Provide examples for clarity"
   ]
  },
  {
   "cell_type": "markdown",
   "id": "ecc2e2cf",
   "metadata": {},
   "source": [
    "30. What considerations should be made for error handling in RESTful APIs?"
   ]
  },
  {
   "cell_type": "markdown",
   "id": "bcb714da",
   "metadata": {},
   "source": [
    "    Best practices:\n",
    "\n",
    "Use proper HTTP status codes\n",
    "\n",
    "Return consistent error structure:"
   ]
  },
  {
   "cell_type": "code",
   "execution_count": null,
   "id": "bbe9b801",
   "metadata": {},
   "outputs": [],
   "source": [
    "{\n",
    "  \"status\": 400,\n",
    "  \"error\": \"InvalidRequest\",\n",
    "  \"message\": \"Email is required.\"\n",
    "}\n"
   ]
  },
  {
   "cell_type": "markdown",
   "id": "31fc9957",
   "metadata": {},
   "source": [
    "Avoid exposing internal server details\n",
    "\n",
    "Provide clear, actionable messages\n",
    "\n",
    "Log errors on the server for debugging\n",
    "\n",
    "Support error codes and trace IDs for tracking"
   ]
  },
  {
   "cell_type": "markdown",
   "id": "cc317bf3",
   "metadata": {},
   "source": [
    " 31. What is SOAP, and how does it differ from REST?\n"
   ]
  },
  {
   "cell_type": "markdown",
   "id": "eefb1794",
   "metadata": {},
   "source": [
    "SOAP (Simple Object Access Protocol) is a protocol used to exchange structured information in web services using XML over HTTP, SMTP, or other protocols.\n",
    "\n",
    "| Feature     | SOAP                        | REST                         |\n",
    "| ----------- | --------------------------- | ---------------------------- |\n",
    "| Protocol    | Strict protocol             | Architectural style          |\n",
    "| Format      | XML only                    | JSON, XML, etc.              |\n",
    "| Transport   | HTTP, SMTP, etc.            | HTTP only                    |\n",
    "| Security    | Built-in (WS-Security)      | Uses HTTPS & external tokens |\n",
    "| Flexibility | Less flexible, more verbose | Lightweight and flexible     |\n"
   ]
  },
  {
   "cell_type": "markdown",
   "id": "9f1da253",
   "metadata": {},
   "source": [
    " 32. Describe the structure of a SOAP message.\n"
   ]
  },
  {
   "cell_type": "markdown",
   "id": "1b9c7e7c",
   "metadata": {},
   "source": [
    "A SOAP message is an XML document with the following structure:\n",
    "\n",
    "    <soap:Envelope>\n",
    "    <soap:Header>\n",
    "        <!-- Optional metadata like authentication -->\n",
    "    </soap:Header>\n",
    "    <soap:Body>\n",
    "        <!-- Actual message/request/response -->\n",
    "    </soap:Body>\n",
    "    </soap:Envelope>\n",
    "\n",
    "Envelope: Root element\n",
    "\n",
    "Header: Optional, for metadata (auth, routing, etc.)\n",
    "\n",
    "Body: Required, contains message or fault info\n",
    "\n",
    "\n"
   ]
  },
  {
   "cell_type": "markdown",
   "id": "f87579cf",
   "metadata": {},
   "source": [
    " 33. How does SOAP handle communication between clients and servers?\n"
   ]
  },
  {
   "cell_type": "markdown",
   "id": "2c46f368",
   "metadata": {},
   "source": [
    "SOAP uses XML-based messaging over various transport protocols (typically HTTP).\n",
    "\n",
    "It defines a contract (WSDL) that clients must follow.\n",
    "\n",
    "Communication is usually synchronous, but it can also support asynchronous messaging.\n",
    "\n",
    "SOAP ensures strict validation, type safety, and extensibility."
   ]
  },
  {
   "cell_type": "markdown",
   "id": "99c66f26",
   "metadata": {},
   "source": [
    " 34. What are the advantages and disadvantages of using SOAP-based web services?\n"
   ]
  },
  {
   "cell_type": "markdown",
   "id": "976df1f2",
   "metadata": {},
   "source": [
    "    Advantages:\n",
    "\n",
    "Platform-agnostic and language-independent\n",
    "\n",
    "Built-in standards for security (WS-Security), transactions, etc.\n",
    "\n",
    "WSDL contract ensures strict typing\n",
    "\n",
    "Can use multiple transport protocols (HTTP, SMTP, etc.)\n",
    "\n",
    "    Disadvantages:\n",
    "\n",
    "Verbose due to XML\n",
    "\n",
    "Slower than REST\n",
    "\n",
    "Harder to debug and develop\n",
    "\n",
    "Complex setup and maintenance"
   ]
  },
  {
   "cell_type": "markdown",
   "id": "eb2ed23d",
   "metadata": {},
   "source": [
    " 35. How does SOAP ensure security in web service communication?\n"
   ]
  },
  {
   "cell_type": "markdown",
   "id": "6c46bbcb",
   "metadata": {},
   "source": [
    "    SOAP supports a specification called WS-Security, which includes:\n",
    "\n",
    "Message encryption (XML Encryption)\n",
    "\n",
    "Digital signatures (XML Signature)\n",
    "\n",
    "Username/password tokens\n",
    "\n",
    "Security tokens (e.g., SAML)\n",
    "\n",
    "    SOAP can enforce message-level security, making it suitable for enterprise-level apps like banking or healthcare.\n",
    "\n"
   ]
  },
  {
   "cell_type": "markdown",
   "id": "bcb1503b",
   "metadata": {},
   "source": [
    " 36. What is Flask, and what makes it different from other web frameworks?\n"
   ]
  },
  {
   "cell_type": "markdown",
   "id": "ae6bdfbb",
   "metadata": {},
   "source": [
    "Flask is a lightweight and flexible Python web framework used for building web applications and APIs.\n",
    "\n",
    "    Key features:\n",
    "\n",
    "Minimalist and modular\n",
    "\n",
    "No default ORM or form validation (unlike Django)\n",
    "\n",
    "Uses Jinja2 templating\n",
    "\n",
    "Great for microservices or small-to-medium apps"
   ]
  },
  {
   "cell_type": "markdown",
   "id": "220a6d7e",
   "metadata": {},
   "source": [
    " 37. Describe the basic structure of a Flask application.\n"
   ]
  },
  {
   "cell_type": "code",
   "execution_count": null,
   "id": "08da0101",
   "metadata": {},
   "outputs": [],
   "source": [
    "#Minimal example:\n",
    "\n",
    "from flask import Flask\n",
    "app = Flask(__name__)\n",
    "\n",
    "@app.route(\"/\")\n",
    "def home():\n",
    "    return \"Hello, Flask!\"\n",
    "\n",
    "if __name__ == \"__main__\":\n",
    "    app.run(debug=True)\n",
    "\n",
    "#Typical structure:\n",
    "\n",
    "/myapp\n",
    "  |-- app.py\n",
    "  |-- /templates\n",
    "  |     |-- home.html\n",
    "  |-- /static\n",
    "        |-- style.css\n"
   ]
  },
  {
   "cell_type": "markdown",
   "id": "9a851f7b",
   "metadata": {},
   "source": [
    " 38. How do you install Flask on your local machine?\n"
   ]
  },
  {
   "cell_type": "code",
   "execution_count": null,
   "id": "a80c53b0",
   "metadata": {},
   "outputs": [],
   "source": [
    "#Using pip (Python package manager):\n",
    "\n",
    "pip install Flask\n",
    "\n",
    "#Create a virtual environment (recommended):\n",
    "\n",
    "python -m venv venv\n",
    "source venv/bin/activate     # Linux/macOS\n",
    "venv\\Scripts\\activate.bat    # Windows\n",
    "pip install Flask\n"
   ]
  },
  {
   "cell_type": "markdown",
   "id": "9a0168b0",
   "metadata": {},
   "source": [
    " 39. Explain the concept of routing in Flask.\n",
    " "
   ]
  },
  {
   "cell_type": "markdown",
   "id": "15c0846a",
   "metadata": {},
   "source": [
    "Routing maps a URL path to a specific function (called a view).\n",
    "\n",
    "    Example:"
   ]
  },
  {
   "cell_type": "code",
   "execution_count": null,
   "id": "773f9273",
   "metadata": {},
   "outputs": [],
   "source": [
    "@app.route('/about')\n",
    "def about():\n",
    "    return \"This is the About page\"\n"
   ]
  },
  {
   "cell_type": "markdown",
   "id": "233fe540",
   "metadata": {},
   "source": [
    "You define routes using the @app.route() decorator.\n",
    "\n",
    "Flask also supports dynamic routes:"
   ]
  },
  {
   "cell_type": "code",
   "execution_count": null,
   "id": "97a863f4",
   "metadata": {},
   "outputs": [],
   "source": [
    "@app.route('/user/<username>')\n",
    "def profile(username):\n",
    "    return f\"Hello, {username}!\"\n"
   ]
  },
  {
   "cell_type": "markdown",
   "id": "5920aab8",
   "metadata": {},
   "source": [
    "40. What are Flask templates, and how are they used in web development?"
   ]
  },
  {
   "cell_type": "markdown",
   "id": "5c58cddd",
   "metadata": {},
   "source": [
    "Templates in Flask (using Jinja2) let you create dynamic HTML with placeholders for variables and logic.\n",
    "\n",
    "    Example (templates/home.html):"
   ]
  },
  {
   "cell_type": "code",
   "execution_count": null,
   "id": "659e1d49",
   "metadata": {},
   "outputs": [],
   "source": [
    "<h1>Welcome {{ name }}!</h1>\n"
   ]
  },
  {
   "cell_type": "code",
   "execution_count": null,
   "id": "08f35ea0",
   "metadata": {},
   "outputs": [],
   "source": [
    "#In your Flask app:\n",
    "\n",
    "from flask import render_template\n",
    "\n",
    "@app.route(\"/home\")\n",
    "def home():\n",
    "    return render_template(\"home.html\", name=\"Udit\")\n"
   ]
  },
  {
   "cell_type": "markdown",
   "id": "595fcbf4",
   "metadata": {},
   "source": [
    "    This separates logic (Python) from presentation (HTML), improving code organization and reusability."
   ]
  }
 ],
 "metadata": {
  "kernelspec": {
   "display_name": "Python 3",
   "language": "python",
   "name": "python3"
  },
  "language_info": {
   "codemirror_mode": {
    "name": "ipython",
    "version": 3
   },
   "file_extension": ".py",
   "mimetype": "text/x-python",
   "name": "python",
   "nbconvert_exporter": "python",
   "pygments_lexer": "ipython3",
   "version": "3.12.0"
  }
 },
 "nbformat": 4,
 "nbformat_minor": 5
}
